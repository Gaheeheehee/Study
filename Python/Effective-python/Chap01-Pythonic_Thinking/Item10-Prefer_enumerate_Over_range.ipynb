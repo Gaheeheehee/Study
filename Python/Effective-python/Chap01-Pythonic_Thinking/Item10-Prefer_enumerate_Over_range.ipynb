{
 "cells": [
  {
   "cell_type": "markdown",
   "metadata": {},
   "source": [
    "## BETTER WAY 10 - `range` 보다는 `enumerate`를 사용하자\n",
    "## Item10 - Prefer `enumerate` Over `range`"
   ]
  },
  {
   "cell_type": "markdown",
   "metadata": {},
   "source": [
    "내장함수(Built-in Function) `range`는 정수 집합을 반복하는 루프를 실행할 때 유용하다."
   ]
  },
  {
   "cell_type": "code",
   "execution_count": 1,
   "metadata": {},
   "outputs": [
    {
     "name": "stdout",
     "output_type": "stream",
     "text": [
      "[0, 2, 4, 6, 8, 10, 12, 14, 16, 18]\n"
     ]
    }
   ],
   "source": [
    "even_num = []\n",
    "for i in range(20):\n",
    "    if i % 2 == 0:\n",
    "        even_num.append(i)\n",
    "print(even_num)"
   ]
  },
  {
   "cell_type": "markdown",
   "metadata": {},
   "source": [
    "문자열의 리스트 같은 경우는 리스트를 이용해 직접 루프를 실행할 수 있다."
   ]
  },
  {
   "cell_type": "code",
   "execution_count": 2,
   "metadata": {},
   "outputs": [
    {
     "name": "stdout",
     "output_type": "stream",
     "text": [
      "vanilla is delicious\n",
      "chocolate is delicious\n",
      "pecan is delicious\n",
      "strawberry is delicious\n"
     ]
    }
   ],
   "source": [
    "flavor_list = ['vanilla', 'chocolate', 'pecan', 'strawberry']\n",
    "for flavor in flavor_list:\n",
    "    print('{} is delicious'.format(flavor))"
   ]
  },
  {
   "cell_type": "markdown",
   "metadata": {},
   "source": [
    "간혹 리스트를 이용해 루프를 돌 경우 리스트의 현재 아이템의 인덱스를 알고 싶은 경우가 있다. <br />\n",
    "예를 들어 좋아하는 아이스크림의 순위를 출력하고 싶을 경우 `range`를 사용할 수 있다."
   ]
  },
  {
   "cell_type": "code",
   "execution_count": 3,
   "metadata": {},
   "outputs": [
    {
     "name": "stdout",
     "output_type": "stream",
     "text": [
      "1: vanilla\n",
      "2: chocolate\n",
      "3: pecan\n",
      "4: strawberry\n"
     ]
    }
   ],
   "source": [
    "# range를 이용해 인덱스 출력\n",
    "for i in range(len(flavor_list)):\n",
    "    flavor = flavor_list[i]\n",
    "    print('{}: {}'.format(i+1, flavor))"
   ]
  },
  {
   "cell_type": "markdown",
   "metadata": {},
   "source": [
    "위의 코드 처럼 `range`를 사용할 경우 `flavor_list`의 길이을 알아야 하고, 배열을 인덱스로 접근해야 하기 때문에 불편하다.<br/ >\n",
    "파이썬은 이러한 상황을 해결하기 위해 내장함수 `enumerate`를 제공한다. <br />\n",
    "`enumerate`는 지연 제너레이터(lazy generator)로 이터레이터를 감싼다(Wrapping). 이 제너레이터는 이터레이터에서 **루프 인덱스**와 다음 **값**을 **한 쌍**으로 가져와 넘겨준다."
   ]
  },
  {
   "cell_type": "code",
   "execution_count": 4,
   "metadata": {},
   "outputs": [
    {
     "name": "stdout",
     "output_type": "stream",
     "text": [
      "1: vanilla\n",
      "2: chocolate\n",
      "3: pecan\n",
      "4: strawberry\n"
     ]
    }
   ],
   "source": [
    "for i, flavor in enumerate(flavor_list):\n",
    "    print('{}: {}'.format(i+1, flavor))"
   ]
  },
  {
   "cell_type": "markdown",
   "metadata": {},
   "source": [
    "`enumerate`에서 카운팅할 숫자를 지정하면 코드를 더 짧게 만들 수 있다."
   ]
  },
  {
   "cell_type": "code",
   "execution_count": 5,
   "metadata": {},
   "outputs": [
    {
     "name": "stdout",
     "output_type": "stream",
     "text": [
      "2: vanilla\n",
      "3: chocolate\n",
      "4: pecan\n",
      "5: strawberry\n"
     ]
    }
   ],
   "source": [
    "for i, flavor in enumerate(flavor_list, 1):\n",
    "    print('{}: {}'.format(i+1, flavor))"
   ]
  },
  {
   "cell_type": "markdown",
   "metadata": {},
   "source": [
    "### 정리\n",
    "* `enumerate`는 이터레이터를 반복하면서 이터레이터에서 각 아티템의 인덱스를 얻어오는 간결한 문법을 제공한다.\n",
    "* `range`로 루프를 실행하고 시퀀스에 인덱스로 접근하기 보다는 `enumerate`를 사용하는게 좋다.\n",
    "* `enumerate`에 두 번째 파라미터를 사용하면 세기 시작할 숫자를 지정할 수 있다. (기본값은 0이다.)"
   ]
  }
 ],
 "metadata": {
  "kernelspec": {
   "display_name": "Python 3",
   "language": "python",
   "name": "python3"
  },
  "language_info": {
   "codemirror_mode": {
    "name": "ipython",
    "version": 3
   },
   "file_extension": ".py",
   "mimetype": "text/x-python",
   "name": "python",
   "nbconvert_exporter": "python",
   "pygments_lexer": "ipython3",
   "version": "3.5.4"
  }
 },
 "nbformat": 4,
 "nbformat_minor": 2
}
