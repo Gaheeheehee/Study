{
 "cells": [
  {
   "cell_type": "markdown",
   "metadata": {},
   "source": [
    "## BETTER WAY 7 - `map`과 `filter` 대신 리스트 컴프리헨션을 사용하자\n",
    "## Item07 - Use List Comprehensions Instead of `map` and `filter`"
   ]
  },
  {
   "cell_type": "markdown",
   "metadata": {},
   "source": [
    "Python에서는 한 리스트에서 다른 리스트를 만들어내는 간결한 문법이 있다.<br />\n",
    "바로 __리스트 컴프리헨션(list comprehension)__ 이라고 한다."
   ]
  },
  {
   "cell_type": "code",
   "execution_count": 1,
   "metadata": {},
   "outputs": [
    {
     "name": "stdout",
     "output_type": "stream",
     "text": [
      "[1, 4, 9, 16, 25, 36, 49, 64, 81, 100]\n"
     ]
    }
   ],
   "source": [
    "# List Comprehension을 이용해 루프를 돌면서 \n",
    "# 아래와 같이 계산이 가능하다.\n",
    "a = [1, 2, 3, 4, 5, 6, 7, 8, 9, 10]\n",
    "squares = [x**2 for x in a]\n",
    "print(squares)"
   ]
  },
  {
   "cell_type": "markdown",
   "metadata": {},
   "source": [
    "이처럼 간단한 연산에는 리스트 컴프리헨션이 내장 함수 `map`보다 명확하다. <br />\n",
    "`map`을 쓰려면 계산에 필요한 `lambda` 함수를 생성해야 하기 때문에 깔끔해 보이지 않는다."
   ]
  },
  {
   "cell_type": "code",
   "execution_count": 2,
   "metadata": {},
   "outputs": [
    {
     "name": "stdout",
     "output_type": "stream",
     "text": [
      "[1, 4, 9, 16, 25, 36, 49, 64, 81, 100]\n"
     ]
    }
   ],
   "source": [
    "squares = map(lambda x:x**2, a)\n",
    "squares = list(squares)\n",
    "print(squares)"
   ]
  },
  {
   "cell_type": "markdown",
   "metadata": {},
   "source": [
    "`map`과 달리 List Comprehension을 사용하면 입력 리스트에 있는 아이템(요소)을 간편하게 걸러낼 수 있다."
   ]
  },
  {
   "cell_type": "code",
   "execution_count": 3,
   "metadata": {},
   "outputs": [
    {
     "name": "stdout",
     "output_type": "stream",
     "text": [
      "[4, 16, 36, 64, 100]\n"
     ]
    }
   ],
   "source": [
    "# 예를 들어 2로 나누어 떨어지는 숫자의 제곱만 계산한다고 하면 \n",
    "# 아래와 같이 작성하면 된다.\n",
    "even_squares = [x**2 for x in a if x % 2 == 0]\n",
    "print(even_squares)"
   ]
  },
  {
   "cell_type": "markdown",
   "metadata": {},
   "source": [
    "내장 함수 `filter`를 `map`과 연계해서 사용해도 같은 결과를 얻을 수 있지만 훨씬 읽기가 어렵다. "
   ]
  },
  {
   "cell_type": "code",
   "execution_count": 4,
   "metadata": {},
   "outputs": [],
   "source": [
    "alt = map(lambda x: x**2, filter(lambda x: x % 2 == 0, a))\n",
    "assert even_squares == list(alt)"
   ]
  },
  {
   "cell_type": "markdown",
   "metadata": {},
   "source": [
    "딕셔너리(`dictionary`)와 집합(`set`)에도 리스트 컴프리헨션에 해당하는 문법이 있다."
   ]
  },
  {
   "cell_type": "code",
   "execution_count": 5,
   "metadata": {},
   "outputs": [
    {
     "name": "stdout",
     "output_type": "stream",
     "text": [
      "rank_dict = {1: 'ghost', 2: 'habanero', 3: 'cayenne'}\n",
      "chile_len_set = {8, 5, 7}\n"
     ]
    }
   ],
   "source": [
    "chile_ranks = {'ghost': 1, 'habanero': 2, 'cayenne': 3}\n",
    "rank_dict = {rank: name for name, rank in chile_ranks.items()}\n",
    "chile_len_set = {len(name) for name in rank_dict.values()}\n",
    "print('rank_dict =', rank_dict)\n",
    "print('chile_len_set =', chile_len_set)"
   ]
  },
  {
   "cell_type": "markdown",
   "metadata": {},
   "source": [
    "### 정리\n",
    "* 리스트 컴프리헨션은 추가적인 `lambda` 표현식이 필요 없어서 내장 함수인 `map`이나 `filter`를 사용하는 것보다 명확하다.\n",
    "* 리스트 컴프리헨션을 사용하면 입력 리스트에서 아이템을 간단히 건너뛸 수 있다.\n",
    "* 딕셔너리와 세트도 컴프리헨션 표현식을 지원한다."
   ]
  }
 ],
 "metadata": {
  "kernelspec": {
   "display_name": "Python 3",
   "language": "python",
   "name": "python3"
  },
  "language_info": {
   "codemirror_mode": {
    "name": "ipython",
    "version": 3
   },
   "file_extension": ".py",
   "mimetype": "text/x-python",
   "name": "python",
   "nbconvert_exporter": "python",
   "pygments_lexer": "ipython3",
   "version": "3.5.4"
  }
 },
 "nbformat": 4,
 "nbformat_minor": 2
}
