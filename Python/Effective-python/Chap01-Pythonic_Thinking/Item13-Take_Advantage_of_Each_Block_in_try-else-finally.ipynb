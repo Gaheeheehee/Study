{
 "cells": [
  {
   "cell_type": "markdown",
   "metadata": {},
   "source": [
    "## BETTER WAY 13 `try/except/else/finally` 에서 각 블록의 장점을 이용하자\n",
    "## Item13 - Take Advantage of Each Block in `try/except/finally`"
   ]
  },
  {
   "cell_type": "markdown",
   "metadata": {},
   "source": [
    "파이썬에는 예외 처리 과정에서 동작을 넣을 수 있는 네 번의 구분되는 시점이 있다. `try, except, else, finally` 블록으로 각 시점을 처리한다."
   ]
  },
  {
   "cell_type": "markdown",
   "metadata": {},
   "source": [
    "### `finally` 블록\n",
    "예외가 발생해도 정리 코드를 실행하고 싶을 때 `try/finally` 를 사용하면 된다. `try/finally` 의 일반적인 예 중 하나는 파일 핸들러를 제대로 종료하는 작업이 있다. "
   ]
  },
  {
   "cell_type": "code",
   "execution_count": 1,
   "metadata": {},
   "outputs": [
    {
     "name": "stdout",
     "output_type": "stream",
     "text": [
      "try: 문을 거치고 출력됨\n"
     ]
    }
   ],
   "source": [
    "handle = open('./examples/random_data.txt')  # IOError가 일어날 수 있음\n",
    "try:\n",
    "    data = handle.read()  # UnicodeDecodeError가 일어날 수 있음\n",
    "finally:\n",
    "    print('try: 문을 거치고 출력됨')\n",
    "    handle.close()  # try: 이후에 실행됨"
   ]
  },
  {
   "cell_type": "markdown",
   "metadata": {},
   "source": [
    "### `else` 블록\n",
    "코드에서 어떤 예외를 처리하고 전달할지를 명확하게 하려면 `try/except/else`를 사용해야 한다. \n",
    "* `try` 블록이 예외를 일으키지 않으면 `else` 블록이 실행된다. \n",
    "* `else` 블록을 사용하면 `try` 블록의 코드를 최소로 줄이고 가독성을 높일 수 있다."
   ]
  },
  {
   "cell_type": "code",
   "execution_count": 2,
   "metadata": {},
   "outputs": [],
   "source": [
    "import json\n",
    "\n",
    "def load_json_key(data, key):\n",
    "    try:\n",
    "        result_dict = json.loads(data)  # ValueError가 일어날 수 있음\n",
    "    except ValueError as e:\n",
    "        raise KeyError from e\n",
    "    else:\n",
    "        return result_dict[key]  # KeyError가 일어날 수 있음"
   ]
  },
  {
   "cell_type": "code",
   "execution_count": 3,
   "metadata": {},
   "outputs": [
    {
     "data": {
      "text/plain": [
       "'CJH'"
      ]
     },
     "execution_count": 3,
     "metadata": {},
     "output_type": "execute_result"
    }
   ],
   "source": [
    "data = {'name': 'CJH', 'age': '29', 'City': 'Seoul'}\n",
    "data = json.dumps(data)\n",
    "load_json_key(data, 'name')"
   ]
  },
  {
   "cell_type": "markdown",
   "metadata": {},
   "source": [
    "### 정리\n",
    "* `try/finally` 복합문을 이용하면 `try` 블록에서 예외 발생 여부와 상관없이 정리 코드를 실행할 수 있다.\n",
    "* `else` 블록은 `try` 블록에 있는 코드의 양을 최소로 줄이는 데 도움을 주며 `try/except` 블록과 성공한 경우에 실행할 코드를 시각적으로 구분해준다.\n",
    "* `else` 블록은 `try` 블록의 코드가 성공적으로 실행된 후 `finally` 블록에서 정리 코드를 실행하기 전에 추가 작업을 하는 데 사용할 수 있다."
   ]
  }
 ],
 "metadata": {
  "kernelspec": {
   "display_name": "Python 3",
   "language": "python",
   "name": "python3"
  },
  "language_info": {
   "codemirror_mode": {
    "name": "ipython",
    "version": 3
   },
   "file_extension": ".py",
   "mimetype": "text/x-python",
   "name": "python",
   "nbconvert_exporter": "python",
   "pygments_lexer": "ipython3",
   "version": "3.5.4"
  }
 },
 "nbformat": 4,
 "nbformat_minor": 2
}
