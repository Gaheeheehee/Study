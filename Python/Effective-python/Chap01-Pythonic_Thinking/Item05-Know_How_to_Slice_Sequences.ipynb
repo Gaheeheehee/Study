{
 "cells": [
  {
   "cell_type": "markdown",
   "metadata": {},
   "source": [
    "## BETTER WAY 5 - 시퀀스를 슬라이스하는 방법을 알자\n",
    "## Item05 - Know How to Slice Sequences"
   ]
  },
  {
   "cell_type": "markdown",
   "metadata": {},
   "source": [
    "* Python은 시퀀스를 **슬라이스(slice: 자르기)**해서 조각으로 만드는 문법을 제공한다.\n",
    "* 이렇게 **슬라이스**를 이용하면 시퀀스(sequence)의 부분집합(subset)에 접근할 수 있다.\n",
    "* `list, str, bytes`에서 슬라이스를 이용할 수 있다. \n",
    "* Slicing 문법은 `somelist[start:end]` 이며, `start`인덱스는 __포함__되고 `end`인덱스는 **제외**된다. "
   ]
  },
  {
   "cell_type": "code",
   "execution_count": 1,
   "metadata": {},
   "outputs": [
    {
     "name": "stdout",
     "output_type": "stream",
     "text": [
      "First four: ['a', 'b', 'c', 'd']\n",
      "Last four: ['e', 'f', 'g', 'h']\n",
      "Middle two: ['d', 'e']\n"
     ]
    }
   ],
   "source": [
    "a = ['a', 'b', 'c', 'd', 'e', 'f', 'g', 'h']\n",
    "\n",
    "print('First four:', a[:4])\n",
    "print('Last four:', a[-4:])\n",
    "print('Middle two:', a[3:-3])"
   ]
  },
  {
   "cell_type": "code",
   "execution_count": 2,
   "metadata": {},
   "outputs": [],
   "source": [
    "# list의 처음부터 슬라이스할 때는 0을 생략한다.\n",
    "# 아래의 코드에서 assert는 condition이 일치하지 않을 때 예외를 반환한다.\n",
    "assert a[:5] == a[0:5]\n",
    "\n",
    "# 마찬가지로 list의 끝까지 슬라이스 할 때도 마지막 인덱스는 넣지 않아도 된다.\n",
    "assert a[5:] == a[5:len(a)]"
   ]
  },
  {
   "cell_type": "code",
   "execution_count": 3,
   "metadata": {},
   "outputs": [
    {
     "name": "stdout",
     "output_type": "stream",
     "text": [
      "['a', 'b', 'c', 'd', 'e', 'f', 'g', 'h']\n",
      "['a', 'b', 'c', 'd', 'e']\n",
      "['a', 'b', 'c', 'd', 'e', 'f', 'g']\n",
      "['e', 'f', 'g', 'h']\n",
      "['f', 'g', 'h']\n",
      "['c', 'd', 'e']\n",
      "['c', 'd', 'e', 'f', 'g']\n",
      "['f', 'g']\n"
     ]
    }
   ],
   "source": [
    "# list의 끝을 기준으로 오프셋 계산을 할 때는 음수로 슬라이스를 하는게 편하다.\n",
    "print(a[:])\n",
    "print(a[:5])\n",
    "print(a[:-1])\n",
    "print(a[4:])\n",
    "print(a[-3:])\n",
    "print(a[2:5])\n",
    "print(a[2:-1])\n",
    "print(a[-3:-1])"
   ]
  },
  {
   "cell_type": "code",
   "execution_count": 4,
   "metadata": {},
   "outputs": [
    {
     "name": "stdout",
     "output_type": "stream",
     "text": [
      "first_twenty_items= ['a', 'b', 'c', 'd', 'e', 'f', 'g', 'h']\n",
      "last_twenty_items= ['a', 'b', 'c', 'd', 'e', 'f', 'g', 'h']\n"
     ]
    }
   ],
   "source": [
    "# 슬라이싱은 start와 end 인덱스가 리스트의 경계를 벗어나더라도 \n",
    "# 자동으로 적절하게 처리해준다.\n",
    "first_twenty_items = a[:20]\n",
    "last_twenty_items = a[-20:]\n",
    "print('first_twenty_items=', first_twenty_items)\n",
    "print('last_twenty_items=', last_twenty_items)"
   ]
  },
  {
   "cell_type": "code",
   "execution_count": 5,
   "metadata": {},
   "outputs": [
    {
     "ename": "IndexError",
     "evalue": "list index out of range",
     "output_type": "error",
     "traceback": [
      "\u001b[0;31m---------------------------------------------------------------------------\u001b[0m",
      "\u001b[0;31mIndexError\u001b[0m                                Traceback (most recent call last)",
      "\u001b[0;32m<ipython-input-5-e1cd216677c1>\u001b[0m in \u001b[0;36m<module>\u001b[0;34m()\u001b[0m\n\u001b[1;32m      1\u001b[0m \u001b[0;31m# 하지만 범위가 벗어난 인덱스에 접근하려면 에러가 발생한다.\u001b[0m\u001b[0;34m\u001b[0m\u001b[0;34m\u001b[0m\u001b[0m\n\u001b[0;32m----> 2\u001b[0;31m \u001b[0ma\u001b[0m\u001b[0;34m[\u001b[0m\u001b[0;36m20\u001b[0m\u001b[0;34m]\u001b[0m\u001b[0;34m\u001b[0m\u001b[0m\n\u001b[0m",
      "\u001b[0;31mIndexError\u001b[0m: list index out of range"
     ]
    }
   ],
   "source": [
    "# 하지만 범위가 벗어난 인덱스에 접근하려면 에러가 발생한다.\n",
    "a[20]"
   ]
  },
  {
   "cell_type": "code",
   "execution_count": 6,
   "metadata": {},
   "outputs": [
    {
     "name": "stdout",
     "output_type": "stream",
     "text": [
      "Before:     ['e', 'f', 'g', 'h']\n",
      "After:      ['e', 99, 'g', 'h']\n",
      "No change:  ['a', 'b', 'c', 'd', 'e', 'f', 'g', 'h']\n"
     ]
    }
   ],
   "source": [
    "# 슬라이싱의 결과는 새로운 리스트를 반환한다.\n",
    "b = a[4:]\n",
    "print('Before:    ', b)\n",
    "b[1] = 99\n",
    "print('After:     ', b)\n",
    "print('No change: ', a)"
   ]
  },
  {
   "cell_type": "code",
   "execution_count": 7,
   "metadata": {},
   "outputs": [
    {
     "name": "stdout",
     "output_type": "stream",
     "text": [
      "Before:    ['a', 'b', 'c', 'd', 'e', 'f', 'g', 'h']\n",
      "After:     ['a', 'b', 99, 22, 14, 'h']\n"
     ]
    }
   ],
   "source": [
    "# list에 새로운 값을 할당할 경우 슬라이스 할당의 길이는 달라도 된다.\n",
    "# list는 새로 들어온 값에 맞춰 늘어나거나 줄어들기 때문이다.\n",
    "print('Before:   ', a)\n",
    "a[2:7] = [99, 22, 14]\n",
    "print('After:    ', a)"
   ]
  },
  {
   "cell_type": "code",
   "execution_count": 8,
   "metadata": {},
   "outputs": [],
   "source": [
    "# start 와 end 인덱스를 모두 생략하고 슬라이싱하면 원본 list를 복사한다.\n",
    "b = a[:] # b = a 와는 다름\n",
    "assert b == a and b is not a"
   ]
  },
  {
   "cell_type": "code",
   "execution_count": 9,
   "metadata": {},
   "outputs": [
    {
     "name": "stdout",
     "output_type": "stream",
     "text": [
      "Before:   ['a', 'b', 99, 22, 14, 'h']\n",
      "After:    [101, 102, 103]\n"
     ]
    }
   ],
   "source": [
    "# 슬라이스에 start와 end 인덱스를 지정하지 않고 할당하면 \n",
    "# 리스트의 전체 내용을 참조 대상의 복사본으로 대체한다.\n",
    "b = a\n",
    "print('Before:  ', a)\n",
    "a[:] = [101, 102, 103]\n",
    "assert a is b\n",
    "print('After:   ', b)"
   ]
  },
  {
   "cell_type": "markdown",
   "metadata": {},
   "source": [
    "### 정리\n",
    "* `start` 인덱스에 0을 설정하거나 `end`인덱스에 시퀀스의 길이를 설정하지 말자. `somelist[:end], somelist[start:]`\n",
    "* 슬라이싱은 범위를 벗어난 `start`나 `end` 인덱스를 허용한다.\n",
    "* `list` 슬라이스에 할당하면 원본 시퀀스에 지정한 범위를 참조 대상의 내용으로 대체한다."
   ]
  }
 ],
 "metadata": {
  "kernelspec": {
   "display_name": "Python 3",
   "language": "python",
   "name": "python3"
  },
  "language_info": {
   "codemirror_mode": {
    "name": "ipython",
    "version": 3
   },
   "file_extension": ".py",
   "mimetype": "text/x-python",
   "name": "python",
   "nbconvert_exporter": "python",
   "pygments_lexer": "ipython3",
   "version": "3.5.4"
  }
 },
 "nbformat": 4,
 "nbformat_minor": 2
}
