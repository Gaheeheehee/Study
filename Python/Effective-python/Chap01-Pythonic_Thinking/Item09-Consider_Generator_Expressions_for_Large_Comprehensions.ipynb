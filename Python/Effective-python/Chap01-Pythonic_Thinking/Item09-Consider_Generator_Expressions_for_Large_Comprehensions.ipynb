{
 "cells": [
  {
   "cell_type": "markdown",
   "metadata": {},
   "source": [
    "## BETTER WAY 9 - 컴프리헨션이 클 때는 제너레이터 표현식을 고려하자\n",
    "## Item09 - Consider Generator Expressions for Large Comprehensions"
   ]
  },
  {
   "cell_type": "markdown",
   "metadata": {},
   "source": [
    "리스트 컴프리헨션의 문제점은 입력 시퀀스에 있는 각 값별로 아이템을 하나씩 담은 새 리스트를 통째로 생성한다는 점이다. <br />\n",
    "입력이 적을 때는 괜찮지만 클 때는 메모리를 많이 소모해서 프로그램이 오류가나는 원인이 되기도 한다."
   ]
  },
  {
   "cell_type": "markdown",
   "metadata": {},
   "source": [
    "예를 들어 파일을 읽고 각 줄에 있는 문자의 개수를 반환한다고 하자. <br />\n",
    "이 작업을 리스트 컴프리헨션으로 하면 파일에 있는 각 줄의 길이만큼 메모리가 필요하다. <br />\n",
    "파일에 오류가 있을 경우 리스트 컴프리헨션을 사용하면 문제가 발생한다."
   ]
  },
  {
   "cell_type": "code",
   "execution_count": 1,
   "metadata": {},
   "outputs": [
    {
     "name": "stdout",
     "output_type": "stream",
     "text": [
      "[39, 49, 57, 49, 50, 6, 9, 20]\n"
     ]
    }
   ],
   "source": [
    "value = [len(x) for x in open('./examples/my_file.txt')]\n",
    "print(value)"
   ]
  },
  {
   "cell_type": "markdown",
   "metadata": {},
   "source": [
    "파이썬은 이러한 문제를 해결하기 위해 리스트 컴프리헨션과 제너레이터를 일반화한 **제너레이터 표현식(generator expression)**을 제공한다. <br />\n",
    "제너레이터 표현식은 실행될 때 출력 시퀀스를 모두 구체화(메모리에 로딩)하지 않는다. 대신, 표현식에서 한번에 한 아이템을 내주는 **이터레이터(iterator)**를 사용한다."
   ]
  },
  {
   "cell_type": "markdown",
   "metadata": {},
   "source": [
    "제너레이터 표현식은 `()`문자 사이에 리스트 컴프리헨션과 비슷한 문법을 사용하여 생성한다."
   ]
  },
  {
   "cell_type": "code",
   "execution_count": 2,
   "metadata": {},
   "outputs": [
    {
     "name": "stdout",
     "output_type": "stream",
     "text": [
      "<generator object <genexpr> at 0x10f96feb8>\n"
     ]
    }
   ],
   "source": [
    "it = (len(x) for x in open('./examples/my_file.txt'))\n",
    "print(it)"
   ]
  },
  {
   "cell_type": "markdown",
   "metadata": {},
   "source": [
    "제너레이터 표현식에서 출력을 하기위해서는 내장 함수 `next()`를 사용한다. <br />\n",
    "따라서, 코드에서는 메모리 사용량을 걱정하지 않고 제너레이터 표현식을 사용하면 된다."
   ]
  },
  {
   "cell_type": "code",
   "execution_count": 3,
   "metadata": {},
   "outputs": [
    {
     "name": "stdout",
     "output_type": "stream",
     "text": [
      "39\n",
      "49\n"
     ]
    }
   ],
   "source": [
    "print(next(it))\n",
    "print(next(it))"
   ]
  },
  {
   "cell_type": "markdown",
   "metadata": {},
   "source": [
    "제너레이터 표현식은 다른 제너레이터 표현식과 함께 사용할 수 있다."
   ]
  },
  {
   "cell_type": "code",
   "execution_count": 5,
   "metadata": {},
   "outputs": [
    {
     "name": "stdout",
     "output_type": "stream",
     "text": [
      "(57, 7.54983443527075)\n"
     ]
    }
   ],
   "source": [
    "roots = ((x, x**0.5) for x in it)\n",
    "print(next(roots))"
   ]
  },
  {
   "cell_type": "markdown",
   "metadata": {},
   "source": [
    "위의 예제처럼 제너레이터를 연결하면 파이썬에서 매우 빠르게 실행할 수 있다. 큰 입력 스트림에 동작하는 기능을 결합하는 방법을 찾을 때에는 제너레이터 표현식이 좋은 방법이다. "
   ]
  },
  {
   "cell_type": "markdown",
   "metadata": {},
   "source": [
    "### 정리\n",
    "* 리스트 컴프리헨션은 큰 입력을 처리할 때 많은 메모리를 소모해서 문제가 될 수 있다.\n",
    "* 제너레이터 표현식은 이터레이터(iterator)로 한 번에 한 출력만 만들어 메모리 문제를 피할 수 있다.\n",
    "* 한 제너레이터 표현식에서 나온 이터레이터를 또 다른 제너레이터 표현식의 for 서브 표현식으로 넘기는 방식으로 제너레이터 표현식을 조합할 수 있다.\n",
    "* 제너레이터 표현식은 서로 연결되어 있을 때 매우 빠르게 실행된다."
   ]
  }
 ],
 "metadata": {
  "kernelspec": {
   "display_name": "Python 3",
   "language": "python",
   "name": "python3"
  },
  "language_info": {
   "codemirror_mode": {
    "name": "ipython",
    "version": 3
   },
   "file_extension": ".py",
   "mimetype": "text/x-python",
   "name": "python",
   "nbconvert_exporter": "python",
   "pygments_lexer": "ipython3",
   "version": "3.5.4"
  }
 },
 "nbformat": 4,
 "nbformat_minor": 2
}
