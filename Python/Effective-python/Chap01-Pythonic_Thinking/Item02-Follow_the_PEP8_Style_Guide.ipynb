{
 "cells": [
  {
   "cell_type": "markdown",
   "metadata": {},
   "source": [
    "## BETTER WAY 02 - PEP 8 스타일 가이드를 따르자\n",
    "## Item02 - Follow the PEP 8 Style Guide"
   ]
  },
  {
   "cell_type": "markdown",
   "metadata": {},
   "source": [
    "### PEP 8 이란?\n",
    "* Python Enhancement Proposal #8 의 약어\n",
    "* Python 코드를 어떻게 구성할지 알려주는 스타일 가이드\n",
    "* 일관성 있는 스타일을 사용하면 유지보수가 더욱 쉬워지고 가독성도 높아짐\n",
    "* https://www.python.org/dev/peps/pep-0008/ 에서 전체 가이드를 확인할 수 있음"
   ]
  },
  {
   "cell_type": "markdown",
   "metadata": {},
   "source": [
    "### 반드시 따라야 하는 규칙들"
   ]
  },
  {
   "cell_type": "markdown",
   "metadata": {},
   "source": [
    "### 1. Whitespace\n",
    "Python에서 공백은 문법적으로 의미가 있다. 코드의 명료성 때문에 **Whitespace**에 민감하다.\n",
    "* 탭이 아닌 스페이스로 들여쓴다. $\\rightarrow$ 탭도 되던데...\n",
    "* 문법적으로 의미있는 들여쓰기(indenting)는 스페이스 네 개를 사용한다.\n",
    "* 한 줄의 문자 길이가 **79**자 이하여야 한다.\n",
    "* 한 파일에서 함수와 클래스는 빈 줄 두개로 구분해야 한다.\n",
    "* 클래스에서 메서드는 빈 줄 하나로 구분해야 한다.\n",
    "* 리스트 인덱스, 함수 호출, 키워드 인수 할당에는 스페이스를 사용하지 않는다.\n",
    "* 변수 할당 앞뒤에 스페이스를 하나만 사용한다."
   ]
  },
  {
   "cell_type": "markdown",
   "metadata": {},
   "source": [
    "### 2. Naming\n",
    "* Functions(함수), Variables(변수), Attributes(속성)은 **lowercase_underscore** 형식을 따른다.\n",
    "* Protected instance attributes는 **\\_leading_underscore** 형식을 따른다.\n",
    "* Private instance attributes는 **\\__double_leading_underscore** 형식을 따른다.\n",
    "* Class, Except는 **CapitalizedWord** 형식을 따른다.\n",
    "* 모듈에서의 상수는 **ALL_CAPS** 형식을 따른다.\n",
    "* 클래스의 메소드(함수)는 첫 번째 파라미터의 이름을 **self**로 지정한다.\n",
    "* 클래스 메소드에서는 첫 번째 파라미터의 이름을 **cls**로 지정한다."
   ]
  },
  {
   "cell_type": "markdown",
   "metadata": {},
   "source": [
    "### 3. Expressions and Statements\n",
    "* `if len(somelist) == 0`으로 빈 값(`[] or ''`)을 확인하지 않고, `if not somelist`를 사용하여 빈 값은 `False`가 된다고 가정한다.\n",
    "* 반대로, 값이 있는경우(`[1] or 'hi'`) `if somelist`가 `True`가 된다.\n",
    "* 한 줄로 된 if문, for와 while 루프, except 복합문을 쓰지 않고, 여러 줄로 나눠서 명료하게 작성한다.\n",
    "* 항상 파일의 맨 위에 import 문을 놓는다.\n",
    "* import는 '표준 라이브러리 모듈, Third-Party 모듈, 자신이 만든 모듈' 순으로 구분해야 한다."
   ]
  },
  {
   "cell_type": "code",
   "execution_count": 8,
   "metadata": {},
   "outputs": [
    {
     "name": "stdout",
     "output_type": "stream",
     "text": [
      "값이 없습니다.\n"
     ]
    }
   ],
   "source": [
    "empty_list = []\n",
    "\n",
    "if not empty_list: # False\n",
    "    print(\"값이 없습니다.\")"
   ]
  },
  {
   "cell_type": "code",
   "execution_count": 9,
   "metadata": {},
   "outputs": [
    {
     "name": "stdout",
     "output_type": "stream",
     "text": [
      "값이 있습니다.\n",
      "['a', 'b', 'c']\n"
     ]
    }
   ],
   "source": [
    "example_list = ['a', 'b', 'c']\n",
    "\n",
    "if example_list: # True\n",
    "    print(\"값이 있습니다.\")\n",
    "    print(example_list)"
   ]
  }
 ],
 "metadata": {
  "kernelspec": {
   "display_name": "Python 3",
   "language": "python",
   "name": "python3"
  },
  "language_info": {
   "codemirror_mode": {
    "name": "ipython",
    "version": 3
   },
   "file_extension": ".py",
   "mimetype": "text/x-python",
   "name": "python",
   "nbconvert_exporter": "python",
   "pygments_lexer": "ipython3",
   "version": "3.5.4"
  }
 },
 "nbformat": 4,
 "nbformat_minor": 2
}
