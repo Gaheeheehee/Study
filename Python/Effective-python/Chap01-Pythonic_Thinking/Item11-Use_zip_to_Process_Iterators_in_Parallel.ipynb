{
 "cells": [
  {
   "cell_type": "markdown",
   "metadata": {},
   "source": [
    "## BETTER WAY 11 - 이터레이터를 병렬로 처리하려면 `zip`을 사용하자\n",
    "## Item11 - Use `zip` to Process Iterators in Parallel"
   ]
  },
  {
   "cell_type": "markdown",
   "metadata": {},
   "source": [
    "리스트 컴프리헨션을 사용하면 원래의 리스트(source list)에 표현식을 적용하여 파생 리스트(derived list)를 쉽게 얻을 수 있다.  ([Better Way 7](https://github.com/ExcelsiorCJH/Study/blob/master/Python/Effective-python/Chap01-Pythonic_Thinking/Item07-Use_List_Comprehensions_Instead_of_map_and_filter.ipynb)참고)"
   ]
  },
  {
   "cell_type": "code",
   "execution_count": 1,
   "metadata": {},
   "outputs": [],
   "source": [
    "names = ['Cecilia', 'Lise', 'Marie']\n",
    "letters = [len(n)for n in names]"
   ]
  },
  {
   "cell_type": "markdown",
   "metadata": {},
   "source": [
    "파생 리스트(여기서는 `letters`)의 아이템과 소스 리스트(`names`)의 아이템은 서로의 인덱스로 연관되어 있다. 따라서 두 리스트를  병렬로 반복하려면 소스 리스트인 names의 길이만큼 반복하면 된다."
   ]
  },
  {
   "cell_type": "code",
   "execution_count": 2,
   "metadata": {},
   "outputs": [
    {
     "name": "stdout",
     "output_type": "stream",
     "text": [
      "Cecilia\n"
     ]
    }
   ],
   "source": [
    "# 글자 수가 가장긴 이름 찾기 \n",
    "longest_name = None\n",
    "max_letters = 0\n",
    "\n",
    "for i in range(len(names)):\n",
    "    count = letters[i]\n",
    "    if count > max_letters:\n",
    "        longest_name = names[i]\n",
    "        max_letters = count\n",
    "        \n",
    "print(longest_name)"
   ]
  },
  {
   "cell_type": "markdown",
   "metadata": {},
   "source": [
    "위의 예제 코드는 `names`와 `letters`를 인덱스로 접근하게 되면 코드를 읽기가 어려워 진다. 또한 루프 내의 인덱스 `i`로 `letters`와 `names`에 두번 접근하게 된다. `enumerate` ([Better Way 10](https://github.com/ExcelsiorCJH/Effective-python/blob/master/Chap01-Pythonic_Thinking/Item10-Prefer_enumerate_Over_range.ipynb)참고)를 사용하면 이런 문제점을 약간 개선할 수 있다. <br />\n",
    "하지만 여전히 인덱스를 이용해 리스트의 아이템에 접근해야하는 문제가 있다."
   ]
  },
  {
   "cell_type": "code",
   "execution_count": 3,
   "metadata": {},
   "outputs": [
    {
     "name": "stdout",
     "output_type": "stream",
     "text": [
      "Cecilia\n"
     ]
    }
   ],
   "source": [
    "longest_name = None\n",
    "max_letters = 0\n",
    "\n",
    "for i, name in enumerate(names):\n",
    "    count = letters[i]\n",
    "    if count > max_letters:\n",
    "        longest_name = name\n",
    "        max_letters = count\n",
    "\n",
    "print(longest_name)"
   ]
  },
  {
   "cell_type": "markdown",
   "metadata": {},
   "source": [
    "파이썬은 위의 코드를 좀 더 명료하게 하는 내장 함수 `zip`을 제공한다.<br />\n",
    "**파이썬3** 에서 `zip`은 지연 제너레이터(lazy generator)로 이터레이터 두 개 이상을 감싼다. `zip`제너레이터는 각 이터레이터로부터 다음(next) 값을 담은 튜플(tuple)을 얻어온다.<br />\n",
    "아래의 코드에서 확인할 수 있듯이 `zip`을 사용하면 위의 코드보다 훨씬 명료하다"
   ]
  },
  {
   "cell_type": "code",
   "execution_count": 4,
   "metadata": {},
   "outputs": [
    {
     "name": "stdout",
     "output_type": "stream",
     "text": [
      "Cecilia\n"
     ]
    }
   ],
   "source": [
    "longest_name = None\n",
    "max_letters = 0\n",
    "\n",
    "for name, count in zip(names, letters):\n",
    "    if count > max_letters:\n",
    "        longest_name = name\n",
    "        max_letters = count\n",
    "        \n",
    "print(longest_name)"
   ]
  },
  {
   "cell_type": "markdown",
   "metadata": {},
   "source": [
    "내장함수 `zip`을 사용할 때는 한 가지 문제가 있다. <br /> \n",
    "입력 이터레이터들의 길이가 다르면 `zip`이 이상하게 동작한다는 점이다. 예를 들어 `names` 리스트에 다른 이름을 추가했지만, `letters`의 카운터를 추가 해주지 않은 경우를 생각해보자."
   ]
  },
  {
   "cell_type": "code",
   "execution_count": 5,
   "metadata": {},
   "outputs": [
    {
     "name": "stdout",
     "output_type": "stream",
     "text": [
      "Cecilia\n",
      "Lise\n",
      "Marie\n"
     ]
    }
   ],
   "source": [
    "names.append('Rosalind')\n",
    "for name, count in zip(names, letters):\n",
    "    print(name)"
   ]
  },
  {
   "cell_type": "markdown",
   "metadata": {},
   "source": [
    "위의 코드에서 확인할 수 있듯이, 새 아이템 'Rosalind'가 출력되지 않는다. `zip`은 감싼 이터레이터 중 하나가 끝날 경우 반복이 멈추게 된다. 따라서 `zip`을 제대로 사용하려면 입력 이터레이터들 간의 *길이가 같아야* 한다. <br />\n",
    "만약 길이가 같지 않다면 내장 모듈 `itertools`의 `zip_longest`를 사용하면 된다. $\\rightarrow$ [zip_longest](http://excelsior-cjh.tistory.com/entry/%EB%82%B4%EC%9E%A5%ED%95%A8%EC%88%98-zip-%EA%B3%BC-itertoolsziplongest-%ED%95%A8%EC%88%98?category=966334)참고"
   ]
  },
  {
   "cell_type": "code",
   "execution_count": 6,
   "metadata": {},
   "outputs": [
    {
     "name": "stdout",
     "output_type": "stream",
     "text": [
      "Cecilia\n",
      "Lise\n",
      "Marie\n",
      "Rosalind\n"
     ]
    }
   ],
   "source": [
    "from itertools import zip_longest\n",
    "\n",
    "for name, count in zip_longest(names, letters):\n",
    "    print(name)"
   ]
  },
  {
   "cell_type": "markdown",
   "metadata": {},
   "source": [
    "### 정리\n",
    "* 내장 함수 `zip`은 여러 이터레이터를 병렬로 반복할 때 사용할 수 있다.\n",
    "* 파이썬3의 `zip`은 튜플을 생성하는 지연 제너레이터이다.\n",
    "* 길이가 다른 이터레이터를 사용하면 `zip`은 짧은 이터레이터 만큼 반복한다.\n",
    "* 내장 모듈 `itertools`의 `zip_longest`함수를 사용하면 이터레이터 길이에 상관없이 사용할 수 있다. $\\rightarrow$ [zip_longest](http://excelsior-cjh.tistory.com/entry/%EB%82%B4%EC%9E%A5%ED%95%A8%EC%88%98-zip-%EA%B3%BC-itertoolsziplongest-%ED%95%A8%EC%88%98?category=966334)참고"
   ]
  }
 ],
 "metadata": {
  "kernelspec": {
   "display_name": "Python 3",
   "language": "python",
   "name": "python3"
  },
  "language_info": {
   "codemirror_mode": {
    "name": "ipython",
    "version": 3
   },
   "file_extension": ".py",
   "mimetype": "text/x-python",
   "name": "python",
   "nbconvert_exporter": "python",
   "pygments_lexer": "ipython3",
   "version": "3.5.4"
  }
 },
 "nbformat": 4,
 "nbformat_minor": 2
}
