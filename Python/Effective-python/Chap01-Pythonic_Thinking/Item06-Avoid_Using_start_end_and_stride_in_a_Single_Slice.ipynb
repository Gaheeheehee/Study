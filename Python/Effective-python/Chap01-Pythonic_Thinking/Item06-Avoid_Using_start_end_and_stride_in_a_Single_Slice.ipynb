{
 "cells": [
  {
   "cell_type": "markdown",
   "metadata": {},
   "source": [
    "## BETTER WAY 6 - 한 슬라이스에 `start, end, stride`를 함께 쓰지 말자\n",
    "## Item06 - Avoid Using `start, end,` and `stride` in a Single Slice"
   ]
  },
  {
   "cell_type": "markdown",
   "metadata": {},
   "source": [
    "Python에는 기본 슬라이싱 [Better Way 5 참고](https://github.com/ExcelsiorCJH/Study/blob/master/Python/Effective-python/Chap01-Pythonic_Thinking/Item05-Know_How_to_Slice_Sequences.ipynb) 뿐만 아니라 `somelist[start:end:stride]`처럼 슬라이스의 간격(stride)를 설정하는 문법도 있다. <br>\n",
    "__stride__를 이용하면 시퀀스를 슬라이스 할 때 $n$번째 아이템을 가져올 수 있다."
   ]
  },
  {
   "cell_type": "code",
   "execution_count": 1,
   "metadata": {},
   "outputs": [
    {
     "name": "stdout",
     "output_type": "stream",
     "text": [
      "['red', 'yellow', 'blue']\n",
      "['orange', 'green', 'purple']\n"
     ]
    }
   ],
   "source": [
    "# 예를 들어, 스트라이드를 이용하면 리스트에서 홀수와 짝수 인덱스를 쉽게 구분하여 가져올 수 있다.\n",
    "a = ['red', 'orange', 'yellow', 'green', 'blue', 'purple']\n",
    "odds = a[::2]\n",
    "evens = a[1::2]\n",
    "print(odds)\n",
    "print(evens)"
   ]
  },
  {
   "cell_type": "markdown",
   "metadata": {},
   "source": [
    "문제는 `stride`를 사용할 경우 예상치 못한 동작을 해 버그가 생길 수도 있다."
   ]
  },
  {
   "cell_type": "code",
   "execution_count": 2,
   "metadata": {},
   "outputs": [
    {
     "name": "stdout",
     "output_type": "stream",
     "text": [
      "y = b'esoognom'\n",
      "z = 글한\n"
     ]
    }
   ],
   "source": [
    "# 바이트 문자열 또는 문자열을 역순으로 만드는 방법은 stride를 -1로 슬라이싱 하면된다.\n",
    "x = b'mongoose'\n",
    "y = x[::-1]\n",
    "print('y =', y)\n",
    "\n",
    "w = '한글'\n",
    "z = w[::-1]\n",
    "print('z =', z)"
   ]
  },
  {
   "cell_type": "markdown",
   "metadata": {},
   "source": [
    "위의 코드는 바이트 문자열이나 아스키(ASCII) 문자에는 잘 동작하지만, **UTF-8** 바이트 문자열로 인코딩된 유니코드 문자에는 에러가 발생한다."
   ]
  },
  {
   "cell_type": "code",
   "execution_count": 3,
   "metadata": {},
   "outputs": [
    {
     "ename": "UnicodeDecodeError",
     "evalue": "'utf-8' codec can't decode byte 0x80 in position 0: invalid start byte",
     "output_type": "error",
     "traceback": [
      "\u001b[0;31m---------------------------------------------------------------------------\u001b[0m",
      "\u001b[0;31mUnicodeDecodeError\u001b[0m                        Traceback (most recent call last)",
      "\u001b[0;32m<ipython-input-3-2a9efc5eb03f>\u001b[0m in \u001b[0;36m<module>\u001b[0;34m()\u001b[0m\n\u001b[1;32m      2\u001b[0m \u001b[0mx\u001b[0m \u001b[0;34m=\u001b[0m \u001b[0mw\u001b[0m\u001b[0;34m.\u001b[0m\u001b[0mencode\u001b[0m\u001b[0;34m(\u001b[0m\u001b[0;34m'utf-8'\u001b[0m\u001b[0;34m)\u001b[0m\u001b[0;34m\u001b[0m\u001b[0m\n\u001b[1;32m      3\u001b[0m \u001b[0my\u001b[0m \u001b[0;34m=\u001b[0m \u001b[0mx\u001b[0m\u001b[0;34m[\u001b[0m\u001b[0;34m:\u001b[0m\u001b[0;34m:\u001b[0m\u001b[0;34m-\u001b[0m\u001b[0;36m1\u001b[0m\u001b[0;34m]\u001b[0m\u001b[0;34m\u001b[0m\u001b[0m\n\u001b[0;32m----> 4\u001b[0;31m \u001b[0mz\u001b[0m \u001b[0;34m=\u001b[0m \u001b[0my\u001b[0m\u001b[0;34m.\u001b[0m\u001b[0mdecode\u001b[0m\u001b[0;34m(\u001b[0m\u001b[0;34m'utf-8'\u001b[0m\u001b[0;34m)\u001b[0m\u001b[0;34m\u001b[0m\u001b[0m\n\u001b[0m",
      "\u001b[0;31mUnicodeDecodeError\u001b[0m: 'utf-8' codec can't decode byte 0x80 in position 0: invalid start byte"
     ]
    }
   ],
   "source": [
    "w = '한글'\n",
    "x = w.encode('utf-8')\n",
    "y = x[::-1]\n",
    "z = y.decode('utf-8')"
   ]
  },
  {
   "cell_type": "markdown",
   "metadata": {},
   "source": [
    "위의 코드에서는 `stride`에 `-1`을 입력했을 경우를 살펴보았다. 그렇다면 `-1`외의 값을 입력하면 어떨까?"
   ]
  },
  {
   "cell_type": "code",
   "execution_count": 4,
   "metadata": {},
   "outputs": [
    {
     "name": "stdout",
     "output_type": "stream",
     "text": [
      "a[::2]  = ['a', 'c', 'e', 'g']\n",
      "a[::-2] = ['h', 'f', 'd', 'b']\n"
     ]
    }
   ],
   "source": [
    "a = ['a', 'b', 'c', 'd', 'e', 'f', 'g', 'h']\n",
    "print('a[::2]  =', a[::2]) # 처음부터 시작해서 매 두 번쨰 아이템 선택\n",
    "print('a[::-2] =', a[::-2]) # 끝부터 시작해서 반대 방향으로 매 두 번째 아이템 선택"
   ]
  },
  {
   "cell_type": "code",
   "execution_count": 5,
   "metadata": {},
   "outputs": [
    {
     "name": "stdout",
     "output_type": "stream",
     "text": [
      "a[2::2]   = ['c', 'e', 'g']\n",
      "a[-2::-2] = ['g', 'e', 'c', 'a']\n",
      "a[-2:2:-2]= ['g', 'e']\n",
      "a[2:2:-2] = []\n"
     ]
    }
   ],
   "source": [
    "# 2::2, -2::-2, -2:2:-2, 2:2:-2 의 차이를 살펴보자\n",
    "print('a[2::2]   =', a[2::2])\n",
    "print('a[-2::-2] =', a[-2::-2])\n",
    "print('a[-2:2:-2]=', a[-2:2:-2])\n",
    "print('a[2:2:-2] =', a[2:2:-2])"
   ]
  },
  {
   "cell_type": "markdown",
   "metadata": {},
   "source": [
    "위의 코드는 `start, end, stride`가 같이 들어가 있으면 해석하기가 어렵다. <br />\n",
    "이러한 문제를 방지하려면 `stride`를 `start, end`인덱스와 함께 사용하지 않는 것이 좋다.<br />\n",
    "`stride`를 사용할 경우 __양수__ 값을 사용하고 `start`와 `end` 인덱스는 생략하는 것이 좋다. <br />\n",
    "만약, `stride`를 `start`나 `end` 인덱스와 함께 사용해야 한다면 `stride`를 적용한 결과를 변수에 할당하고, 이 변수를 슬라이스한 결과를 다른 변수에 할당해서 사용하도록 한다."
   ]
  },
  {
   "cell_type": "code",
   "execution_count": 6,
   "metadata": {},
   "outputs": [
    {
     "name": "stdout",
     "output_type": "stream",
     "text": [
      "c = ['c', 'e']\n"
     ]
    }
   ],
   "source": [
    "b = a[::2] # ['a', 'c', 'e', 'g']\n",
    "c = b[1:-1]\n",
    "print('c =', c)"
   ]
  },
  {
   "cell_type": "markdown",
   "metadata": {},
   "source": [
    "### 정리\n",
    "* 한 슬라이스에 `start, end, stride`를 지정하면 혼란스러울 수 있다.\n",
    "* 슬라이스에 `start`와 `end`인덱스 없이 양수 `stride`값을 사용하다록 한다.\n",
    "* 한 슬라이스에 `start, end, stride`를 되도록이면 함께 사용하지 않도록 한다."
   ]
  }
 ],
 "metadata": {
  "kernelspec": {
   "display_name": "Python 3",
   "language": "python",
   "name": "python3"
  },
  "language_info": {
   "codemirror_mode": {
    "name": "ipython",
    "version": 3
   },
   "file_extension": ".py",
   "mimetype": "text/x-python",
   "name": "python",
   "nbconvert_exporter": "python",
   "pygments_lexer": "ipython3",
   "version": "3.5.4"
  }
 },
 "nbformat": 4,
 "nbformat_minor": 2
}
