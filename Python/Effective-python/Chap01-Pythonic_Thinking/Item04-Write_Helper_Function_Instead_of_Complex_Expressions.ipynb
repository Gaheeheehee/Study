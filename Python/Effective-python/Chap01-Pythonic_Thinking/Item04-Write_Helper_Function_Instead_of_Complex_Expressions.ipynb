{
 "cells": [
  {
   "cell_type": "markdown",
   "metadata": {},
   "source": [
    "## BETTER WAY 4 - 복잡한 표현식 대신 헬퍼(Helper) 함수를 작성하자\n",
    "## Item04 - Write Helper Functions Instead of Complex Expressions"
   ]
  },
  {
   "cell_type": "code",
   "execution_count": 1,
   "metadata": {},
   "outputs": [
    {
     "name": "stdout",
     "output_type": "stream",
     "text": [
      "{'red': ['5'], 'green': [''], 'blue': ['0']}\n"
     ]
    }
   ],
   "source": [
    "# ex) URL에서 쿼리 문자열을 decode 하는 경우\n",
    "#   - 각 쿼리 문자열 파라미터는 정수 값을 표현\n",
    "from urllib.parse import parse_qs\n",
    "\n",
    "# dictionary 형태로 반환\n",
    "my_values = parse_qs('red=5&blue=0&green=', keep_blank_values=True)\n",
    "print(repr(my_values))"
   ]
  },
  {
   "cell_type": "code",
   "execution_count": 2,
   "metadata": {},
   "outputs": [
    {
     "name": "stdout",
     "output_type": "stream",
     "text": [
      "Red:     ['5']\n",
      "Green:   ['']\n",
      "Opacity: None\n"
     ]
    }
   ],
   "source": [
    "# 쿼리 문자열 파라미터에 따라 값이 여러 개이거나\n",
    "# 하나 이거나 파라미터는 존재하지만 값이 없거나\n",
    "# 파라미터가 아예 빠져 있는 경우가 있을 수 있음\n",
    "print('Red:    ', my_values.get('red'))\n",
    "print('Green:  ', my_values.get('green'))\n",
    "print('Opacity:', my_values.get('opacity'))"
   ]
  },
  {
   "cell_type": "code",
   "execution_count": 3,
   "metadata": {},
   "outputs": [
    {
     "name": "stdout",
     "output_type": "stream",
     "text": [
      "Red:    '5'\n",
      "Green:   0\n",
      "Opacity: 0\n"
     ]
    }
   ],
   "source": [
    "# 파라미터가 없거나 값이 없는 경우, default값으로 0을 할당\n",
    "# 1. bool 표현식으로 처리\n",
    "# 쿼리 문자열: 'red=5&blue=0&green='\n",
    "red = my_values.get('red', [''])[0] or 0 # => False일 경우 0 반환 \n",
    "green = my_values.get('green', [''])[0] or 0 # = my_values.get('green', 0)\n",
    "opacity = my_values.get('opacity', [''])[0] or 0\n",
    "print('Red:    {!r}'.format(red)) # {!r} = repr\n",
    "print('Green:   {!r}'.format(green))\n",
    "print('Opacity: {!r}'.format(opacity))\n",
    "\n",
    "# 위의 코드는 표현식이 읽기 어려울 뿐만 아니라 \n",
    "# Red 같은 경우는 str을 반환하기 때문에 \n",
    "# 추가적으로 아래와 같이 int로 변환해주어야 한다.\n",
    "red = int(my_values.get('red', [''])[0] or 0)"
   ]
  },
  {
   "cell_type": "code",
   "execution_count": 4,
   "metadata": {},
   "outputs": [
    {
     "name": "stdout",
     "output_type": "stream",
     "text": [
      "Red:    5\n"
     ]
    }
   ],
   "source": [
    "# 위의 코드는 복잡해 처음 읽는 사람은 이해 하는데 시간이 걸린다.\n",
    "# 한 줄로 쓰는 것은 좋을 수 있지만 한 줄에 모든 코드를 집어 넣는건 큰 의미가 없음\n",
    "# 2. if/else 조건식을 이용해 명확하게 표현\n",
    "red = my_values.get('red', [''])\n",
    "red = int(red[0]) if red[0] else 0\n",
    "print('Red:    {!r}'.format(red))"
   ]
  },
  {
   "cell_type": "code",
   "execution_count": 5,
   "metadata": {},
   "outputs": [],
   "source": [
    "# 하지만 여러 줄에 걸친 if/else 문을 대체할 정도로 명확하지 않다.\n",
    "# 그렇다고 이것을 다 펼치면 더 복잡해 보인다. \n",
    "green = my_values.get('green', [''])\n",
    "if green[0]:\n",
    "    green = int(green[0])\n",
    "else:\n",
    "    green = 0"
   ]
  },
  {
   "cell_type": "code",
   "execution_count": 6,
   "metadata": {},
   "outputs": [],
   "source": [
    "# 이러한 로직을 반복해서 사용해야 할 경우 Helper 함수를 만드는 것이 좋다.\n",
    "def get_first_int(values, key, default=0):\n",
    "    found = values.get(key, [''])\n",
    "    if found[0]:\n",
    "        found = int(found[0])\n",
    "    else:\n",
    "        found = default\n",
    "    return found"
   ]
  },
  {
   "cell_type": "code",
   "execution_count": 9,
   "metadata": {},
   "outputs": [
    {
     "name": "stdout",
     "output_type": "stream",
     "text": [
      "Red:    5\n"
     ]
    }
   ],
   "source": [
    "red = get_first_int(my_values, 'red')\n",
    "print('Red:    {!r}'.format(red))"
   ]
  },
  {
   "cell_type": "markdown",
   "metadata": {},
   "source": [
    "### 정리\n",
    "* Python의 문법을 이용하면 한 줄짜리 표현식을 쉽게 작성할 수 있지만 코드가 복잡해지고 읽기 어려워짐\n",
    "* 복잡한 표현식은 헬퍼 함수로 옮기는게 좋음. 특히, 같은 로직을 반복해서 사용해야 할 경우\n",
    "* `if/else` 표현식을 이용하면 `or`나 `and`같은 bool연산자를 사용할 때보다 읽기 편한 코드를 작성할 수 있음"
   ]
  }
 ],
 "metadata": {
  "kernelspec": {
   "display_name": "Python 3",
   "language": "python",
   "name": "python3"
  },
  "language_info": {
   "codemirror_mode": {
    "name": "ipython",
    "version": 3
   },
   "file_extension": ".py",
   "mimetype": "text/x-python",
   "name": "python",
   "nbconvert_exporter": "python",
   "pygments_lexer": "ipython3",
   "version": "3.5.4"
  }
 },
 "nbformat": 4,
 "nbformat_minor": 2
}
