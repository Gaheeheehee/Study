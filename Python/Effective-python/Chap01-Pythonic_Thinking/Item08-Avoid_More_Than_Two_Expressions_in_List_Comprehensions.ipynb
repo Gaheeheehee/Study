{
 "cells": [
  {
   "cell_type": "markdown",
   "metadata": {},
   "source": [
    "## BETTER WAY 8 - 리스트 컴프리헨션에서 표현식을 두 개 넘게 쓰지 말자\n",
    "## Item08 - Avoid More Than Two Expressions in List Comprehensions"
   ]
  },
  {
   "cell_type": "markdown",
   "metadata": {},
   "source": [
    "리스트 컴프리헨션은 기본 사용법([Better Way 7](https://github.com/ExcelsiorCJH/Study/blob/master/Python/Effective-python/Chap01-Pythonic_Thinking/Item07-Use_List_Comprehensions_Instead_of_map_and_filter.ipynb) 참고) 뿐만 아니라 **다중 루프**도 지원한다."
   ]
  },
  {
   "cell_type": "code",
   "execution_count": 1,
   "metadata": {},
   "outputs": [
    {
     "name": "stdout",
     "output_type": "stream",
     "text": [
      "[1, 2, 3, 4, 5, 6, 7, 8, 9]\n"
     ]
    }
   ],
   "source": [
    "# matrix를 리스트 하나로 표현하기\n",
    "matrix = [[1, 2, 3], [4, 5, 6], [7, 8, 9]]\n",
    "flat = [x for row in matrix for x in row] # 왼쪽에서 오른쪽 순으로 실행\n",
    "print(flat)"
   ]
  },
  {
   "cell_type": "code",
   "execution_count": 2,
   "metadata": {},
   "outputs": [
    {
     "name": "stdout",
     "output_type": "stream",
     "text": [
      "[[1, 4, 9], [16, 25, 36], [49, 64, 81]]\n"
     ]
    }
   ],
   "source": [
    "# matrix의 각 행(셀)의 제곱을 구하기\n",
    "squared = [[x**2 for x in row] for row in matrix]\n",
    "print(squared)"
   ]
  },
  {
   "cell_type": "markdown",
   "metadata": {},
   "source": [
    "위의 예제들은 이중 루프를 사용했지만 이해하기는 어렵지 않다. <br />\n",
    "하지만 루프가 많아지게 되면 리스트 컴프리헨션을 여러 줄로 구분해야 할 정도로 길어진다."
   ]
  },
  {
   "cell_type": "code",
   "execution_count": 3,
   "metadata": {},
   "outputs": [
    {
     "name": "stdout",
     "output_type": "stream",
     "text": [
      "[1, 2, 3, 4, 5, 6, 7, 8, 9, 10, 11, 12]\n"
     ]
    }
   ],
   "source": [
    "my_lists = [\n",
    "    [[1, 2, 3], [4, 5, 6]],\n",
    "    [[7, 8, 9], [10, 11, 12]]\n",
    "]\n",
    "flat = [x for sublist1 in my_lists\n",
    "           for sublist2 in sublist1\n",
    "               for x in sublist2]\n",
    "print(flat)"
   ]
  },
  {
   "cell_type": "markdown",
   "metadata": {},
   "source": [
    "위의 예제 처럼 리스트 컴프리헨션 또한 짧지는 않다는 것을 알 수 있다. <br />\n",
    "이번엔 일반 루프문으로 만들어 보도록 한다. 이 방법이 들여쓰기를 사용해 오히려 리스트 컴프리헨션 보다 이해가 쉽다."
   ]
  },
  {
   "cell_type": "code",
   "execution_count": 4,
   "metadata": {},
   "outputs": [
    {
     "name": "stdout",
     "output_type": "stream",
     "text": [
      "[1, 2, 3, 4, 5, 6, 7, 8, 9, 10, 11, 12]\n"
     ]
    }
   ],
   "source": [
    "flat = []\n",
    "for sublist1 in my_lists:\n",
    "    for sublist2 in sublist1:\n",
    "        flat.extend(sublist2)\n",
    "print(flat)"
   ]
  },
  {
   "cell_type": "markdown",
   "metadata": {},
   "source": [
    "리스트 컴프리헨션은 다중 `if`문도 지원한다. <br />\n",
    "같은 루프 레벨에 여러 조건이 있으면 암시적으로 `and` 표현식이 된다."
   ]
  },
  {
   "cell_type": "code",
   "execution_count": 5,
   "metadata": {},
   "outputs": [
    {
     "name": "stdout",
     "output_type": "stream",
     "text": [
      "[6, 8, 10]\n",
      "[6, 8, 10]\n"
     ]
    }
   ],
   "source": [
    "a = [1, 2, 3, 4, 5, 6, 7, 8, 9, 10]\n",
    "b = [x for x in a if x > 4 if x % 2 == 0]\n",
    "c = [x for x in a if x > 4 and x % 2 == 0]\n",
    "assert b == c\n",
    "print(b)\n",
    "print(c)"
   ]
  },
  {
   "cell_type": "markdown",
   "metadata": {},
   "source": [
    "조건은 루프의 각 레벨에서 `for` 표현식 **뒤에** 설정할 수 있다."
   ]
  },
  {
   "cell_type": "code",
   "execution_count": 6,
   "metadata": {},
   "outputs": [
    {
     "name": "stdout",
     "output_type": "stream",
     "text": [
      "[[6], [9]]\n"
     ]
    }
   ],
   "source": [
    "# 행렬에서 행(row)의 합이 10 이상이고 3으로 나누어 떨어지는 셀을 구하기\n",
    "matrix = [[1, 2, 3], [4, 5, 6], [7, 8, 9]]\n",
    "filtered = [[x for x in row if x % 3 == 0]\n",
    "               for row in matrix if sum(row) >= 10]\n",
    "print(filtered)"
   ]
  },
  {
   "cell_type": "markdown",
   "metadata": {},
   "source": [
    "위의 예제 처럼 다중 루프에 다중 조건이 들어가게 되면 리스트 컴프리헨션을 이해 하기는 어려워 진다.<br />\n",
    "교재에서는 조건 두 개, 루프 두 개, 혹은 조건 한 개와 루프 한 개 정도는 리스트 컴프리헨션을 사용하고 그 이상은 일반적인 if 문과 for문을 사용하는 것이 좋다고 한다."
   ]
  },
  {
   "cell_type": "markdown",
   "metadata": {},
   "source": [
    "### 정리\n",
    "* 리스트 컴프리헨션은 다중 루프와 루프 레벨별 다중 조건을 지원한다.\n",
    "* 표현식이 두 개가 넘게 들어 있는 리스트 컴프리헨션은 이해하기 어려우므로 피해햐 한다."
   ]
  }
 ],
 "metadata": {
  "kernelspec": {
   "display_name": "Python 3",
   "language": "python",
   "name": "python3"
  },
  "language_info": {
   "codemirror_mode": {
    "name": "ipython",
    "version": 3
   },
   "file_extension": ".py",
   "mimetype": "text/x-python",
   "name": "python",
   "nbconvert_exporter": "python",
   "pygments_lexer": "ipython3",
   "version": "3.5.4"
  }
 },
 "nbformat": 4,
 "nbformat_minor": 2
}
