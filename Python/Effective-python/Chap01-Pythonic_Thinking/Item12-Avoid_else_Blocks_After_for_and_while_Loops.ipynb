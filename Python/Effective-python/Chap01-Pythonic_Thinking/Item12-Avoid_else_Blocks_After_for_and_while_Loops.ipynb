{
 "cells": [
  {
   "cell_type": "markdown",
   "metadata": {},
   "source": [
    "## BETTER WAY 12 - `for`와 `while` 루프 뒤에는 `else` 블록을 쓰지말자\n",
    "## Item12 - Avoid `else` Blocks After `for` and `while` Loops"
   ]
  },
  {
   "cell_type": "markdown",
   "metadata": {},
   "source": [
    "파이썬의 루프에는 다른 프로그래밍 언어에는 없는 추가적인 기능이 있다. <br />\n",
    "루프에서 반복되는 내부 블록(block) 바로 다음에 `else` 블록을 둘 수 있는 기능이다."
   ]
  },
  {
   "cell_type": "code",
   "execution_count": 1,
   "metadata": {},
   "outputs": [
    {
     "name": "stdout",
     "output_type": "stream",
     "text": [
      "Loop 0\n",
      "Loop 1\n",
      "Loop 2\n",
      "Else block!\n"
     ]
    }
   ],
   "source": [
    "for i in range(3):\n",
    "    print('Loop {}'.format(i))\n",
    "else:\n",
    "    print('Else block!')"
   ]
  },
  {
   "cell_type": "markdown",
   "metadata": {},
   "source": [
    "`for/else`의 `else`부분은 `braek`를 사용해야 `else` 블록을 건너뛸 수 있다."
   ]
  },
  {
   "cell_type": "code",
   "execution_count": 2,
   "metadata": {},
   "outputs": [
    {
     "name": "stdout",
     "output_type": "stream",
     "text": [
      "Loop 0\n",
      "Loop 1\n"
     ]
    }
   ],
   "source": [
    "for i in range(3):\n",
    "    print('Loop {}'.format(i))\n",
    "    if i == 1:\n",
    "        break\n",
    "else:\n",
    "    print('Else block!')"
   ]
  },
  {
   "cell_type": "markdown",
   "metadata": {},
   "source": [
    "신기한 부분은 빈 시퀀스(리스트 등)를 처리하는 루프문에서도 `else` 블록이 즉시 실행된다."
   ]
  },
  {
   "cell_type": "code",
   "execution_count": 3,
   "metadata": {},
   "outputs": [
    {
     "name": "stdout",
     "output_type": "stream",
     "text": [
      "For Else block!\n"
     ]
    }
   ],
   "source": [
    "for x in []:\n",
    "    print('Never runs')\n",
    "else:\n",
    "    print('For Else block!')"
   ]
  },
  {
   "cell_type": "markdown",
   "metadata": {},
   "source": [
    "`else`블록은 `while` 루프가 처음부터 `False`인 경우에도 실행된다."
   ]
  },
  {
   "cell_type": "code",
   "execution_count": 4,
   "metadata": {},
   "outputs": [
    {
     "name": "stdout",
     "output_type": "stream",
     "text": [
      "While Else block!\n"
     ]
    }
   ],
   "source": [
    "while False:\n",
    "    print('Never runs')\n",
    "else:\n",
    "    print('While Else block!')"
   ]
  },
  {
   "cell_type": "markdown",
   "metadata": {},
   "source": [
    "루프 다음에 오는 `else`블록은 루프로 뭔가를 검색할 때 유용하기 때문이다. <br />\n",
    "예를 들어 두 숫자가 서로소(coprime: 공약수가 1밖에 없는 둘 이상의 수)인지 판별하는 예제인 경우 모든 경우를 시도한 후에 루프가 끝난다. <br />\n",
    "`else`블록은 루프가 `break`를 만나지 않아 숫자가 서로소일 때 실행된다."
   ]
  },
  {
   "cell_type": "code",
   "execution_count": 5,
   "metadata": {},
   "outputs": [
    {
     "name": "stdout",
     "output_type": "stream",
     "text": [
      "Testing 2\n",
      "Testing 3\n",
      "Testing 4\n",
      "Coprime\n"
     ]
    }
   ],
   "source": [
    "a = 4\n",
    "b = 9\n",
    "for i in range(2, min(a, b) + 1):\n",
    "    print('Testing {}'.format(i))\n",
    "    if a % i == 0 and b % i == 0:\n",
    "        print('Not coprime')\n",
    "        break\n",
    "else:\n",
    "    print('Coprime')"
   ]
  },
  {
   "cell_type": "markdown",
   "metadata": {},
   "source": [
    "하지만, 이런 방식으로 코딩을 하면 안된다. 앞에서 배운 [Better Way 4](https://github.com/ExcelsiorCJH/Study/blob/master/Python/Effective-python/Chap01-Pythonic_Thinking/Item04-Write_Helper_Function_Instead_of_Complex_Expressions.ipynb)의 헬퍼 함수를 작성하는 것이 좋다. <br />\n",
    "첫 번째 방법은 찾으려는 조건을 찾았을 때 바로 반환하는 것이다. "
   ]
  },
  {
   "cell_type": "code",
   "execution_count": 6,
   "metadata": {},
   "outputs": [],
   "source": [
    "def coprime(a, b):\n",
    "    for i in range(2, min(a, b) + 1):\n",
    "        if a % i == 0 and b % i == 0:\n",
    "            return False\n",
    "    return True"
   ]
  },
  {
   "cell_type": "markdown",
   "metadata": {},
   "source": [
    "두 번째 방법은 루프에서 찾으려는 대상을 찾았는지 알려주는 결과 변수를 사용하는 것이다."
   ]
  },
  {
   "cell_type": "code",
   "execution_count": 7,
   "metadata": {},
   "outputs": [],
   "source": [
    "def coprime2(a, b):\n",
    "    is_coprime = True\n",
    "    for i in range(2, min(a, b) + 1):\n",
    "        if a % i == 0 and b % i == 0:\n",
    "            is_coprime = False\n",
    "            break\n",
    "    return is_coprime"
   ]
  },
  {
   "cell_type": "markdown",
   "metadata": {},
   "source": [
    "위의 두 가지 헬퍼 함수는 다른 사람들이 보기에 코드를 훨씬 쉽게 이해할 수 있다. <br />\n",
    "따라서 루프 다음에 오는 `for` 다음 `else` 블록은 되도록 사용하지 않는 것이 좋다. "
   ]
  },
  {
   "cell_type": "markdown",
   "metadata": {},
   "source": [
    "### 핵심 정리\n",
    "* 파이썬에는 `for`와 `while`루프의 내부 블록 바로 뒤에 `else`블록을 사용할 수 있게 하는 문법이 있다.\n",
    "* 루프 안의 `break`문을 만나지 않은 경우에만 루프 다음에 오는 `else`블록이 실행된다.\n",
    "* 루프 뒤에 `else` 블록을 사용하면 직관적이지 않고 해석하기 어려움으로 사용하지 않는 것이 좋다."
   ]
  }
 ],
 "metadata": {
  "kernelspec": {
   "display_name": "Python 3",
   "language": "python",
   "name": "python3"
  },
  "language_info": {
   "codemirror_mode": {
    "name": "ipython",
    "version": 3
   },
   "file_extension": ".py",
   "mimetype": "text/x-python",
   "name": "python",
   "nbconvert_exporter": "python",
   "pygments_lexer": "ipython3",
   "version": "3.5.4"
  }
 },
 "nbformat": 4,
 "nbformat_minor": 2
}
