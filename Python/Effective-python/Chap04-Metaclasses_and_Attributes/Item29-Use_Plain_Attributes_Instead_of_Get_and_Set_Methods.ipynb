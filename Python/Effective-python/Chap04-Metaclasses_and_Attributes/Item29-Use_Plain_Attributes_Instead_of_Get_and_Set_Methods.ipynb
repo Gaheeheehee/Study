{
 "cells": [
  {
   "cell_type": "markdown",
   "metadata": {},
   "source": [
    "## BETTER WAY 29 - 게터와 세터 메소드 대신에 일반 속성을 사용하자\n",
    "## Item29 - Use Plain Attributes Instead of Get and Set Methods"
   ]
  },
  {
   "cell_type": "markdown",
   "metadata": {},
   "source": [
    "자바나 다른 언어에서 파이썬으로 넘어온 프로그래머들은 자연스레 클래스에 게터(getter)와 세터(setter) 메서드를 명시적으로 구현하려고 한다. (그런가?...)"
   ]
  },
  {
   "cell_type": "code",
   "execution_count": 1,
   "metadata": {},
   "outputs": [],
   "source": [
    "class OldResistor(object):\n",
    "    def __init__(self, ohms):\n",
    "        self._ohms = ohms\n",
    "        \n",
    "    def get_ohms(self):\n",
    "        return self._ohms\n",
    "    \n",
    "    def set_ohms(self, ohms):\n",
    "        self._ohms = ohms"
   ]
  },
  {
   "cell_type": "markdown",
   "metadata": {},
   "source": [
    "이런 게터와 세터를 사용하는 방법은 간단하지만 파이썬답지 않다."
   ]
  },
  {
   "cell_type": "code",
   "execution_count": 2,
   "metadata": {},
   "outputs": [
    {
     "name": "stdout",
     "output_type": "stream",
     "text": [
      "Before: 50000.0\n",
      "After: 10000.0\n"
     ]
    }
   ],
   "source": [
    "r0 = OldResistor(50e3)\n",
    "print('Before: %5r' % r0.get_ohms())\n",
    "r0.set_ohms(10e3)\n",
    "print('After: %5r' % r0.get_ohms())"
   ]
  },
  {
   "cell_type": "markdown",
   "metadata": {},
   "source": [
    "게터와 세터 메서드는 특히 즉석에서 증가시키기 같은 연산에는 사용하기 불편하다."
   ]
  },
  {
   "cell_type": "code",
   "execution_count": 3,
   "metadata": {},
   "outputs": [
    {
     "name": "stdout",
     "output_type": "stream",
     "text": [
      "After: 15000.0\n"
     ]
    }
   ],
   "source": [
    "r0.set_ohms(r0.get_ohms() + 5e3)\n",
    "print('After: %5r' % r0.get_ohms())"
   ]
  },
  {
   "cell_type": "markdown",
   "metadata": {},
   "source": [
    " 파이썬에서는 명시적인 게터와 세터를 구현할 일이 거의 없다. 대신 항상 간단한 공개 속성부터 구현하기 시작해야 한다."
   ]
  },
  {
   "cell_type": "code",
   "execution_count": 4,
   "metadata": {},
   "outputs": [],
   "source": [
    "class Resistor(object):\n",
    "    def __init__(self, ohms):\n",
    "        self.ohms = ohms\n",
    "        self.voltage = 0\n",
    "        self.current = 0\n",
    "        \n",
    "\n",
    "r1 = Resistor(50e3)\n",
    "r1.ohms = 10e3"
   ]
  },
  {
   "cell_type": "markdown",
   "metadata": {},
   "source": [
    "이렇게 하면 즉석에서 증가시키기 같은 연산이 자연스럽고 명확해진다."
   ]
  },
  {
   "cell_type": "code",
   "execution_count": 5,
   "metadata": {},
   "outputs": [
    {
     "name": "stdout",
     "output_type": "stream",
     "text": [
      "15000.0\n"
     ]
    }
   ],
   "source": [
    "r1.ohms += 5e3\n",
    "print(r1.ohms)"
   ]
  },
  {
   "cell_type": "markdown",
   "metadata": {},
   "source": [
    "파이썬에서는 `@property` 데코레이터(decorator)를 이용해 getter와 setter 속성을 사용하는 방법이 있다. 단, 제대로 동작하려면 세터와 게터 메서드의 이름이 프로퍼티 이름과 일치해야 한다."
   ]
  },
  {
   "cell_type": "code",
   "execution_count": 6,
   "metadata": {},
   "outputs": [],
   "source": [
    "class VoltageReistance(Resistor):\n",
    "    def __init__(self, ohms):\n",
    "        super().__init__(ohms)\n",
    "        self._voltage = 0\n",
    "        \n",
    "    @property\n",
    "    def voltage(self):\n",
    "        return self._voltage\n",
    "    \n",
    "    @voltage.setter\n",
    "    def voltage(self, voltage):\n",
    "        self._voltage = voltage\n",
    "        self.current = self._voltage / self.ohms"
   ]
  },
  {
   "cell_type": "code",
   "execution_count": 7,
   "metadata": {},
   "outputs": [
    {
     "name": "stdout",
     "output_type": "stream",
     "text": [
      "Before:     0 amps\n",
      "After:  0.01 amps\n"
     ]
    }
   ],
   "source": [
    "r2 = VoltageReistance(1e3)\n",
    "print('Before: %5r amps' % r2.current)\n",
    "r2.voltage = 10\n",
    "print('After: %5r amps' % r2.current)"
   ]
  },
  {
   "cell_type": "markdown",
   "metadata": {},
   "source": [
    "`@property`에 `setter`를 설정하면 클래스에 전달된 값들의 타입을 체크하고 값을 검증할 수 있다. 아래의 클래스는 모든 저항값이 0옴보다 크다는 것을 나타내는 클래스이다."
   ]
  },
  {
   "cell_type": "code",
   "execution_count": 8,
   "metadata": {},
   "outputs": [],
   "source": [
    "class BoundedResistance(Resistor):\n",
    "    def __init__(self, ohms):\n",
    "        super().__init__(ohms)\n",
    "        \n",
    "    @property\n",
    "    def ohms(self):\n",
    "        return self._ohms\n",
    "    \n",
    "    @ohms.setter\n",
    "    def ohms(self, ohms):\n",
    "        if ohms <= 0:\n",
    "            raise ValueError('%f ohms must be > 0' % ohms)\n",
    "            self._ohms = ohms"
   ]
  },
  {
   "cell_type": "markdown",
   "metadata": {},
   "source": [
    "속성에 올바르지 않은 저항값을 할당하면 예외가 일어난다."
   ]
  },
  {
   "cell_type": "code",
   "execution_count": 9,
   "metadata": {},
   "outputs": [
    {
     "ename": "ValueError",
     "evalue": "0.000000 ohms must be > 0",
     "output_type": "error",
     "traceback": [
      "\u001b[1;31m---------------------------------------------------------------------------\u001b[0m",
      "\u001b[1;31mValueError\u001b[0m                                Traceback (most recent call last)",
      "\u001b[1;32m<ipython-input-9-4faf6805d103>\u001b[0m in \u001b[0;36m<module>\u001b[1;34m()\u001b[0m\n\u001b[0;32m      1\u001b[0m \u001b[0mr3\u001b[0m \u001b[1;33m=\u001b[0m \u001b[0mBoundedResistance\u001b[0m\u001b[1;33m(\u001b[0m\u001b[1;36m1e3\u001b[0m\u001b[1;33m)\u001b[0m\u001b[1;33m\u001b[0m\u001b[0m\n\u001b[1;32m----> 2\u001b[1;33m \u001b[0mr3\u001b[0m\u001b[1;33m.\u001b[0m\u001b[0mohms\u001b[0m \u001b[1;33m=\u001b[0m \u001b[1;36m0\u001b[0m\u001b[1;33m\u001b[0m\u001b[0m\n\u001b[0m",
      "\u001b[1;32m<ipython-input-8-3e0090d7e1cb>\u001b[0m in \u001b[0;36mohms\u001b[1;34m(self, ohms)\u001b[0m\n\u001b[0;32m     10\u001b[0m     \u001b[1;32mdef\u001b[0m \u001b[0mohms\u001b[0m\u001b[1;33m(\u001b[0m\u001b[0mself\u001b[0m\u001b[1;33m,\u001b[0m \u001b[0mohms\u001b[0m\u001b[1;33m)\u001b[0m\u001b[1;33m:\u001b[0m\u001b[1;33m\u001b[0m\u001b[0m\n\u001b[0;32m     11\u001b[0m         \u001b[1;32mif\u001b[0m \u001b[0mohms\u001b[0m \u001b[1;33m<=\u001b[0m \u001b[1;36m0\u001b[0m\u001b[1;33m:\u001b[0m\u001b[1;33m\u001b[0m\u001b[0m\n\u001b[1;32m---> 12\u001b[1;33m             \u001b[1;32mraise\u001b[0m \u001b[0mValueError\u001b[0m\u001b[1;33m(\u001b[0m\u001b[1;34m'%f ohms must be > 0'\u001b[0m \u001b[1;33m%\u001b[0m \u001b[0mohms\u001b[0m\u001b[1;33m)\u001b[0m\u001b[1;33m\u001b[0m\u001b[0m\n\u001b[0m\u001b[0;32m     13\u001b[0m             \u001b[0mself\u001b[0m\u001b[1;33m.\u001b[0m\u001b[0m_ohms\u001b[0m \u001b[1;33m=\u001b[0m \u001b[0mohms\u001b[0m\u001b[1;33m\u001b[0m\u001b[0m\n",
      "\u001b[1;31mValueError\u001b[0m: 0.000000 ohms must be > 0"
     ]
    }
   ],
   "source": [
    "r3 = BoundedResistance(1e3)\n",
    "r3.ohms = 0"
   ]
  },
  {
   "cell_type": "markdown",
   "metadata": {},
   "source": [
    "생성자에 올바르지 않은 값을 넘겨도 예외가 일어난다."
   ]
  },
  {
   "cell_type": "code",
   "execution_count": 10,
   "metadata": {},
   "outputs": [
    {
     "ename": "ValueError",
     "evalue": "-5.000000 ohms must be > 0",
     "output_type": "error",
     "traceback": [
      "\u001b[1;31m---------------------------------------------------------------------------\u001b[0m",
      "\u001b[1;31mValueError\u001b[0m                                Traceback (most recent call last)",
      "\u001b[1;32m<ipython-input-10-9fc5cf3426e1>\u001b[0m in \u001b[0;36m<module>\u001b[1;34m()\u001b[0m\n\u001b[1;32m----> 1\u001b[1;33m \u001b[0mBoundedResistance\u001b[0m\u001b[1;33m(\u001b[0m\u001b[1;33m-\u001b[0m\u001b[1;36m5\u001b[0m\u001b[1;33m)\u001b[0m\u001b[1;33m\u001b[0m\u001b[0m\n\u001b[0m",
      "\u001b[1;32m<ipython-input-8-3e0090d7e1cb>\u001b[0m in \u001b[0;36m__init__\u001b[1;34m(self, ohms)\u001b[0m\n\u001b[0;32m      1\u001b[0m \u001b[1;32mclass\u001b[0m \u001b[0mBoundedResistance\u001b[0m\u001b[1;33m(\u001b[0m\u001b[0mResistor\u001b[0m\u001b[1;33m)\u001b[0m\u001b[1;33m:\u001b[0m\u001b[1;33m\u001b[0m\u001b[0m\n\u001b[0;32m      2\u001b[0m     \u001b[1;32mdef\u001b[0m \u001b[0m__init__\u001b[0m\u001b[1;33m(\u001b[0m\u001b[0mself\u001b[0m\u001b[1;33m,\u001b[0m \u001b[0mohms\u001b[0m\u001b[1;33m)\u001b[0m\u001b[1;33m:\u001b[0m\u001b[1;33m\u001b[0m\u001b[0m\n\u001b[1;32m----> 3\u001b[1;33m         \u001b[0msuper\u001b[0m\u001b[1;33m(\u001b[0m\u001b[1;33m)\u001b[0m\u001b[1;33m.\u001b[0m\u001b[0m__init__\u001b[0m\u001b[1;33m(\u001b[0m\u001b[0mohms\u001b[0m\u001b[1;33m)\u001b[0m\u001b[1;33m\u001b[0m\u001b[0m\n\u001b[0m\u001b[0;32m      4\u001b[0m \u001b[1;33m\u001b[0m\u001b[0m\n\u001b[0;32m      5\u001b[0m     \u001b[1;33m@\u001b[0m\u001b[0mproperty\u001b[0m\u001b[1;33m\u001b[0m\u001b[0m\n",
      "\u001b[1;32m<ipython-input-4-fefac0d77678>\u001b[0m in \u001b[0;36m__init__\u001b[1;34m(self, ohms)\u001b[0m\n\u001b[0;32m      1\u001b[0m \u001b[1;32mclass\u001b[0m \u001b[0mResistor\u001b[0m\u001b[1;33m(\u001b[0m\u001b[0mobject\u001b[0m\u001b[1;33m)\u001b[0m\u001b[1;33m:\u001b[0m\u001b[1;33m\u001b[0m\u001b[0m\n\u001b[0;32m      2\u001b[0m     \u001b[1;32mdef\u001b[0m \u001b[0m__init__\u001b[0m\u001b[1;33m(\u001b[0m\u001b[0mself\u001b[0m\u001b[1;33m,\u001b[0m \u001b[0mohms\u001b[0m\u001b[1;33m)\u001b[0m\u001b[1;33m:\u001b[0m\u001b[1;33m\u001b[0m\u001b[0m\n\u001b[1;32m----> 3\u001b[1;33m         \u001b[0mself\u001b[0m\u001b[1;33m.\u001b[0m\u001b[0mohms\u001b[0m \u001b[1;33m=\u001b[0m \u001b[0mohms\u001b[0m\u001b[1;33m\u001b[0m\u001b[0m\n\u001b[0m\u001b[0;32m      4\u001b[0m         \u001b[0mself\u001b[0m\u001b[1;33m.\u001b[0m\u001b[0mvoltage\u001b[0m \u001b[1;33m=\u001b[0m \u001b[1;36m0\u001b[0m\u001b[1;33m\u001b[0m\u001b[0m\n\u001b[0;32m      5\u001b[0m         \u001b[0mself\u001b[0m\u001b[1;33m.\u001b[0m\u001b[0mcurrent\u001b[0m \u001b[1;33m=\u001b[0m \u001b[1;36m0\u001b[0m\u001b[1;33m\u001b[0m\u001b[0m\n",
      "\u001b[1;32m<ipython-input-8-3e0090d7e1cb>\u001b[0m in \u001b[0;36mohms\u001b[1;34m(self, ohms)\u001b[0m\n\u001b[0;32m     10\u001b[0m     \u001b[1;32mdef\u001b[0m \u001b[0mohms\u001b[0m\u001b[1;33m(\u001b[0m\u001b[0mself\u001b[0m\u001b[1;33m,\u001b[0m \u001b[0mohms\u001b[0m\u001b[1;33m)\u001b[0m\u001b[1;33m:\u001b[0m\u001b[1;33m\u001b[0m\u001b[0m\n\u001b[0;32m     11\u001b[0m         \u001b[1;32mif\u001b[0m \u001b[0mohms\u001b[0m \u001b[1;33m<=\u001b[0m \u001b[1;36m0\u001b[0m\u001b[1;33m:\u001b[0m\u001b[1;33m\u001b[0m\u001b[0m\n\u001b[1;32m---> 12\u001b[1;33m             \u001b[1;32mraise\u001b[0m \u001b[0mValueError\u001b[0m\u001b[1;33m(\u001b[0m\u001b[1;34m'%f ohms must be > 0'\u001b[0m \u001b[1;33m%\u001b[0m \u001b[0mohms\u001b[0m\u001b[1;33m)\u001b[0m\u001b[1;33m\u001b[0m\u001b[0m\n\u001b[0m\u001b[0;32m     13\u001b[0m             \u001b[0mself\u001b[0m\u001b[1;33m.\u001b[0m\u001b[0m_ohms\u001b[0m \u001b[1;33m=\u001b[0m \u001b[0mohms\u001b[0m\u001b[1;33m\u001b[0m\u001b[0m\n",
      "\u001b[1;31mValueError\u001b[0m: -5.000000 ohms must be > 0"
     ]
    }
   ],
   "source": [
    "BoundedResistance(-5)"
   ]
  },
  {
   "cell_type": "markdown",
   "metadata": {},
   "source": [
    "부모클래스의 속성을 불변(immutable)으로 만드는 데에도 `@property`를 사용할 수 있다."
   ]
  },
  {
   "cell_type": "code",
   "execution_count": 11,
   "metadata": {},
   "outputs": [],
   "source": [
    "class FixedResistance(Resistor):\n",
    "    def __init__(self, ohms):\n",
    "        super().__init__(ohms)\n",
    "        \n",
    "    @property\n",
    "    def ohms(self):\n",
    "        return self._ohms\n",
    "    \n",
    "    @ohms.setter\n",
    "    def ohms(self, ohms):\n",
    "        if hasattr(self, '_ohms'):\n",
    "            raise AttributeError(\"Can't set attribute\")\n",
    "        self._ohms = ohms"
   ]
  },
  {
   "cell_type": "markdown",
   "metadata": {},
   "source": [
    "이 객체를 생성하고 나서 프로퍼티에 할당하려고 하면 예외가 일어난다."
   ]
  },
  {
   "cell_type": "code",
   "execution_count": 12,
   "metadata": {},
   "outputs": [
    {
     "ename": "AttributeError",
     "evalue": "Can't set attribute",
     "output_type": "error",
     "traceback": [
      "\u001b[1;31m---------------------------------------------------------------------------\u001b[0m",
      "\u001b[1;31mAttributeError\u001b[0m                            Traceback (most recent call last)",
      "\u001b[1;32m<ipython-input-12-7fbedb722fb3>\u001b[0m in \u001b[0;36m<module>\u001b[1;34m()\u001b[0m\n\u001b[0;32m      1\u001b[0m \u001b[0mr4\u001b[0m \u001b[1;33m=\u001b[0m \u001b[0mFixedResistance\u001b[0m\u001b[1;33m(\u001b[0m\u001b[1;36m1e3\u001b[0m\u001b[1;33m)\u001b[0m\u001b[1;33m\u001b[0m\u001b[0m\n\u001b[1;32m----> 2\u001b[1;33m \u001b[0mr4\u001b[0m\u001b[1;33m.\u001b[0m\u001b[0mohms\u001b[0m \u001b[1;33m=\u001b[0m \u001b[1;36m2e3\u001b[0m\u001b[1;33m\u001b[0m\u001b[0m\n\u001b[0m",
      "\u001b[1;32m<ipython-input-11-89261440de38>\u001b[0m in \u001b[0;36mohms\u001b[1;34m(self, ohms)\u001b[0m\n\u001b[0;32m     10\u001b[0m     \u001b[1;32mdef\u001b[0m \u001b[0mohms\u001b[0m\u001b[1;33m(\u001b[0m\u001b[0mself\u001b[0m\u001b[1;33m,\u001b[0m \u001b[0mohms\u001b[0m\u001b[1;33m)\u001b[0m\u001b[1;33m:\u001b[0m\u001b[1;33m\u001b[0m\u001b[0m\n\u001b[0;32m     11\u001b[0m         \u001b[1;32mif\u001b[0m \u001b[0mhasattr\u001b[0m\u001b[1;33m(\u001b[0m\u001b[0mself\u001b[0m\u001b[1;33m,\u001b[0m \u001b[1;34m'_ohms'\u001b[0m\u001b[1;33m)\u001b[0m\u001b[1;33m:\u001b[0m\u001b[1;33m\u001b[0m\u001b[0m\n\u001b[1;32m---> 12\u001b[1;33m             \u001b[1;32mraise\u001b[0m \u001b[0mAttributeError\u001b[0m\u001b[1;33m(\u001b[0m\u001b[1;34m\"Can't set attribute\"\u001b[0m\u001b[1;33m)\u001b[0m\u001b[1;33m\u001b[0m\u001b[0m\n\u001b[0m\u001b[0;32m     13\u001b[0m         \u001b[0mself\u001b[0m\u001b[1;33m.\u001b[0m\u001b[0m_ohms\u001b[0m \u001b[1;33m=\u001b[0m \u001b[0mohms\u001b[0m\u001b[1;33m\u001b[0m\u001b[0m\n",
      "\u001b[1;31mAttributeError\u001b[0m: Can't set attribute"
     ]
    }
   ],
   "source": [
    "r4 = FixedResistance(1e3)\n",
    "r4.ohms = 2e3"
   ]
  },
  {
   "cell_type": "markdown",
   "metadata": {},
   "source": [
    "`@property`의 가장 큰 단점은 속성에 대응하는 메서드를 서브클래스에서만 공유할 수 있다는 점이다. 서로 관련이 없는 클래스는 같은 구현을 공유하지 못한다."
   ]
  },
  {
   "cell_type": "markdown",
   "metadata": {},
   "source": [
    "### 정리\n",
    "- 간단한 공개 속성을 사용하여 새 클래스 인터페이스를 정의하고 세터와 게터 메서드는 사용하지 말자.\n",
    "- 객체의 속성에 접근할 때 특별한 동작을 정의하려면 `@property`를 사용하자."
   ]
  }
 ],
 "metadata": {
  "kernelspec": {
   "display_name": "Python 3",
   "language": "python",
   "name": "python3"
  },
  "language_info": {
   "codemirror_mode": {
    "name": "ipython",
    "version": 3
   },
   "file_extension": ".py",
   "mimetype": "text/x-python",
   "name": "python",
   "nbconvert_exporter": "python",
   "pygments_lexer": "ipython3",
   "version": "3.5.4"
  }
 },
 "nbformat": 4,
 "nbformat_minor": 2
}
