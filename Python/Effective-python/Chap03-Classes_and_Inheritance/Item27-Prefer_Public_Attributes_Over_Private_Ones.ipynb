{
 "cells": [
  {
   "cell_type": "markdown",
   "metadata": {},
   "source": [
    "## BETTER WAY 27 - 비공개 속성보다는 공개 속성을 사용하자\n",
    "## Item27 - Prefer Public Attributes Over Private Ones"
   ]
  },
  {
   "cell_type": "markdown",
   "metadata": {},
   "source": [
    "파이썬에는 클래스 속성의 가시성(visibility)이 공개(public)와 비공개(private) 두 유형밖에 없다. <br />\n",
    "아래의 예제 클래스를 보자"
   ]
  },
  {
   "cell_type": "code",
   "execution_count": 2,
   "metadata": {},
   "outputs": [],
   "source": [
    "class MyObject(object):\n",
    "    def __init__(self):\n",
    "        self.public_field = 5\n",
    "        self.__private_field = 10\n",
    "        \n",
    "    def get_private_field(self):\n",
    "        return self.__private_field"
   ]
  },
  {
   "cell_type": "markdown",
   "metadata": {},
   "source": [
    "공개 속성은 어디에서든 객체에 점 연산자(`.`)를 사용하여 접근할 수 있다."
   ]
  },
  {
   "cell_type": "code",
   "execution_count": 3,
   "metadata": {},
   "outputs": [],
   "source": [
    "foo = MyObject()\n",
    "assert foo.public_field == 5"
   ]
  },
  {
   "cell_type": "markdown",
   "metadata": {},
   "source": [
    "비공개 필드는 속성 이름 앞에 밑줄 두 개를 붙여 지정한다.([Better way 02 참고](https://github.com/ExcelsiorCJH/Study/blob/master/Python/Effective-python/Chap01-Pythonic_Thinking/Item02-Follow_the_PEP8_Style_Guide.ipynb)) <br /> \n",
    "같은 클래스에 속한 메소드에서는 비공개 필드에 직접 접근할 수 있다."
   ]
  },
  {
   "cell_type": "code",
   "execution_count": 4,
   "metadata": {},
   "outputs": [
    {
     "name": "stdout",
     "output_type": "stream",
     "text": [
      "10\n"
     ]
    }
   ],
   "source": [
    "print(foo.get_private_field())"
   ]
  },
  {
   "cell_type": "markdown",
   "metadata": {},
   "source": [
    "하지만 클래스 밖에서 직접 비공개 필드에 접근할 경우 에러가 난다."
   ]
  },
  {
   "cell_type": "code",
   "execution_count": 5,
   "metadata": {},
   "outputs": [
    {
     "ename": "AttributeError",
     "evalue": "'MyObject' object has no attribute '__private_field'",
     "output_type": "error",
     "traceback": [
      "\u001b[1;31m---------------------------------------------------------------------------\u001b[0m",
      "\u001b[1;31mAttributeError\u001b[0m                            Traceback (most recent call last)",
      "\u001b[1;32m<ipython-input-5-359c4c0f84c4>\u001b[0m in \u001b[0;36m<module>\u001b[1;34m()\u001b[0m\n\u001b[1;32m----> 1\u001b[1;33m \u001b[0mprint\u001b[0m\u001b[1;33m(\u001b[0m\u001b[0mfoo\u001b[0m\u001b[1;33m.\u001b[0m\u001b[0m__private_field\u001b[0m\u001b[1;33m)\u001b[0m\u001b[1;33m\u001b[0m\u001b[0m\n\u001b[0m",
      "\u001b[1;31mAttributeError\u001b[0m: 'MyObject' object has no attribute '__private_field'"
     ]
    }
   ],
   "source": [
    "print(foo.__private_field)"
   ]
  },
  {
   "cell_type": "markdown",
   "metadata": {},
   "source": [
    "클래스메소드(`@classmethod`)도 같은 `class` 블록에 선언되어 있으므로 비공개 속성에 접근할 수 있다."
   ]
  },
  {
   "cell_type": "code",
   "execution_count": 7,
   "metadata": {},
   "outputs": [
    {
     "name": "stdout",
     "output_type": "stream",
     "text": [
      "71\n"
     ]
    }
   ],
   "source": [
    "class MyOtherObject(object):\n",
    "    def __init__(self):\n",
    "        self.__private_field = 71\n",
    "        \n",
    "    @classmethod\n",
    "    def get_private_field_of_instance(cls, instance):\n",
    "        return instance.__private_field\n",
    "    \n",
    "    \n",
    "bar = MyOtherObject()\n",
    "print(MyOtherObject.get_private_field_of_instance(bar))"
   ]
  },
  {
   "cell_type": "markdown",
   "metadata": {},
   "source": [
    "비공개 필드는 상속받는 서브클래스에서는 부모 클래스의 비공개 필드에 접근할 수 없다."
   ]
  },
  {
   "cell_type": "code",
   "execution_count": 8,
   "metadata": {},
   "outputs": [
    {
     "ename": "AttributeError",
     "evalue": "'MyChildObject' object has no attribute '_MyChildObject__private_field'",
     "output_type": "error",
     "traceback": [
      "\u001b[1;31m---------------------------------------------------------------------------\u001b[0m",
      "\u001b[1;31mAttributeError\u001b[0m                            Traceback (most recent call last)",
      "\u001b[1;32m<ipython-input-8-34d7128b454a>\u001b[0m in \u001b[0;36m<module>\u001b[1;34m()\u001b[0m\n\u001b[0;32m     10\u001b[0m \u001b[1;33m\u001b[0m\u001b[0m\n\u001b[0;32m     11\u001b[0m \u001b[0mbaz\u001b[0m \u001b[1;33m=\u001b[0m \u001b[0mMyChildObject\u001b[0m\u001b[1;33m(\u001b[0m\u001b[1;33m)\u001b[0m\u001b[1;33m\u001b[0m\u001b[0m\n\u001b[1;32m---> 12\u001b[1;33m \u001b[0mbaz\u001b[0m\u001b[1;33m.\u001b[0m\u001b[0mget_private_field\u001b[0m\u001b[1;33m(\u001b[0m\u001b[1;33m)\u001b[0m\u001b[1;33m\u001b[0m\u001b[0m\n\u001b[0m",
      "\u001b[1;32m<ipython-input-8-34d7128b454a>\u001b[0m in \u001b[0;36mget_private_field\u001b[1;34m(self)\u001b[0m\n\u001b[0;32m      6\u001b[0m \u001b[1;32mclass\u001b[0m \u001b[0mMyChildObject\u001b[0m\u001b[1;33m(\u001b[0m\u001b[0mMyParentObject\u001b[0m\u001b[1;33m)\u001b[0m\u001b[1;33m:\u001b[0m\u001b[1;33m\u001b[0m\u001b[0m\n\u001b[0;32m      7\u001b[0m     \u001b[1;32mdef\u001b[0m \u001b[0mget_private_field\u001b[0m\u001b[1;33m(\u001b[0m\u001b[0mself\u001b[0m\u001b[1;33m)\u001b[0m\u001b[1;33m:\u001b[0m\u001b[1;33m\u001b[0m\u001b[0m\n\u001b[1;32m----> 8\u001b[1;33m         \u001b[1;32mreturn\u001b[0m \u001b[0mself\u001b[0m\u001b[1;33m.\u001b[0m\u001b[0m__private_field\u001b[0m\u001b[1;33m\u001b[0m\u001b[0m\n\u001b[0m\u001b[0;32m      9\u001b[0m \u001b[1;33m\u001b[0m\u001b[0m\n\u001b[0;32m     10\u001b[0m \u001b[1;33m\u001b[0m\u001b[0m\n",
      "\u001b[1;31mAttributeError\u001b[0m: 'MyChildObject' object has no attribute '_MyChildObject__private_field'"
     ]
    }
   ],
   "source": [
    "class MyParentObject(object):\n",
    "    def __init__(self):\n",
    "        self.__private_field = 71\n",
    "        \n",
    "        \n",
    "class MyChildObject(MyParentObject):\n",
    "    def get_private_field(self):\n",
    "        return self.__private_field\n",
    "    \n",
    "\n",
    "baz = MyChildObject()\n",
    "baz.get_private_field()"
   ]
  },
  {
   "cell_type": "markdown",
   "metadata": {},
   "source": [
    "비공개 속성의 동작은 간단하게 속성 이름을 바꾸는 방식으로 구현된다. <br />\n",
    "파이썬 컴파일러는 위의`MyChildObject.get_private_field` 메소드에서 비공개 속성에 접근하는 코드를 발견하면, `__private_field` 를 `_MyChildObject__private_field` 에 접근하는 코드로 변환한다."
   ]
  },
  {
   "cell_type": "markdown",
   "metadata": {},
   "source": [
    "위의 예제에서는 `__private_field` 가 `MyParentObject.__init__`에만 정의 되어 있으므로 비공개 속성의 실제 이름은 `_MyParentObject__private_field` 가 된다. <br />\n",
    "따라서, 자식 클래스에서 부모 클래스의 비공개 속성에 접근하는 동작은 단순히 속성 이름이 바껴 일치하지 않아서 에러가 나는 것이다. 아래의 예제를 보자."
   ]
  },
  {
   "cell_type": "code",
   "execution_count": 9,
   "metadata": {},
   "outputs": [
    {
     "name": "stdout",
     "output_type": "stream",
     "text": [
      "71\n"
     ]
    }
   ],
   "source": [
    "print(baz._MyParentObject__private_field)"
   ]
  },
  {
   "cell_type": "markdown",
   "metadata": {},
   "source": [
    "아래의 코드처럼 객체의 속성 딕셔너리를 살펴보면 실제로 비공개 속성의 이름이 변환되어 저장되어 있음을 알 수 있다."
   ]
  },
  {
   "cell_type": "code",
   "execution_count": 10,
   "metadata": {},
   "outputs": [
    {
     "name": "stdout",
     "output_type": "stream",
     "text": [
      "{'_MyParentObject__private_field': 71}\n"
     ]
    }
   ],
   "source": [
    "print(baz.__dict__)"
   ]
  },
  {
   "cell_type": "markdown",
   "metadata": {},
   "source": [
    "파이썬에서 비공개 속성 문법이 가시성을 엄격하게 강제하지 않는 이유는 무엇일까? 교재에서는 아래와 같은 이유 때문이라고 한다.\n",
    "> 가장 간단한 답은 파이썬에서 자주 인용되는 “우리 모두 성인이라는 사실에 동의합니다”라는 좌우명에 있다. 파이썬 프로그래머들은 개방으로 얻는 장점이 폐쇄로 얻는 단점보다 크다고 믿는다."
   ]
  },
  {
   "cell_type": "markdown",
   "metadata": {},
   "source": [
    "이러한 이유로 파이썬 프로그래머들은 무분별하게 객체의 내부에 접근하는 위험을 최소화하려고 스타일 가이드 ([Better way 02 참고](https://github.com/ExcelsiorCJH/Study/blob/master/Python/Effective-python/Chap01-Pythonic_Thinking/Item02-Follow_the_PEP8_Style_Guide.ipynb))에 정의된 Naming 관례를 따른다."
   ]
  },
  {
   "cell_type": "markdown",
   "metadata": {},
   "source": [
    "`_protected_field` 처럼 앞에 밑줄 한 개를 붙인 필드는 보호(protected) 필드로 취급해서 클래스의 외부 사용자들이 신중하게 다뤄야 함을 의미한다."
   ]
  },
  {
   "cell_type": "markdown",
   "metadata": {},
   "source": [
    "## 정리\n",
    "- 파이썬 컴파일러는 비공개 속성을 엄격하게 강요하지 않는다.\n",
    "- 서브클래스가 내부 API와 속성에 접근하지 못하게 막기보다는 처음부터 내부 API와 속성으로 더 많은 일을 할 수 있게 설계하자.\n",
    "- 비공개 속성에 대한 접근을 강제로 제어하지 말고 보호 필드를 문서화해서 서브클래스에 필요한 지침을 제공하자.\n",
    "- 직접 제어할 수 없는 서브클래스와 이름이 충돌하지 않게 할 때만 비공개 속성을 사용하는 방안을 고려하자."
   ]
  },
  {
   "cell_type": "code",
   "execution_count": null,
   "metadata": {},
   "outputs": [],
   "source": []
  }
 ],
 "metadata": {
  "kernelspec": {
   "display_name": "Python 3",
   "language": "python",
   "name": "python3"
  },
  "language_info": {
   "codemirror_mode": {
    "name": "ipython",
    "version": 3
   },
   "file_extension": ".py",
   "mimetype": "text/x-python",
   "name": "python",
   "nbconvert_exporter": "python",
   "pygments_lexer": "ipython3",
   "version": "3.5.4"
  }
 },
 "nbformat": 4,
 "nbformat_minor": 2
}
