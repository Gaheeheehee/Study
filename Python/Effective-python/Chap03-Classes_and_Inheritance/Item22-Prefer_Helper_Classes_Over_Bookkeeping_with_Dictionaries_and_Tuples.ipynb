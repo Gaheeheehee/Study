{
 "cells": [
  {
   "cell_type": "markdown",
   "metadata": {},
   "source": [
    "## BETTER WAY 22 - 딕셔너리와 튜플보다는 헬퍼 클래스로 관리하자\n",
    "## Item22 - Prefer Helper Classes Over Bookkeeping with Dictionaries and Tuples"
   ]
  },
  {
   "cell_type": "markdown",
   "metadata": {},
   "source": [
    "파이썬의 딕셔너리 타입은 객체의 수명이 지속되는 동안 동적인 내부 상태를 관리하는 용도로 좋다. '동적'이란 예상치 못한 식별자(identifier)들을 관리해야 하는 상황을 말한다. <br />\n",
    "예를 들어 학생의 성적을 기록하고 싶을 경우, 학생별로 딕셔너리에 이름을 저장하는 클래스를 아래와 같이 작성할 수 있다."
   ]
  },
  {
   "cell_type": "code",
   "execution_count": 1,
   "metadata": {},
   "outputs": [],
   "source": [
    "class SimpleGradebook(object):\n",
    "    def __init__(self):\n",
    "        self._grades = {}\n",
    "        \n",
    "    def add_student(self, name):\n",
    "        self._grades[name] = []\n",
    "        \n",
    "    def report_grade(self, name, score):\n",
    "        self._grades[name].append(score)\n",
    "        \n",
    "    def average_grade(self, name):\n",
    "        grades = self._grades[name]\n",
    "        return sum(grades) / len(grades)"
   ]
  },
  {
   "cell_type": "code",
   "execution_count": 2,
   "metadata": {},
   "outputs": [
    {
     "name": "stdout",
     "output_type": "stream",
     "text": [
      "83.33333333333333\n"
     ]
    }
   ],
   "source": [
    "book = SimpleGradebook()\n",
    "book.add_student('Isaac Newton')\n",
    "book.report_grade('Isaac Newton', 90)\n",
    "book.report_grade('Isaac Newton', 80)\n",
    "book.report_grade('Isaac Newton', 80)\n",
    "\n",
    "print(book.average_grade('Isaac Newton'))"
   ]
  },
  {
   "cell_type": "markdown",
   "metadata": {},
   "source": [
    "이번엔 `SimpleGradebook` 클래스를 확장해서 과목별로 성적을 저장할 경우 아래와 같이 작성할 수 있다."
   ]
  },
  {
   "cell_type": "code",
   "execution_count": 3,
   "metadata": {},
   "outputs": [],
   "source": [
    "class BySubjectGradebook(object):\n",
    "    def __init__(self):\n",
    "        self._grades = {}\n",
    "        \n",
    "    def add_student(self, name):\n",
    "        self._grades[name] = {}\n",
    "    \n",
    "    def report_grade(self, name, subject, grade):\n",
    "        by_subject = self._grades[name]\n",
    "        grade_list = by_subject.setdefault(subject, [])\n",
    "        grade_list.append(grade)\n",
    "        \n",
    "    def average_grade(self, name):\n",
    "        by_subject = self._grades[name]\n",
    "        total, count = 0, 0\n",
    "        for grades in by_subject.values():\n",
    "            total += sum(grades)\n",
    "            count += len(grades)\n",
    "        print(by_subject)\n",
    "        return total / count"
   ]
  },
  {
   "cell_type": "code",
   "execution_count": 4,
   "metadata": {},
   "outputs": [
    {
     "name": "stdout",
     "output_type": "stream",
     "text": [
      "{'체육': [90, 95], '수학': [75, 65]}\n",
      "81.25\n"
     ]
    }
   ],
   "source": [
    "book = BySubjectGradebook()\n",
    "book.add_student('최종현')\n",
    "book.report_grade('최종현', '수학', 75)\n",
    "book.report_grade('최종현', '수학', 65)\n",
    "book.report_grade('최종현', '체육', 90)\n",
    "book.report_grade('최종현', '체육', 95)\n",
    "\n",
    "print(book.average_grade('최종현'))"
   ]
  },
  {
   "cell_type": "markdown",
   "metadata": {},
   "source": [
    "이제는 수업의 최종 성적에서 각 점수가 차지하는 비중르 매겨서 중간고사와 기말고사를 쪽지시험 보다 중요하게 만들려고 한다. 이 기능을 구현하는 방법 중 하나는 가장 안쪽 딕셔너리를 변경해서 과목(키)를 성적(값)에 매핑하지 않고, 성적과 비중을 담은 튜플 `(score, weight)`에 매핑하는 방법이다."
   ]
  },
  {
   "cell_type": "code",
   "execution_count": 5,
   "metadata": {},
   "outputs": [],
   "source": [
    "class WeightedGradebook(object):\n",
    "    def __init__(self):\n",
    "        self._grades = {}\n",
    "        \n",
    "    def add_student(self, name):\n",
    "        self._grades[name] = {}\n",
    "        \n",
    "    def report_grade(self, name, subject, score, weight):\n",
    "        by_subject = self._grades[name]\n",
    "        grade_list = by_subject.setdefault(subject, [])\n",
    "        grade_list.append((score, weight))\n",
    "        \n",
    "    def average_grade(self, name):\n",
    "        by_subject = self._grades[name]\n",
    "        score_sum, score_count = 0, 0\n",
    "        print(by_subject)\n",
    "        for subject, scores in by_subject.items():\n",
    "            subject_avg, total_weight = 0, 0\n",
    "            for score, weight in scores:\n",
    "                subject_avg += score * weight\n",
    "                total_weight += weight\n",
    "            score_sum += subject_avg / total_weight\n",
    "            score_count += 1\n",
    "        return score_sum / score_count"
   ]
  },
  {
   "cell_type": "code",
   "execution_count": 6,
   "metadata": {},
   "outputs": [
    {
     "name": "stdout",
     "output_type": "stream",
     "text": [
      "{'Gym': [(100, 0.4), (85, 0.6)], 'Math': [(80, 0.1), (80, 0.1), (70, 0.8)]}\n",
      "81.5\n"
     ]
    }
   ],
   "source": [
    "book = WeightedGradebook()\n",
    "book.add_student('Albert Einstein')\n",
    "book.report_grade('Albert Einstein', 'Math', 80, 0.10)\n",
    "book.report_grade('Albert Einstein', 'Math', 80, 0.10)\n",
    "book.report_grade('Albert Einstein', 'Math', 70, 0.80)\n",
    "book.report_grade('Albert Einstein', 'Gym', 100, 0.40)\n",
    "book.report_grade('Albert Einstein', 'Gym', 85, 0.60)\n",
    "print(book.average_grade('Albert Einstein'))"
   ]
  },
  {
   "cell_type": "markdown",
   "metadata": {},
   "source": [
    "위의 예제들은 갈 수록 복잡해진다. 바로 위의 예제에서는 위치 인수가 많아지므로 각각의 인수들이 무엇을 의미하는지 명확해지지 않는다."
   ]
  },
  {
   "cell_type": "markdown",
   "metadata": {},
   "source": [
    "## 클래스 리팩토링\n",
    "\n",
    "관리하기가 복잡한 클래스일 경우 클래스를 세분화(?)하는 것이 좋다. 아래의 코드는 성적들을 기록한 단일 과목을 표현한 클래스(`Subject`)와 학생이 공부한 과목들을 표현하는 클래스(`Student`), 마지막으로 학생의 이름을 담는 클래스(`Gradebook`)이렇게 세 가지 클래스로 나눈 예제이다. 여기서는 성적을 담는 변수인 `Grade`를 `collections`모듈의 `namedtuple`을 이용했다. `namedtuple`에 대한 자세한 설명은 [collections 모듈 - namedtuple](http://excelsior-cjh.tistory.com/entry/collections-%EB%AA%A8%EB%93%88-namedtuple?category=966334) 에서 참고할 수 있다."
   ]
  },
  {
   "cell_type": "code",
   "execution_count": 7,
   "metadata": {},
   "outputs": [],
   "source": [
    "import collections\n",
    "\n",
    "Grade = collections.namedtuple('Grade', ('score', 'weight'))\n",
    "\n",
    "class Subject(object):\n",
    "    def __init__(self):\n",
    "        self._grades = []\n",
    "        \n",
    "    def report_grade(self, score, weight):\n",
    "        self._grades.append(Grade(score, weight))\n",
    "        \n",
    "    def average_grade(self):\n",
    "        total, total_weight = 0, 0\n",
    "        for grade in self._grades:\n",
    "            total += grade.score * grade.weight\n",
    "            total_weight += grade.weight\n",
    "        return total / total_weight"
   ]
  },
  {
   "cell_type": "code",
   "execution_count": 8,
   "metadata": {},
   "outputs": [],
   "source": [
    "class Student(object):\n",
    "    def __init__(self):\n",
    "        self._subjects = {}\n",
    "\n",
    "    def subject(self, name):\n",
    "        if name not in self._subjects:\n",
    "            self._subjects[name] = Subject()\n",
    "        return self._subjects[name]\n",
    "\n",
    "    def average_grade(self):\n",
    "        total, count = 0, 0\n",
    "        for subject in self._subjects.values():\n",
    "            total += subject.average_grade()\n",
    "            count += 1\n",
    "        return total / count"
   ]
  },
  {
   "cell_type": "code",
   "execution_count": 9,
   "metadata": {},
   "outputs": [],
   "source": [
    "class Gradebook(object):\n",
    "    def __init__(self):\n",
    "        self._students = {}\n",
    "\n",
    "    def student(self, name):\n",
    "        if name not in self._students:\n",
    "            self._students[name] = Student()\n",
    "        return self._students[name]"
   ]
  },
  {
   "cell_type": "code",
   "execution_count": 10,
   "metadata": {},
   "outputs": [
    {
     "name": "stdout",
     "output_type": "stream",
     "text": [
      "81.5\n"
     ]
    }
   ],
   "source": [
    "book = Gradebook()\n",
    "albert = book.student('Albert Einstein')\n",
    "math = albert.subject('Math')\n",
    "math.report_grade(80, 0.10)\n",
    "math.report_grade(80, 0.10)\n",
    "math.report_grade(70, 0.80)\n",
    "gym = albert.subject('Gym')\n",
    "gym.report_grade(100, 0.40)\n",
    "gym.report_grade(85, 0.60)\n",
    "print(albert.average_grade())"
   ]
  },
  {
   "cell_type": "markdown",
   "metadata": {},
   "source": [
    "### 정리\n",
    "- 다른 딕셔너리나 긴 튜플을 값으로 담은 딕셔너리를 생성하지 않는 것이 좋다\n",
    "- 내부 상태를 관리하는 딕셔너리가 복잡해지면 여러 헬퍼 클래스를 사용하는 방식으로 관리 코드를 바꾸자."
   ]
  }
 ],
 "metadata": {
  "kernelspec": {
   "display_name": "Python 3",
   "language": "python",
   "name": "python3"
  },
  "language_info": {
   "codemirror_mode": {
    "name": "ipython",
    "version": 3
   },
   "file_extension": ".py",
   "mimetype": "text/x-python",
   "name": "python",
   "nbconvert_exporter": "python",
   "pygments_lexer": "ipython3",
   "version": "3.5.4"
  }
 },
 "nbformat": 4,
 "nbformat_minor": 2
}
