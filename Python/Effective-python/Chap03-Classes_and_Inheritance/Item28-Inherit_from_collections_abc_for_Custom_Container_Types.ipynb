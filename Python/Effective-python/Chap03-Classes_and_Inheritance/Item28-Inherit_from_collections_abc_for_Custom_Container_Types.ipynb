{
 "cells": [
  {
   "cell_type": "markdown",
   "metadata": {},
   "source": [
    "## BETTER WAY 28 - 커스텀 컨테이너 타입은 `collections.abc`의 클래스를 상속받게 만들자\n",
    "## Item28 - Inherit from `collections.abc` for Custom Container Types"
   ]
  },
  {
   "cell_type": "markdown",
   "metadata": {},
   "source": [
    "모든 파이썬 클래스는 일종의 컨테이너로, 속성과 기능을 함께 캡슐화한다. 파이썬은 데이터 관리용 내장 컨테이너 타입(리스트, 튜플, 세트, 딕셔너리)도 제공한다."
   ]
  },
  {
   "cell_type": "markdown",
   "metadata": {},
   "source": [
    "예를 들어 멤버의 빈도를 세는 메서드를 추가로 갖춘 커스텀 리스트 타입을 생성한다고 해보자."
   ]
  },
  {
   "cell_type": "code",
   "execution_count": 1,
   "metadata": {},
   "outputs": [],
   "source": [
    "class FrequencyList(list):\n",
    "    def __init__(self, members):\n",
    "        super().__init__(members)\n",
    "        \n",
    "    def frequency(self):\n",
    "        counts = {}\n",
    "        for item in self:\n",
    "            counts.setdefault(item, 0)\n",
    "            counts[item] += 1\n",
    "        return counts"
   ]
  },
  {
   "cell_type": "markdown",
   "metadata": {},
   "source": [
    "list에서 상속받아 서브클래스를 만들었으므로 list의 표준 기능을 모두 갖춰서 파이썬 프로그래머에게 익숙한 시맨틱(semantic)을 유지한다."
   ]
  },
  {
   "cell_type": "code",
   "execution_count": 2,
   "metadata": {},
   "outputs": [
    {
     "name": "stdout",
     "output_type": "stream",
     "text": [
      "Length is 7\n",
      "After pop: ['a', 'b', 'c', 'a', 'b', 'a']\n",
      "Frequency: {'c': 1, 'a': 3, 'b': 2}\n"
     ]
    }
   ],
   "source": [
    "foo = FrequencyList(['a', 'b', 'c', 'a', 'b', 'a', 'd'])\n",
    "print('Length is', len(foo))\n",
    "foo.pop()\n",
    "print('After pop:', repr(foo))\n",
    "print('Frequency:', foo.frequency())"
   ]
  },
  {
   "cell_type": "markdown",
   "metadata": {},
   "source": [
    "이제 list의 서브클래스는 아니지만 인덱스로 접근할 수 있게 해서 list처럼 보이는 객체를 제공하고 싶다고 해보자. 예를 들어 바이너리 트리 클래스에 (list나 tuple 같은) 시퀀스 시맨틱을 제공한다고 하자. <br />\n",
    "아래의 클래스가 시퀀스 타입처럼 동작하게 하려면 어떻게 해야 할까?"
   ]
  },
  {
   "cell_type": "code",
   "execution_count": 3,
   "metadata": {},
   "outputs": [],
   "source": [
    "class BinaryNode(object):\n",
    "    def __init__(self, value, left=None, right=None):\n",
    "        self.value = value\n",
    "        self.left = left\n",
    "        self.right = right"
   ]
  },
  {
   "cell_type": "markdown",
   "metadata": {},
   "source": [
    "아래의 예제와 같이 파이썬은 특별한 이름을 붙인 인스턴스 메서드로 컨테이너 동작을 구현한다."
   ]
  },
  {
   "cell_type": "code",
   "execution_count": 4,
   "metadata": {},
   "outputs": [
    {
     "data": {
      "text/plain": [
       "1"
      ]
     },
     "execution_count": 4,
     "metadata": {},
     "output_type": "execute_result"
    }
   ],
   "source": [
    "bar = [1, 2, 3]\n",
    "bar[0]"
   ]
  },
  {
   "cell_type": "markdown",
   "metadata": {},
   "source": [
    "위와 같이 시퀀스의 아이템을 인덱스로 접근하면 다음과 같이 나타낼 수 있다."
   ]
  },
  {
   "cell_type": "code",
   "execution_count": 5,
   "metadata": {},
   "outputs": [
    {
     "data": {
      "text/plain": [
       "1"
      ]
     },
     "execution_count": 5,
     "metadata": {},
     "output_type": "execute_result"
    }
   ],
   "source": [
    "bar.__getitem__(0)"
   ]
  },
  {
   "cell_type": "markdown",
   "metadata": {},
   "source": [
    "BinaryNode 클래스가 시퀀스처럼 동작하게 하려면 객체의 트리를 깊이 우선으로 탐색하는 `__getitem__`을 구현하면 된다."
   ]
  },
  {
   "cell_type": "code",
   "execution_count": 6,
   "metadata": {},
   "outputs": [],
   "source": [
    "class IndexableNode(BinaryNode):\n",
    "    def _search(self, count, index):\n",
    "        found = None\n",
    "        if self.left:\n",
    "            found, count = self.left._search(count, index)\n",
    "        if not found and count == index:\n",
    "            found = self\n",
    "        else:\n",
    "            count += 1\n",
    "        if not found and self.right:\n",
    "            found, count = self.right._search(count, index)\n",
    "        return found, count\n",
    "    \n",
    "    def __getitem__(self, index):\n",
    "        found, _ = self._search(0, index)\n",
    "        if not found:\n",
    "            raise IndexError('Index out of range')\n",
    "        return found.value"
   ]
  },
  {
   "cell_type": "code",
   "execution_count": 7,
   "metadata": {},
   "outputs": [
    {
     "name": "stdout",
     "output_type": "stream",
     "text": [
      "LRR = 7\n",
      "Index 0 = 2\n",
      "Index 1 = 5\n",
      "11 in the tree? True\n",
      "17 in the tree? False\n",
      "Tree is [2, 5, 6, 7, 10, 11, 15]\n"
     ]
    }
   ],
   "source": [
    "tree = IndexableNode(\n",
    "    10,\n",
    "    left=IndexableNode(\n",
    "        5,\n",
    "        left=IndexableNode(2),\n",
    "        right=IndexableNode(\n",
    "            6, right=IndexableNode(7))),\n",
    "    right=IndexableNode(\n",
    "        15, left=IndexableNode(11)))\n",
    "\n",
    "print('LRR =', tree.left.right.right.value)\n",
    "print('Index 0 =', tree[0])\n",
    "print('Index 1 =', tree[1])\n",
    "print('11 in the tree?', 11 in tree)\n",
    "print('17 in the tree?', 17 in tree)\n",
    "print('Tree is', list(tree))"
   ]
  },
  {
   "cell_type": "markdown",
   "metadata": {},
   "source": [
    "문제는 `__getitem__`을 구현하는 것만으로는 기대하는 시퀀스 시맨틱을 모두 제공하지 못한다는 점이다."
   ]
  },
  {
   "cell_type": "code",
   "execution_count": 8,
   "metadata": {},
   "outputs": [
    {
     "ename": "TypeError",
     "evalue": "object of type 'IndexableNode' has no len()",
     "output_type": "error",
     "traceback": [
      "\u001b[1;31m---------------------------------------------------------------------------\u001b[0m",
      "\u001b[1;31mTypeError\u001b[0m                                 Traceback (most recent call last)",
      "\u001b[1;32m<ipython-input-8-dc0343ec22f7>\u001b[0m in \u001b[0;36m<module>\u001b[1;34m()\u001b[0m\n\u001b[1;32m----> 1\u001b[1;33m \u001b[0mlen\u001b[0m\u001b[1;33m(\u001b[0m\u001b[0mtree\u001b[0m\u001b[1;33m)\u001b[0m\u001b[1;33m\u001b[0m\u001b[0m\n\u001b[0m",
      "\u001b[1;31mTypeError\u001b[0m: object of type 'IndexableNode' has no len()"
     ]
    }
   ],
   "source": [
    "len(tree)"
   ]
  },
  {
   "cell_type": "markdown",
   "metadata": {},
   "source": [
    "내장 함수 len을 쓰려면 커스텀 시퀀스 타입에 맞게 구현한 `__len__`이라는 또 다른 특별한 메서드가 필요하다."
   ]
  },
  {
   "cell_type": "code",
   "execution_count": 9,
   "metadata": {},
   "outputs": [],
   "source": [
    "class SequenceNode(IndexableNode):\n",
    "    def __len__(self):\n",
    "        _, count = self._search(0, None)\n",
    "        return count"
   ]
  },
  {
   "cell_type": "code",
   "execution_count": 10,
   "metadata": {},
   "outputs": [
    {
     "name": "stdout",
     "output_type": "stream",
     "text": [
      "Tree has 7 nodes\n"
     ]
    }
   ],
   "source": [
    "tree = SequenceNode(\n",
    "    10,\n",
    "    left=SequenceNode(\n",
    "        5,\n",
    "        left=SequenceNode(2),\n",
    "        right=SequenceNode(\n",
    "            6, right=SequenceNode(7))),\n",
    "    right=SequenceNode(\n",
    "        15, left=SequenceNode(11))\n",
    ")\n",
    "\n",
    "print('Tree has %d nodes' % len(tree))"
   ]
  },
  {
   "cell_type": "markdown",
   "metadata": {},
   "source": [
    "파이썬 세계의 이런 어려움을 피하려고 내장 `collections.abc` 모듈은 각 컨테이너 타입에 필요한 일반적인 메서드를 모두 제공하는 추상 기반 클래스들을 정의한다."
   ]
  },
  {
   "cell_type": "markdown",
   "metadata": {},
   "source": [
    "이 추상 기반 클래스들에서 상속받아 서브클래스를 만들다가 깜빡 잊고 필수 메서드를 구현하지 않으면, 모듈이 뭔가 잘못되었다고 알려준다."
   ]
  },
  {
   "cell_type": "code",
   "execution_count": 11,
   "metadata": {},
   "outputs": [
    {
     "ename": "TypeError",
     "evalue": "Can't instantiate abstract class BadType with abstract methods __getitem__, __len__",
     "output_type": "error",
     "traceback": [
      "\u001b[1;31m---------------------------------------------------------------------------\u001b[0m",
      "\u001b[1;31mTypeError\u001b[0m                                 Traceback (most recent call last)",
      "\u001b[1;32m<ipython-input-11-997f61651b50>\u001b[0m in \u001b[0;36m<module>\u001b[1;34m()\u001b[0m\n\u001b[0;32m      4\u001b[0m     \u001b[1;32mpass\u001b[0m\u001b[1;33m\u001b[0m\u001b[0m\n\u001b[0;32m      5\u001b[0m \u001b[1;33m\u001b[0m\u001b[0m\n\u001b[1;32m----> 6\u001b[1;33m \u001b[0mfoo\u001b[0m \u001b[1;33m=\u001b[0m \u001b[0mBadType\u001b[0m\u001b[1;33m(\u001b[0m\u001b[1;33m)\u001b[0m\u001b[1;33m\u001b[0m\u001b[0m\n\u001b[0m",
      "\u001b[1;31mTypeError\u001b[0m: Can't instantiate abstract class BadType with abstract methods __getitem__, __len__"
     ]
    }
   ],
   "source": [
    "from collections.abc import Sequence\n",
    "\n",
    "class BadType(Sequence):\n",
    "    pass\n",
    "\n",
    "foo = BadType()"
   ]
  },
  {
   "cell_type": "markdown",
   "metadata": {},
   "source": [
    "앞에서 다룬 SequenceNode처럼 추상 기반 클래스가 요구하는 메서드를 모두 구현하면 별도로 작업하지 않아도 클래스가 `index`와 `count` 같은 부가적인 메서드를 모두 제공한다."
   ]
  },
  {
   "cell_type": "code",
   "execution_count": 12,
   "metadata": {},
   "outputs": [],
   "source": [
    "class BetterNode(SequenceNode, Sequence):\n",
    "    pass"
   ]
  },
  {
   "cell_type": "code",
   "execution_count": 13,
   "metadata": {},
   "outputs": [
    {
     "name": "stdout",
     "output_type": "stream",
     "text": [
      "Index of 7 is 3\n",
      "Count of 10 is 1\n"
     ]
    }
   ],
   "source": [
    "tree = BetterNode(\n",
    "    10,\n",
    "    left=BetterNode(\n",
    "        5,\n",
    "        left=BetterNode(2),\n",
    "        right=BetterNode(\n",
    "            6, right=BetterNode(7))),\n",
    "    right=BetterNode(\n",
    "        15, left=BetterNode(11))\n",
    ")\n",
    "\n",
    "print('Index of 7 is', tree.index(7))\n",
    "print('Count of 10 is', tree.count(10))"
   ]
  },
  {
   "cell_type": "markdown",
   "metadata": {},
   "source": [
    "### 정리\n",
    "- 쓰임새가 간단할 때는 list나 dict 같은 파이썬의 컨테이너 타입에서 직접 상속받게 하자.\n",
    "- 커스텀 컨테이너 타입이 collections.abc에 정의된 인터페이스에서 상속받게 만들어서 클래스가 필요한 인터페이스, 동작과 일치하게 하자."
   ]
  }
 ],
 "metadata": {
  "kernelspec": {
   "display_name": "Python 3",
   "language": "python",
   "name": "python3"
  },
  "language_info": {
   "codemirror_mode": {
    "name": "ipython",
    "version": 3
   },
   "file_extension": ".py",
   "mimetype": "text/x-python",
   "name": "python",
   "nbconvert_exporter": "python",
   "pygments_lexer": "ipython3",
   "version": "3.5.4"
  }
 },
 "nbformat": 4,
 "nbformat_minor": 2
}
