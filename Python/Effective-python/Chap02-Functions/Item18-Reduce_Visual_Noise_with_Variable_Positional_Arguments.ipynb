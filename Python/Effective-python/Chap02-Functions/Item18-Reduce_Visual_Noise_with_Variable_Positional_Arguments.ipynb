{
 "cells": [
  {
   "cell_type": "markdown",
   "metadata": {},
   "source": [
    "## BETTER WAY 18 - 가변 위치 인수로 깔끔하게 보이게 하자\n",
    "## Item18 - Reduce Visual Noise with Variable Positional Arguments"
   ]
  },
  {
   "cell_type": "markdown",
   "metadata": {},
   "source": [
    "선택적 위치 인수(관례적으로 `*args`라고 해서 `star agrs`라고도 한다)를 받게 만들면 함수 호출을 더 명확하게 할 수 있고 보기에 방해가 되는 요소를 없앨 수 있다."
   ]
  },
  {
   "cell_type": "markdown",
   "metadata": {},
   "source": [
    "예를 들어 디버그 정보 몇 개를 로그로 남긴다고 하자. 인수의 개수가 고정되어 있는 경우의 코드는 아래와 같다."
   ]
  },
  {
   "cell_type": "code",
   "execution_count": 1,
   "metadata": {},
   "outputs": [
    {
     "name": "stdout",
     "output_type": "stream",
     "text": [
      "My numbers are: 1, 2\n",
      "Hi there\n"
     ]
    }
   ],
   "source": [
    "def log(message, values):\n",
    "    if not values:\n",
    "        print(message)\n",
    "    else:\n",
    "        values_str = ', '.join(str(x) for x in values)\n",
    "        print('{}: {}'.format(message, values_str))\n",
    "        \n",
    "log('My numbers are', [1, 2])\n",
    "log('Hi there', [])"
   ]
  },
  {
   "cell_type": "markdown",
   "metadata": {},
   "source": [
    "로그로 남길 값이 없을 때 빈 리스트를 함수에 넘겨야 한다는 건 불편하다. <br />\n",
    "파이썬에서는 \\* 기호를 마지막 위치 파라미터 이름 앞에 붙이면 된다. 위의 코드에서 로그 메시지(`log`함수의 `message` 인수)를 의미하는 첫 번째 파라미터는 필수지만, 다음에 나오는 위치 인수는 몇 개든 선택적이다."
   ]
  },
  {
   "cell_type": "code",
   "execution_count": 2,
   "metadata": {},
   "outputs": [
    {
     "name": "stdout",
     "output_type": "stream",
     "text": [
      "My numbers are: [1, 2]\n",
      "My numbers are: [1, 2], [3, 4]\n",
      "Hi there\n"
     ]
    }
   ],
   "source": [
    "def log(message, *values):\n",
    "    if not values:\n",
    "        print(message)\n",
    "    else:\n",
    "        values_str = ', '.join(str(x) for x in values)\n",
    "        print('{}: {}'.format(message, values_str))\n",
    "        \n",
    "log('My numbers are', [1, 2])\n",
    "log('My numbers are', [1, 2], [3, 4])  # *values에 [3, 4] 추가\n",
    "log('Hi there')"
   ]
  },
  {
   "cell_type": "markdown",
   "metadata": {},
   "source": [
    "리스트를 `log` 같은 가변 인수 함수를 호출하는 데 사용하고 싶다면 \\* 연산자를 쓰면된다. 그러면 파이썬은 시퀀스에 들어 있는 아이템들을 위치 인수로 전달한다."
   ]
  },
  {
   "cell_type": "code",
   "execution_count": 3,
   "metadata": {},
   "outputs": [
    {
     "name": "stdout",
     "output_type": "stream",
     "text": [
      "Favorite colors: 7, 33, 99\n",
      "Favorite colors: [7, 33, 99]\n"
     ]
    }
   ],
   "source": [
    "favorites = [7, 33, 99]\n",
    "log('Favorite colors', *favorites)\n",
    "log('Favorite colors', favorites)"
   ]
  },
  {
   "cell_type": "markdown",
   "metadata": {},
   "source": [
    "가변 개수의 위치 인수를 받는 방법에는 두 가지 문제가 있다. <br />\n",
    "첫 번째 문제는 가변 인수가 함수에 전달되기에 앞서 항상 튜플로 변환된다는 점이다. 이것은 함수를 호출하는 쪽에서 제너레이터에 \\* 연산자를 쓰면 제너레이터가 모두 소진될 때까지 순회됨을 말한다. 그렇게 되면 반환되는 튜플은 제너레이터로 부터 생성되는 모든 값을 담기때문에 메모리 많이 사용하는 문제가 있다."
   ]
  },
  {
   "cell_type": "code",
   "execution_count": 4,
   "metadata": {},
   "outputs": [
    {
     "name": "stdout",
     "output_type": "stream",
     "text": [
      "(0, 1, 2, 3, 4, 5, 6, 7, 8, 9)\n",
      "(<generator object my_generator at 0x000001607C39BFC0>,)\n"
     ]
    }
   ],
   "source": [
    "def my_generator():\n",
    "    for i in range(10):\n",
    "        yield i\n",
    "\n",
    "def my_func(*args):\n",
    "    print(args)\n",
    "    \n",
    "it = my_generator()\n",
    "my_func(*it)  # star_args 를 사용\n",
    "my_func(it)   # 그냥 입력하면 제너레이터 자체를 반환함"
   ]
  },
  {
   "cell_type": "markdown",
   "metadata": {},
   "source": [
    "`*args`를 받는 함수는 인수 리스트에 있는 입력의 수가 적당히 적을 경우 사용하는게 좋다. 이런 함수는 많은 리터럴이나 변수 이름을 한꺼번에 넘기는 함수 호출에 적절하다."
   ]
  },
  {
   "cell_type": "markdown",
   "metadata": {},
   "source": [
    "두 번째 문제는 코드를 변경하지 않고는 새 위치 인수를 추가할 수 없다는 점이다. 위의 `log`함수에 앞쪽에 위치 인수를 추가하면 기존의 코드를 수정하지 않고서는 제대로 작동하지 않는다."
   ]
  },
  {
   "cell_type": "code",
   "execution_count": 5,
   "metadata": {},
   "outputs": [
    {
     "name": "stdout",
     "output_type": "stream",
     "text": [
      "[1, 2]: Favorites: 7, 33\n",
      "Favorite numbers: 7: 33\n"
     ]
    }
   ],
   "source": [
    "def log(sequence, message, *values):\n",
    "    if not values:\n",
    "        print('{}: {}'.format(sequence, message))\n",
    "    else:\n",
    "        values_str = ', '.join(str(x) for x in values)\n",
    "        print('{}: {}: {}'.format(sequence, message, values_str))\n",
    "\n",
    "log([1, 2], 'Favorites', 7, 33)\n",
    "log('Favorite numbers', 7, 33)"
   ]
  },
  {
   "cell_type": "markdown",
   "metadata": {},
   "source": [
    "위의 코드에서 `log('Favorite numbers', 7, 33)`은 `sequence` 인수를 받지 못했기 때문에 `7`을 `message` 파라미터로 사용하는 문제가 발생한다."
   ]
  },
  {
   "cell_type": "markdown",
   "metadata": {},
   "source": [
    "### 정리\n",
    "* `def` 문에서 `*args`를 사용하면 함수에서 가변 개수의 위치 인수를 받을 수 있다.\n",
    "* `*`연산자를 쓰면 시퀀스에 들어있는 아이템을 함수의 위치 인수로 사용할 수 있다.\n",
    "* 제너레이터와 \\* 연산자를 함께 사용하면 프로그램이 메모리 부족으로 동작하지 않을 수 있다.\n",
    "* `*args`를 받는 함수에 새 위치 파라미터를 추가하면 제대로 동작하지 않는다."
   ]
  }
 ],
 "metadata": {
  "kernelspec": {
   "display_name": "Python 3",
   "language": "python",
   "name": "python3"
  },
  "language_info": {
   "codemirror_mode": {
    "name": "ipython",
    "version": 3
   },
   "file_extension": ".py",
   "mimetype": "text/x-python",
   "name": "python",
   "nbconvert_exporter": "python",
   "pygments_lexer": "ipython3",
   "version": "3.5.4"
  }
 },
 "nbformat": 4,
 "nbformat_minor": 2
}
