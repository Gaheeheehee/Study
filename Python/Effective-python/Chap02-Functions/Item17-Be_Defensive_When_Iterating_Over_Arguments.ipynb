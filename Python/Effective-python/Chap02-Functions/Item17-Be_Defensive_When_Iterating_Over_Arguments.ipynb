{
 "cells": [
  {
   "cell_type": "markdown",
   "metadata": {},
   "source": [
    "## BETTER WAY 17 - 인수를 순회할 때는 방어적으로 하자\n",
    "## Item17 - Be Defensive When Iterating Over Arguments"
   ]
  },
  {
   "cell_type": "markdown",
   "metadata": {},
   "source": [
    "파라미터로 객체의 리스트를 받는 함수에서 리스트를 여러 번 순회해야 할 때가 간혹 발생한다. 예를 들어 서울에 방문한 여행자 수를 분석하고 싶다고 하자. 데이터 집합은 각 구의 방문자 수(연도별 백만 명 단위)라고 하면, 각 구에서 전체 여행자 중 몇 퍼센트인지 구하는 코드는 아래와 같다."
   ]
  },
  {
   "cell_type": "code",
   "execution_count": 1,
   "metadata": {},
   "outputs": [],
   "source": [
    "def normalize(numbers):\n",
    "    total = sum(numbers)\n",
    "    result = []\n",
    "    for value in numbers:\n",
    "        percent = 100 * value / total\n",
    "        result.append(percent)\n",
    "    return result"
   ]
  },
  {
   "cell_type": "code",
   "execution_count": 2,
   "metadata": {},
   "outputs": [
    {
     "name": "stdout",
     "output_type": "stream",
     "text": [
      "[11.538461538461538, 26.923076923076923, 61.53846153846154]\n"
     ]
    }
   ],
   "source": [
    "visits = [15, 35, 80]\n",
    "percentages = normalize(visits)\n",
    "print(percentages)"
   ]
  },
  {
   "cell_type": "markdown",
   "metadata": {},
   "source": [
    "이제 파일에서 데이터를 읽어와 위의 작업을 수행하는 제너레이터를 만들어 보자."
   ]
  },
  {
   "cell_type": "code",
   "execution_count": 3,
   "metadata": {},
   "outputs": [],
   "source": [
    "def read_visits(data_path):\n",
    "    with open(data_path) as f:\n",
    "        for line in f:\n",
    "            yield int(line)"
   ]
  },
  {
   "cell_type": "code",
   "execution_count": 4,
   "metadata": {},
   "outputs": [
    {
     "name": "stdout",
     "output_type": "stream",
     "text": [
      "[]\n"
     ]
    }
   ],
   "source": [
    "it = read_visits('./examples/numbers.txt')\n",
    "percentages = normalize(it)  # <-- normalize 함수를 호출하면서 이터레이터가 사용됨\n",
    "print(percentages)"
   ]
  },
  {
   "cell_type": "markdown",
   "metadata": {},
   "source": [
    "위의 결과를 보면 아무것도 출력 되지 않는다. 그 이유는 이터레이터 `it`이  결과를 한 번만 생성하기 때문이다. 아래의 코드를 보면 확실히 알 수 있다. "
   ]
  },
  {
   "cell_type": "code",
   "execution_count": 5,
   "metadata": {},
   "outputs": [
    {
     "name": "stdout",
     "output_type": "stream",
     "text": [
      "[100, 11, 123, 122, 166, 188, 298, 300, 345, 432, 315, 462, 176, 542]\n",
      "[]\n"
     ]
    }
   ],
   "source": [
    "it = read_visits('./examples/numbers.txt')\n",
    "print(list(it))  # <- 여기서 사용됨\n",
    "print(list(it))  # <- 빈값을 출력"
   ]
  },
  {
   "cell_type": "markdown",
   "metadata": {},
   "source": [
    "이 문제를 해결하려면 이터레이터의 복사본을 리스트에 저장해야 한다. "
   ]
  },
  {
   "cell_type": "code",
   "execution_count": 6,
   "metadata": {},
   "outputs": [],
   "source": [
    "def normalize_copy(numbers):\n",
    "    numbers = list(numbers)  # 이터레이터를 복사함\n",
    "    total = sum(numbers)\n",
    "    result = []\n",
    "    for value in numbers:\n",
    "        percent = 100 * value / total\n",
    "        result.append(percent)\n",
    "    return result"
   ]
  },
  {
   "cell_type": "code",
   "execution_count": 7,
   "metadata": {},
   "outputs": [
    {
     "name": "stdout",
     "output_type": "stream",
     "text": [
      "[2.793296089385475, 0.30726256983240224, 3.435754189944134, 3.4078212290502794, 4.636871508379889, 5.251396648044692, 8.324022346368714, 8.379888268156424, 9.636871508379889, 12.067039106145252, 8.798882681564246, 12.905027932960893, 4.916201117318436, 15.139664804469273]\n"
     ]
    }
   ],
   "source": [
    "it = read_visits('./examples/numbers.txt')\n",
    "percentages = normalize_copy(it)\n",
    "print(percentages)"
   ]
  },
  {
   "cell_type": "markdown",
   "metadata": {},
   "source": [
    "위의 `normalize_copy`함수의 문제는 이터레이터의 복사본이 클 수도 있다는 점이다. 그럴 경우 메모리를 많이 잡아 먹어 동작이 멈출 수도 있다. 이러한 문제를 해결하는 방법 중 하나는 호출될 때마다 새 이터레이터를 반환하는 함수를 받게 만드는 것이다."
   ]
  },
  {
   "cell_type": "code",
   "execution_count": 8,
   "metadata": {},
   "outputs": [],
   "source": [
    "def normalize_func(get_iter):\n",
    "    total = sum(get_iter())  # 새 이터레이터 \n",
    "    result = []\n",
    "    for value in get_iter():  # 새 이터레이터\n",
    "        percent = 100 * value / total\n",
    "        result.append(percent)\n",
    "    return result"
   ]
  },
  {
   "cell_type": "markdown",
   "metadata": {},
   "source": [
    "`normalize_func`을 사용하려면 제너레이터(여기서는 `read_visits`)를 호출해서 매번 새 이터레이터를 생성하는 람다 표현식을 넘겨주면 된다."
   ]
  },
  {
   "cell_type": "code",
   "execution_count": 9,
   "metadata": {},
   "outputs": [
    {
     "name": "stdout",
     "output_type": "stream",
     "text": [
      "[2.793296089385475, 0.30726256983240224, 3.435754189944134, 3.4078212290502794, 4.636871508379889, 5.251396648044692, 8.324022346368714, 8.379888268156424, 9.636871508379889, 12.067039106145252, 8.798882681564246, 12.905027932960893, 4.916201117318436, 15.139664804469273]\n"
     ]
    }
   ],
   "source": [
    "path = './examples/numbers.txt'\n",
    "pertanges = normalize_func(lambda: read_visits(path))\n",
    "print(percentages)"
   ]
  },
  {
   "cell_type": "markdown",
   "metadata": {},
   "source": [
    "코드가 잘 동작하지만, 람다 함수를 넘겨주는 방법은 세련되지 못하다(세련된거 같은 느낌적인 느낌...) 같은결과를 얻는 더 좋은 방법은 이터레이터 프로토콜(iterator protocol)을 구현한 새 컨테이너 클래스를 만드는 것이다. <br />\n",
    "이터레이터 프로토콜은 파이썬의 `for`루프와 관련 표현식이 컨테이너 타입의 콘텐츠를 탐색하는 방법이다. 무슨 설명인지 이해가 가질 않는다.. 아래는 교재에 설명이 되어있는 부분이다.\n",
    "> 파이썬은 `for x in foo` 같은 문장을 만나면 실제로는 `iter(foo)`를 호출한다. 그러면 내장 함수 iter는 특별한 메서드인 `foo.__iter__`를 호출한다.` __iter__` 메서드는 (`__next__`라는 특별한 메서드를 구현하는) 이터레이터 객체를 반환해야 한다. 마지막으로 `for` 루프는 이터레이터를 모두 소진할 때까지 (그래서 StopIteration 예외가 발생할 때까지) 이터레이터 객체에 내장 함수 `next`를 계속 호출한다. \n",
    "> *- 출처: 파이썬 코딩의 기술 -*\n",
    "\n",
    "위의 설명은 어려운 듯 하지만 클래스에서 `__iter__` 메소드를 제너레이터로 구현해 주면 된다. 아래의 코드는 파일을 읽는 iterable (순회가능한) 컨테이너 클래스이다."
   ]
  },
  {
   "cell_type": "code",
   "execution_count": 10,
   "metadata": {},
   "outputs": [],
   "source": [
    "class ReadVisits(object):\n",
    "    def __init__(self, data_path):\n",
    "        self.data_path = data_path\n",
    "        \n",
    "    def __iter__(self):\n",
    "        with open(self.data_path) as f:\n",
    "            for line in f:\n",
    "                yield int(line)"
   ]
  },
  {
   "cell_type": "markdown",
   "metadata": {},
   "source": [
    "`ReadVisits`클래스를 이용하면 `normalize_copy`나 `normalize_func`과 같이 이터레이터를 복사해 주거나 매번 새 이터레이터를 생성해주는 방법을 쓰지 않아도 된다. 따라서 맨 위에 있는 `normalize` 함수를 사용해도 작동한다."
   ]
  },
  {
   "cell_type": "code",
   "execution_count": 11,
   "metadata": {},
   "outputs": [],
   "source": [
    "def normalize(numbers):\n",
    "    total = sum(numbers)\n",
    "    result = []\n",
    "    for value in numbers:\n",
    "        percent = 100 * value / total\n",
    "        result.append(percent)\n",
    "    return result"
   ]
  },
  {
   "cell_type": "code",
   "execution_count": 12,
   "metadata": {},
   "outputs": [
    {
     "name": "stdout",
     "output_type": "stream",
     "text": [
      "[2.793296089385475, 0.30726256983240224, 3.435754189944134, 3.4078212290502794, 4.636871508379889, 5.251396648044692, 8.324022346368714, 8.379888268156424, 9.636871508379889, 12.067039106145252, 8.798882681564246, 12.905027932960893, 4.916201117318436, 15.139664804469273]\n"
     ]
    }
   ],
   "source": [
    "path = './examples/numbers.txt'\n",
    "visits = ReadVisits(path)\n",
    "percentages = normalize(visits)\n",
    "print(percentages)"
   ]
  },
  {
   "cell_type": "markdown",
   "metadata": {},
   "source": [
    "위의 코드가 작동하는 이유는 `normalize`의 `sum`메소드가 새 이터레이터 객체를 할당하기 위해 `ReadVisits.__iter__`를 호출하기 때문이다. 또한 `normalize`안의 `for`루프 또한 두 번째 이터레이터 객체를 할당할 때 `ReadVisits.__iter__`를 호출한다. 두 이터레이터는 독립적으로 동작하기 때문에 데이터 값을 얻을 수 있다. 이 방법의 단점은 입력 데이터를 여러번 읽는다는 점이다."
   ]
  },
  {
   "cell_type": "code",
   "execution_count": 13,
   "metadata": {},
   "outputs": [],
   "source": [
    "def normalize_defensive(numbers):\n",
    "    if iter(numbers) is iter(numbers):\n",
    "        raise TypeError('리스트 형태의 데이터를 입력해 주세요')\n",
    "    total = sum(numbers)\n",
    "    result = []\n",
    "    for value in numbers:\n",
    "        percent = 100 * value / total\n",
    "        result.append(percent)\n",
    "    return result"
   ]
  },
  {
   "cell_type": "code",
   "execution_count": 14,
   "metadata": {},
   "outputs": [
    {
     "data": {
      "text/plain": [
       "[11.538461538461538, 26.923076923076923, 61.53846153846154]"
      ]
     },
     "execution_count": 14,
     "metadata": {},
     "output_type": "execute_result"
    }
   ],
   "source": [
    "visits = [15, 35, 80]\n",
    "normalize_defensive(visits)"
   ]
  },
  {
   "cell_type": "code",
   "execution_count": 15,
   "metadata": {},
   "outputs": [
    {
     "name": "stdout",
     "output_type": "stream",
     "text": [
      "<class '__main__.ReadVisits'>\n"
     ]
    },
    {
     "data": {
      "text/plain": [
       "[2.793296089385475,\n",
       " 0.30726256983240224,\n",
       " 3.435754189944134,\n",
       " 3.4078212290502794,\n",
       " 4.636871508379889,\n",
       " 5.251396648044692,\n",
       " 8.324022346368714,\n",
       " 8.379888268156424,\n",
       " 9.636871508379889,\n",
       " 12.067039106145252,\n",
       " 8.798882681564246,\n",
       " 12.905027932960893,\n",
       " 4.916201117318436,\n",
       " 15.139664804469273]"
      ]
     },
     "execution_count": 15,
     "metadata": {},
     "output_type": "execute_result"
    }
   ],
   "source": [
    "visits = ReadVisits(path)\n",
    "print(type(visits))\n",
    "normalize_defensive(visits)"
   ]
  },
  {
   "cell_type": "code",
   "execution_count": 16,
   "metadata": {},
   "outputs": [
    {
     "ename": "TypeError",
     "evalue": "리스트 형태의 데이터를 입력해 주세요",
     "output_type": "error",
     "traceback": [
      "\u001b[1;31m---------------------------------------------------------------------------\u001b[0m",
      "\u001b[1;31mTypeError\u001b[0m                                 Traceback (most recent call last)",
      "\u001b[1;32m<ipython-input-16-7655d24993e5>\u001b[0m in \u001b[0;36m<module>\u001b[1;34m()\u001b[0m\n\u001b[0;32m      1\u001b[0m \u001b[0mit\u001b[0m \u001b[1;33m=\u001b[0m \u001b[0miter\u001b[0m\u001b[1;33m(\u001b[0m\u001b[0mvisits\u001b[0m\u001b[1;33m)\u001b[0m\u001b[1;33m\u001b[0m\u001b[0m\n\u001b[1;32m----> 2\u001b[1;33m \u001b[0mnormalize_defensive\u001b[0m\u001b[1;33m(\u001b[0m\u001b[0mit\u001b[0m\u001b[1;33m)\u001b[0m\u001b[1;33m\u001b[0m\u001b[0m\n\u001b[0m",
      "\u001b[1;32m<ipython-input-13-8a8e114fb597>\u001b[0m in \u001b[0;36mnormalize_defensive\u001b[1;34m(numbers)\u001b[0m\n\u001b[0;32m      1\u001b[0m \u001b[1;32mdef\u001b[0m \u001b[0mnormalize_defensive\u001b[0m\u001b[1;33m(\u001b[0m\u001b[0mnumbers\u001b[0m\u001b[1;33m)\u001b[0m\u001b[1;33m:\u001b[0m\u001b[1;33m\u001b[0m\u001b[0m\n\u001b[0;32m      2\u001b[0m     \u001b[1;32mif\u001b[0m \u001b[0miter\u001b[0m\u001b[1;33m(\u001b[0m\u001b[0mnumbers\u001b[0m\u001b[1;33m)\u001b[0m \u001b[1;32mis\u001b[0m \u001b[0miter\u001b[0m\u001b[1;33m(\u001b[0m\u001b[0mnumbers\u001b[0m\u001b[1;33m)\u001b[0m\u001b[1;33m:\u001b[0m\u001b[1;33m\u001b[0m\u001b[0m\n\u001b[1;32m----> 3\u001b[1;33m         \u001b[1;32mraise\u001b[0m \u001b[0mTypeError\u001b[0m\u001b[1;33m(\u001b[0m\u001b[1;34m'리스트 형태의 데이터를 입력해 주세요'\u001b[0m\u001b[1;33m)\u001b[0m\u001b[1;33m\u001b[0m\u001b[0m\n\u001b[0m\u001b[0;32m      4\u001b[0m     \u001b[0mtotal\u001b[0m \u001b[1;33m=\u001b[0m \u001b[0msum\u001b[0m\u001b[1;33m(\u001b[0m\u001b[0mnumbers\u001b[0m\u001b[1;33m)\u001b[0m\u001b[1;33m\u001b[0m\u001b[0m\n\u001b[0;32m      5\u001b[0m     \u001b[0mresult\u001b[0m \u001b[1;33m=\u001b[0m \u001b[1;33m[\u001b[0m\u001b[1;33m]\u001b[0m\u001b[1;33m\u001b[0m\u001b[0m\n",
      "\u001b[1;31mTypeError\u001b[0m: 리스트 형태의 데이터를 입력해 주세요"
     ]
    }
   ],
   "source": [
    "it = iter(visits)\n",
    "normalize_defensive(it)"
   ]
  },
  {
   "cell_type": "markdown",
   "metadata": {},
   "source": [
    "### 정리\n",
    "* 입력 인수를 여러 번 순회하는 함수를 작성할 때 주의하자. 입력 인수가 이터레이터라면 값이 사라질 수 있다.\n",
    "* 파이썬의 이터레이터 프로토콜은 컨테이너와 이터레이터가 내장함수 `iter, next, for` 및 관련 표현식과 상호작용하는 방법을 정의한다.\n",
    "* `__iter__` 메소드를 제너레이터로 구현하면 자신만의 이터러블 컨테이너 타입을 쉽게 정의할 수 있다."
   ]
  }
 ],
 "metadata": {
  "kernelspec": {
   "display_name": "Python 3",
   "language": "python",
   "name": "python3"
  },
  "language_info": {
   "codemirror_mode": {
    "name": "ipython",
    "version": 3
   },
   "file_extension": ".py",
   "mimetype": "text/x-python",
   "name": "python",
   "nbconvert_exporter": "python",
   "pygments_lexer": "ipython3",
   "version": "3.5.4"
  }
 },
 "nbformat": 4,
 "nbformat_minor": 2
}
