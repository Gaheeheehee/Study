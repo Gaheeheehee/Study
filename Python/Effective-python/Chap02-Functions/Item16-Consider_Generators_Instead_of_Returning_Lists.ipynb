{
 "cells": [
  {
   "cell_type": "markdown",
   "metadata": {},
   "source": [
    "## BETTER WAY 16 - 리스트를 반환하는 대신 제너레이터를 고려하자\n",
    "## Item16 - Consider Generators Instead of Returning Lists"
   ]
  },
  {
   "cell_type": "markdown",
   "metadata": {},
   "source": [
    "결과를 리턴하는 함수에서 가장 간단한 방법은 아이템의 리스트를 반환하는 방법이 있다. 예를 들어 문자열에 있는 모든 단어의 인덱스를 출력하고 싶다고 하면 아래와 같이 코드를 작성할 수 있다."
   ]
  },
  {
   "cell_type": "code",
   "execution_count": 1,
   "metadata": {},
   "outputs": [],
   "source": [
    "def index_words(text):\n",
    "    result = []\n",
    "    if text:\n",
    "        result.append(0)\n",
    "    for index, letter in enumerate(text):\n",
    "        if letter == ' ':\n",
    "            result.append(index + 1)\n",
    "    return result"
   ]
  },
  {
   "cell_type": "code",
   "execution_count": 2,
   "metadata": {},
   "outputs": [
    {
     "name": "stdout",
     "output_type": "stream",
     "text": [
      "[0, 5, 9]\n"
     ]
    }
   ],
   "source": [
    "address = \"파이썬을 열심히 공부하자!\"\n",
    "result = index_words(address)\n",
    "print(result[:3])"
   ]
  },
  {
   "cell_type": "markdown",
   "metadata": {},
   "source": [
    "하지만, 위의 코드는 새로운 결과가 나올때 마다 `append`메소드를 호출해야한다. 또한, 결과를 반환하기 전에 모두 리스트에 저장해야 한다는 점이다. 입력이 매우 많다면 프로그램 실행 중에 메모리가 고갈되어 동작을 멈추는 원인이 된다.  <br />\n",
    "이 함수를 작성하는 더 좋은 방법은 **제너레이터(generator)**를 사용하는 것이다. 제너레이터는 `yield`표현식을 사용하는 함수다. 제너레이터 함수는 호출되면 실제로 실행되지 않고 이터레이터(iterator)를 반환한다. 내장 함수 `next`를 호출할 때마다 이터레이터는 제너레이터가 다음 `yield`표현식으로 진행하게 한다. 그런다음 제너레이터에서 `yield`에 전달한 값을 이터레이터가 호출하는 쪽에 반환한다."
   ]
  },
  {
   "cell_type": "code",
   "execution_count": 3,
   "metadata": {},
   "outputs": [],
   "source": [
    "def index_words_iter(text):\n",
    "    if text:\n",
    "        yield 0\n",
    "    for index, letter in enumerate(text):\n",
    "        if letter == ' ':\n",
    "            yield index + 1"
   ]
  },
  {
   "cell_type": "code",
   "execution_count": 4,
   "metadata": {},
   "outputs": [],
   "source": [
    "result = list(index_words_iter(address))"
   ]
  },
  {
   "cell_type": "code",
   "execution_count": 5,
   "metadata": {},
   "outputs": [
    {
     "data": {
      "text/plain": [
       "[0, 5, 9]"
      ]
     },
     "execution_count": 5,
     "metadata": {},
     "output_type": "execute_result"
    }
   ],
   "source": [
    "result"
   ]
  },
  {
   "cell_type": "code",
   "execution_count": 6,
   "metadata": {},
   "outputs": [],
   "source": [
    "def index_file(handle):\n",
    "    offset = 0\n",
    "    for line in handle:\n",
    "        if line:\n",
    "            yield offset\n",
    "        for letter in line:\n",
    "            offset += 1\n",
    "            if letter == ' ':\n",
    "                yield offset"
   ]
  },
  {
   "cell_type": "code",
   "execution_count": 12,
   "metadata": {},
   "outputs": [
    {
     "name": "stdout",
     "output_type": "stream",
     "text": [
      "[0, 2, 8, 14, 20, 26, 34, 38, 41, 44, 48, 52, 56, 63, 66, 69, 72, 80, 85, 92, 98, 104, 112, 117, 121, 124, 130, 137, 143, 152, 156, 163, 166, 171, 179, 185, 191, 196, 203, 208, 212, 216, 221, 229, 233, 240, 244, 251, 256, 264, 271, 274, 279, 285, 290, 294, 299, 306, 311, 319, 323, 331, 335, 339, 345, 347, 351, 356, 360, 365, 368, 371, 376, 379, 385, 388, 393, 397, 404, 410, 413, 418, 423, 431, 434, 441, 444, 448, 452, 455, 459, 462, 467, 472, 475, 481, 487, 491, 496, 506, 510, 515, 519, 524, 531, 535, 541, 548, 554, 561, 571, 574, 579, 584, 589, 594, 601, 605, 611, 618, 623, 634, 639, 645, 653, 659, 664, 671, 679, 687, 695, 700, 706, 714, 717, 721, 727, 733, 736, 741, 745, 752, 755, 760, 766, 772, 778, 783, 791, 796, 803, 808, 815, 821, 829, 835, 841, 845, 851, 856, 860, 866, 871, 877, 883, 892, 896, 902, 909, 916, 923, 928, 934, 943]\n"
     ]
    }
   ],
   "source": [
    "from itertools import islice\n",
    "\n",
    "with open('./examples/words.txt', 'r') as f:\n",
    "    it = index_file(f)\n",
    "    results = it\n",
    "    print(list(results))"
   ]
  },
  {
   "cell_type": "markdown",
   "metadata": {},
   "source": [
    "### 정리\n",
    "* 제너레이터를 사용하는 방법이 누적된 결과의 리스트를 반환하는 방법 보다 이해하기에 명확하다.\n",
    "* 제너레이터에서 반환한 이터레이터는 제너레이터 함수의 본문에 있는 `yield` 표현식에 전달된 값들의 집합이다.\n",
    "* 제너레이터는 모든 입력과 출력을 메모리에 저장하지 않으므로 입력값의 양을 알기 어려울 때도 연속된 출력을 만들 수 있다."
   ]
  }
 ],
 "metadata": {
  "kernelspec": {
   "display_name": "Python 3",
   "language": "python",
   "name": "python3"
  },
  "language_info": {
   "codemirror_mode": {
    "name": "ipython",
    "version": 3
   },
   "file_extension": ".py",
   "mimetype": "text/x-python",
   "name": "python",
   "nbconvert_exporter": "python",
   "pygments_lexer": "ipython3",
   "version": "3.5.4"
  }
 },
 "nbformat": 4,
 "nbformat_minor": 2
}
