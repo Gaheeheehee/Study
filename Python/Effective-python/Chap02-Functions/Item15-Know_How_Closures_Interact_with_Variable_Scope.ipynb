{
 "cells": [
  {
   "cell_type": "markdown",
   "metadata": {},
   "source": [
    "## BETTER WAY 15 - 클로저 변수 스코프와 작용하는 방법을 알자\n",
    "## Item15 - Know How Closures Interact with Variable Scope"
   ]
  },
  {
   "cell_type": "markdown",
   "metadata": {},
   "source": [
    "숫자 리스트를 정렬할 때 특정 그룹의 숫자들이 먼저 오도록 우선순위를 매기려고 할때, 아래의 예제처럼 리스트의 `sort()`메소드에 헬퍼함수를 `key`인수로 넘기는 방법이 있다. 헬퍼의 반환값(여기서는 튜플)은 리스트에 있는 각 아이템을 정렬하는 값으로 사용된다."
   ]
  },
  {
   "cell_type": "code",
   "execution_count": 3,
   "metadata": {},
   "outputs": [],
   "source": [
    "def sort_priority(values, group):\n",
    "    def helper(x):\n",
    "        if x in group:\n",
    "            print((0, x))\n",
    "            return (0, x)\n",
    "        print((1, x))\n",
    "        return (1, x)\n",
    "    values.sort(key=helper)"
   ]
  },
  {
   "cell_type": "code",
   "execution_count": 4,
   "metadata": {},
   "outputs": [
    {
     "name": "stdout",
     "output_type": "stream",
     "text": [
      "(1, 8)\n",
      "(0, 3)\n",
      "(1, 1)\n",
      "(0, 2)\n",
      "(0, 5)\n",
      "(1, 4)\n",
      "(0, 7)\n",
      "(1, 6)\n",
      "[2, 3, 5, 7, 1, 4, 6, 8]\n"
     ]
    }
   ],
   "source": [
    "numbers = [8, 3, 1, 2, 5, 4, 7, 6]\n",
    "group = {2, 3, 5, 7}\n",
    "sort_priority(numbers, group)\n",
    "print(numbers)"
   ]
  },
  {
   "cell_type": "markdown",
   "metadata": {},
   "source": [
    "위의 코드를 보고 함수안에 함수를 쓰는 것을 처음 보았다... 이러한 개념을 이해하려면 먼저, 파이썬의 **퍼스트클래스 함수(First-class function)**에 대해 알아야 한다. [School of web](http://schoolofweb.net/blog/posts/%ED%8C%8C%EC%9D%B4%EC%8D%AC-%ED%8D%BC%EC%8A%A4%ED%8A%B8%ED%81%B4%EB%9E%98%EC%8A%A4-%ED%95%A8%EC%88%98-first-class-function/)을 참고하였다. <br />\n",
    "**퍼스트클래스 함수**란 프로그래밍 언어가 함수(function)를 *first-class object* 로 취급하는 것을 의미한다. 즉, 함수 자체를 **인자(argument)**로써 다른 함수에 전달하거나 다른 함수의 결과값으로 **리턴할 수** 있고, 함수를 변수에 **할당**하거나 데이터 구조안에 **저장**할 수 있는 함수를 말한다. 아래의 예제 코드들을 통해 퍼스트클래스 함수에 대해 자세히 알아보도록 하자."
   ]
  },
  {
   "cell_type": "code",
   "execution_count": 1,
   "metadata": {},
   "outputs": [
    {
     "name": "stdout",
     "output_type": "stream",
     "text": [
      "25\n",
      "<function square at 0x10fc04e18>\n",
      "<function square at 0x10fc04e18>\n"
     ]
    }
   ],
   "source": [
    "def square(x):\n",
    "    return x * x\n",
    "\n",
    "print(square(5))\n",
    "\n",
    "f = square\n",
    "\n",
    "print(square)\n",
    "print(f)"
   ]
  },
  {
   "cell_type": "markdown",
   "metadata": {},
   "source": [
    "위의 코드를 보면 `square`함수와 `f` 변수에 `square`를 할당한 후 출력한 결과, 같은 메모리에 할당되어 있는것을 볼 수 있다. 또한, 아래의 코드를 통해 `square`함수를 할당받은 `f`변수가 함수처럼 사용되는 것을 확인할 수 있다."
   ]
  },
  {
   "cell_type": "code",
   "execution_count": 2,
   "metadata": {},
   "outputs": [
    {
     "name": "stdout",
     "output_type": "stream",
     "text": [
      "25\n"
     ]
    }
   ],
   "source": [
    "def square(x):\n",
    "    return x * x\n",
    "\n",
    "f = square\n",
    "\n",
    "print(f(5))"
   ]
  },
  {
   "cell_type": "markdown",
   "metadata": {},
   "source": [
    "이번에는 함수 자체를 인자(argument)로써 다른 함수에 전달하는 코드를 살펴보겠다. my_map 함수에 `square`함수를 인자로 전달한 후 `for`루프안에서 `square`함수를 호출하는 것을 볼 수 있다. "
   ]
  },
  {
   "cell_type": "code",
   "execution_count": 3,
   "metadata": {},
   "outputs": [
    {
     "name": "stdout",
     "output_type": "stream",
     "text": [
      "[1, 4, 9, 16, 25]\n"
     ]
    }
   ],
   "source": [
    "def square(x):\n",
    "    return x * x\n",
    "\n",
    "def my_map(func, arg_list):\n",
    "    result = []\n",
    "    for i in arg_list:\n",
    "        result.append(func(i))  # square 함수 호출\n",
    "    return result\n",
    "\n",
    "num_list = [1, 2, 3, 4, 5]\n",
    "squares = my_map(square, num_list)  # square 함수를 인자로 전달\n",
    "print(squares)"
   ]
  },
  {
   "cell_type": "markdown",
   "metadata": {},
   "source": []
  }
 ],
 "metadata": {
  "kernelspec": {
   "display_name": "Python 3",
   "language": "python",
   "name": "python3"
  },
  "language_info": {
   "codemirror_mode": {
    "name": "ipython",
    "version": 3
   },
   "file_extension": ".py",
   "mimetype": "text/x-python",
   "name": "python",
   "nbconvert_exporter": "python",
   "pygments_lexer": "ipython3",
   "version": "3.5.4"
  }
 },
 "nbformat": 4,
 "nbformat_minor": 2
}
