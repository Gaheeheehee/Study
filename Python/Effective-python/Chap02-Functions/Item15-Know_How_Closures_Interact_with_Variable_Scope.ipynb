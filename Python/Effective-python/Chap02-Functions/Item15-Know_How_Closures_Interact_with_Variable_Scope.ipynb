{
 "cells": [
  {
   "cell_type": "markdown",
   "metadata": {},
   "source": [
    "## BETTER WAY 15 - 클로저 변수 스코프와 작용하는 방법을 알자\n",
    "## Item15 - Know How Closures Interact with Variable Scope"
   ]
  },
  {
   "cell_type": "markdown",
   "metadata": {},
   "source": [
    "숫자 리스트를 정렬할 때 특정 그룹의 숫자들이 먼저 오도록 우선순위를 매기려고 할때, 아래의 예제처럼 리스트의 `sort()`메소드에 헬퍼함수를 `key`인수로 넘기는 방법이 있다. 헬퍼의 반환값(여기서는 튜플)은 리스트에 있는 각 아이템을 정렬하는 값으로 사용된다."
   ]
  },
  {
   "cell_type": "code",
   "execution_count": 3,
   "metadata": {},
   "outputs": [],
   "source": [
    "def sort_priority(values, group):\n",
    "    def helper(x):\n",
    "        if x in group:\n",
    "            print((0, x))\n",
    "            return (0, x)\n",
    "        print((1, x))\n",
    "        return (1, x)\n",
    "    values.sort(key=helper)"
   ]
  },
  {
   "cell_type": "code",
   "execution_count": 4,
   "metadata": {},
   "outputs": [
    {
     "name": "stdout",
     "output_type": "stream",
     "text": [
      "(1, 8)\n",
      "(0, 3)\n",
      "(1, 1)\n",
      "(0, 2)\n",
      "(0, 5)\n",
      "(1, 4)\n",
      "(0, 7)\n",
      "(1, 6)\n",
      "[2, 3, 5, 7, 1, 4, 6, 8]\n"
     ]
    }
   ],
   "source": [
    "numbers = [8, 3, 1, 2, 5, 4, 7, 6]\n",
    "group = {2, 3, 5, 7}\n",
    "sort_priority(numbers, group)\n",
    "print(numbers)"
   ]
  },
  {
   "cell_type": "markdown",
   "metadata": {},
   "source": [
    "위의 코드를 보고 함수안에 함수를 쓰는 것을 처음 보았다... 이러한 개념을 이해하려면 먼저, 파이썬의 **퍼스트클래스 함수(First-class function)**에 대해 알아야 한다. [School of web](http://schoolofweb.net/blog/posts/%ED%8C%8C%EC%9D%B4%EC%8D%AC-%ED%8D%BC%EC%8A%A4%ED%8A%B8%ED%81%B4%EB%9E%98%EC%8A%A4-%ED%95%A8%EC%88%98-first-class-function/)을 참고하였다. <br />"
   ]
  },
  {
   "cell_type": "markdown",
   "metadata": {},
   "source": [
    "## 퍼스트클래스 함수 (First-class function)\n",
    "**퍼스트클래스 함수**란 프로그래밍 언어가 함수(function)를 *first-class object* 로 취급하는 것을 의미한다. 즉, 함수 자체를 **인자(argument)**로써 다른 함수에 전달하거나 다른 함수의 결과값으로 **리턴할 수** 있고, 함수를 변수에 **할당**하거나 데이터 구조안에 **저장**할 수 있는 함수를 말한다. 아래의 예제 코드들을 통해 퍼스트클래스 함수에 대해 자세히 알아보도록 하자."
   ]
  },
  {
   "cell_type": "code",
   "execution_count": 1,
   "metadata": {},
   "outputs": [
    {
     "name": "stdout",
     "output_type": "stream",
     "text": [
      "25\n",
      "<function square at 0x10fc04e18>\n",
      "<function square at 0x10fc04e18>\n"
     ]
    }
   ],
   "source": [
    "def square(x):\n",
    "    return x * x\n",
    "\n",
    "print(square(5))\n",
    "\n",
    "f = square\n",
    "\n",
    "print(square)\n",
    "print(f)"
   ]
  },
  {
   "cell_type": "markdown",
   "metadata": {},
   "source": [
    "위의 코드를 보면 `square`함수와 `f` 변수에 `square`를 할당한 후 출력한 결과, 같은 메모리에 할당되어 있는것을 볼 수 있다. 또한, 아래의 코드를 통해 `square`함수를 할당받은 `f`변수가 함수처럼 사용되는 것을 확인할 수 있다."
   ]
  },
  {
   "cell_type": "code",
   "execution_count": 2,
   "metadata": {},
   "outputs": [
    {
     "name": "stdout",
     "output_type": "stream",
     "text": [
      "25\n"
     ]
    }
   ],
   "source": [
    "def square(x):\n",
    "    return x * x\n",
    "\n",
    "f = square\n",
    "\n",
    "print(f(5))"
   ]
  },
  {
   "cell_type": "markdown",
   "metadata": {},
   "source": [
    "이번에는 함수 자체를 인자(argument)로써 다른 함수에 전달하는 코드를 살펴보겠다. my_map 함수에 `square`함수를 인자로 전달한 후 `for`루프안에서 `square`함수를 호출하는 것을 볼 수 있다. "
   ]
  },
  {
   "cell_type": "code",
   "execution_count": 3,
   "metadata": {},
   "outputs": [
    {
     "name": "stdout",
     "output_type": "stream",
     "text": [
      "[1, 4, 9, 16, 25]\n"
     ]
    }
   ],
   "source": [
    "def square(x):\n",
    "    return x * x\n",
    "\n",
    "def my_map(func, arg_list):\n",
    "    result = []\n",
    "    for i in arg_list:\n",
    "        result.append(func(i))  # square 함수 호출\n",
    "    return result\n",
    "\n",
    "num_list = [1, 2, 3, 4, 5]\n",
    "squares = my_map(square, num_list)  # square 함수를 인자로 전달\n",
    "print(squares)"
   ]
  },
  {
   "cell_type": "markdown",
   "metadata": {},
   "source": [
    "위의 코드를 `simple_square`함수 하나로 아래와 같이 나타낼 수 있다. 리스트 컴프리헨션을 이용해 간단하게 나타낼 수 있다. 간단한 함수 하나만 실행할 때는 아래와 같이 사용할 수 있다. <br />"
   ]
  },
  {
   "cell_type": "code",
   "execution_count": 1,
   "metadata": {},
   "outputs": [
    {
     "name": "stdout",
     "output_type": "stream",
     "text": [
      "[1, 4, 9, 16, 25]\n"
     ]
    }
   ],
   "source": [
    "def simple_square(arg_list):\n",
    "    result = [num * num for num in arg_list]\n",
    "    return result\n",
    "\n",
    "num_list = [1, 2, 3, 4, 5]\n",
    "simple_squares = simple_square(num_list)\n",
    "print(simple_squares)"
   ]
  },
  {
   "cell_type": "markdown",
   "metadata": {},
   "source": [
    "그럼 굳이 왜 퍼스트클래스 함수를 사용하는 걸까? 라는 의문이 들 수 있다. 하지만 아래의 예제를 보면 퍼스트클래스 함수의 장점을 바로 확인할 수 있다. <br />\n",
    "퍼스트클래스 함수의 장점은 *이미 정의된 여러 함수를 간단히 재활용* 할 수 있다는 장점이 있다."
   ]
  },
  {
   "cell_type": "code",
   "execution_count": 2,
   "metadata": {},
   "outputs": [
    {
     "name": "stdout",
     "output_type": "stream",
     "text": [
      "squares : [1, 4, 9, 16, 25]\n",
      "cubes : [1, 8, 27, 64, 125]\n",
      "quads : [1, 16, 81, 256, 625]\n"
     ]
    }
   ],
   "source": [
    "def square(x):\n",
    "    return x * x\n",
    "\n",
    "def cube(x):\n",
    "    return x * x * x\n",
    "\n",
    "def quad(x):\n",
    "    return x * x * x * x\n",
    "\n",
    "def my_map(func, arg_list):\n",
    "    result = [func(i) for i in arg_list]  # square 함수 호출\n",
    "    return result\n",
    "\n",
    "num_list = [1, 2, 3, 4, 5]\n",
    "\n",
    "squares = my_map(square, num_list)\n",
    "cubes = my_map(cube, num_list)\n",
    "quads = my_map(quad, num_list)\n",
    "\n",
    "print('squares : {}'.format(squares))\n",
    "print('cubes : {}'.format(cubes))\n",
    "print('quads : {}'.format(quads))"
   ]
  },
  {
   "cell_type": "markdown",
   "metadata": {},
   "source": [
    "위의 예제와 같이 `square, cube, quad`의 정의되어 있는 함수를 `my_map`과 같은 wrapper 함수를 정의해 편리하게 쓸 수 있다."
   ]
  },
  {
   "cell_type": "markdown",
   "metadata": {},
   "source": [
    "이번에는 함수의 결과값으로 다른 함수를 리턴하는 방법에 대해 알아보자"
   ]
  },
  {
   "cell_type": "code",
   "execution_count": 6,
   "metadata": {},
   "outputs": [
    {
     "name": "stdout",
     "output_type": "stream",
     "text": [
      "<function logger.<locals>.log_message at 0x00000213243CDA60>\n",
      "Log : Hi\n"
     ]
    }
   ],
   "source": [
    "def logger(msg):\n",
    "    \n",
    "    def log_message():  # 1\n",
    "        print('Log : {}'.format(msg))\n",
    "    \n",
    "    return log_message\n",
    "\n",
    "log_hi = logger('Hi')\n",
    "print(log_hi)  # log_message 오브젝트가 출력됨\n",
    "log_hi()  # Log: Hi 가 출력됨"
   ]
  },
  {
   "cell_type": "markdown",
   "metadata": {},
   "source": [
    "위의 예제에서 정의된 `log_message`함수를 `logger` 함수의 리턴값으로 리턴하여 `log_hi`라는 변수에 할당한 후 호출한 것을 볼 수 있다. 그런데 여기서 신기한 점을 발견할 수 있다. `msg`와 같은 함수의 지역변수(local variable)의 값은 함수가 호출된 이후에 메모리에서 사라지므로 다시 참조할 수 없다. 하지만, `msg` 변수에 할당했던 'Hi'값이  `logger`함수가 종료된 이후에도 참조가 되었다. <br />\n",
    "`log_message`와 같은 함수를 **클로저(closure)**라고 하며, 클로저는 다른 함수의 지역변수를 그 함수가 종료된 이후에도 기억할 수 있다."
   ]
  },
  {
   "cell_type": "code",
   "execution_count": 10,
   "metadata": {},
   "outputs": [
    {
     "name": "stdout",
     "output_type": "stream",
     "text": [
      "<function logger.<locals>.log_message at 0x0000021325737268>\n",
      "Log : Hi\n",
      "NameError : name 'logger' is not defined\n",
      "Log : Hi\n"
     ]
    }
   ],
   "source": [
    "def logger(msg):\n",
    "    \n",
    "    def log_message():  # 1\n",
    "        print('Log :', msg)\n",
    "        \n",
    "    return log_message\n",
    "\n",
    "log_hi = logger('Hi')\n",
    "print(log_hi)  # log_message 오브젝트가 출력됨\n",
    "log_hi()  # Log : Hi 가 출력됨\n",
    "\n",
    "del logger  # logger 오브젝트를 지움\n",
    "\n",
    "# logger 오브젝트가 지워진 것을 확인\n",
    "try:\n",
    "    print(logger)\n",
    "except NameError as e:\n",
    "    print('NameError :',e)\n",
    "    \n",
    "log_hi()  # logger가 지워진 뒤에도 Log: Hi 가 출력됨"
   ]
  },
  {
   "cell_type": "markdown",
   "metadata": {},
   "source": [
    "위의 예제에서 `logger`가 지워진 뒤에도 `log_hi()`를 실행하여 `log_message`가 호출된 것을 확인할 수 있다."
   ]
  },
  {
   "cell_type": "code",
   "execution_count": 12,
   "metadata": {},
   "outputs": [
    {
     "name": "stdout",
     "output_type": "stream",
     "text": [
      "<h1>심플 헤딩 타이틀<h1>\n",
      "------------------------------\n",
      "<function html_tag.<locals>.wrap_text at 0x000002132573F378>\n",
      "<h1>첫 번째 헤딩 타이틀<h1>\n",
      "<h1>두 번째 헤딩 타이틀<h1>\n",
      "<p>이것은 paragraph 입니다.<p>\n"
     ]
    }
   ],
   "source": [
    "def simple_html_tag(tag, msg):\n",
    "    print('<{tag}>{msg}<{tag}>'.format(tag=tag, msg=msg))\n",
    "    \n",
    "simple_html_tag('h1', '심플 헤딩 타이틀')\n",
    "\n",
    "print('-' * 30)\n",
    "\n",
    "# 함수를 리턴하는 함수\n",
    "def html_tag(tag):\n",
    "    \n",
    "    def wrap_text(msg):\n",
    "        print('<{tag}>{msg}<{tag}>'.format(tag=tag, msg=msg))\n",
    "        \n",
    "    return wrap_text\n",
    "\n",
    "print_h1 = html_tag('h1')  # `\n",
    "print(print_h1)  # 2\n",
    "print_h1('첫 번째 헤딩 타이틀')  # 3\n",
    "print_h1('두 번째 헤딩 타이틀')  # 4\n",
    "\n",
    "print_p = html_tag('p')\n",
    "print_p('이것은 paragraph 입니다.')"
   ]
  },
  {
   "cell_type": "markdown",
   "metadata": {},
   "source": [
    "`#1`에서 `html_tag` 함수를 `print_h1` 변수에 할당한 후 `#2`에서 변수의 값을 출력했을 때, `wrap_text`함수 오브젝트가 할당되어 있는 것을 볼 수 있다. 그리고 `#3`과 `#4`에서 `wrap_text`함수를 호출한 것을 볼 수 있다. "
   ]
  },
  {
   "cell_type": "markdown",
   "metadata": {},
   "source": [
    "## 클로저 - Closure\n",
    "> 프로그래밍 언어에서의 클로저란 퍼스트클래스 함수를 지원하는 언어의 네임 바인딩 기술이다. 클로저는 어떤 함수를 함수 자신이 가지고 있는 환경과 함께 저장한 레코드이다. 또한 함수가 가진 프리변수(free variable)를 클로저가 만들어지는 당시의 값과 레퍼런스에 맵핑하여 주는 역할을 한다. 클로저는 일반 함수와는 다르게, 자신의 영역 밖에서 호출된 함수의 변수값과 레퍼런스를 복사하고 저장한 뒤, 이 캡처한 값들에 액세스할 수 있게 도와준다.\n",
    "> - 출처: [SCHOOL OF WEB](http://schoolofweb.net/blog/posts/%ED%8C%8C%EC%9D%B4%EC%8D%AC-%ED%81%B4%EB%A1%9C%EC%A0%80-closure/)"
   ]
  },
  {
   "cell_type": "code",
   "execution_count": 13,
   "metadata": {},
   "outputs": [
    {
     "name": "stdout",
     "output_type": "stream",
     "text": [
      "Hi\n"
     ]
    }
   ],
   "source": [
    "def outer_func():  # 1\n",
    "    message = 'Hi'  # 3\n",
    "    \n",
    "    def inner_func():  # 4\n",
    "        print(message)  # 6\n",
    "        \n",
    "    return inner_func()  # 5\n",
    "\n",
    "outer_func()  # 2"
   ]
  },
  {
   "cell_type": "markdown",
   "metadata": {},
   "source": [
    "위의 코드의 프로세스를 확인해보면 <br />\n",
    "1. `#1`에서 정의된 함수 `outer_func`을 `#2`에서 호출한다. \n",
    "2. `outer_func`가 실행된 후, `#3`에서 `message`라는 변수에 'Hi' 문자열을 할당한다.\n",
    "3. `#4`에서 `inner_func()`을 정의하고 `#5`에서 `inner_func`을 호출과 동시에 리턴한다.\n",
    "4. `#6`에서 `message`변수를 참조하여 출력한다. 여기서 `message`는 `inner_func`안에 정의 되어있지 않지만, `inner_func`안에서 사용되기 때문에 이를 *프리변수* 라고 한다."
   ]
  },
  {
   "cell_type": "code",
   "execution_count": 14,
   "metadata": {},
   "outputs": [
    {
     "data": {
      "text/plain": [
       "<function __main__.outer_func.<locals>.inner_func>"
      ]
     },
     "execution_count": 14,
     "metadata": {},
     "output_type": "execute_result"
    }
   ],
   "source": [
    "def outer_func():  # 1\n",
    "    message = 'Hi'  # 3\n",
    "    \n",
    "    def inner_func():  # 4\n",
    "        print(message)  # 6\n",
    "        \n",
    "    return inner_func  # 5 <-- ()를 지움\n",
    "\n",
    "outer_func()  # 2"
   ]
  },
  {
   "cell_type": "markdown",
   "metadata": {},
   "source": [
    "위의 코드는 `#5`에서 `()`를 지운 코드이다. 여기서는 `inner_func` 함수 오브젝트를 리턴한다."
   ]
  },
  {
   "cell_type": "code",
   "execution_count": 21,
   "metadata": {},
   "outputs": [
    {
     "name": "stdout",
     "output_type": "stream",
     "text": [
      "object:  <function outer_func.<locals>.inner_func at 0x0000021325737950>\n",
      "Hi\n"
     ]
    }
   ],
   "source": [
    "def outer_func():  # 1\n",
    "    message = 'Hi'  # 3\n",
    "    \n",
    "    def inner_func():  # 4\n",
    "        print(message)  # 6\n",
    "        \n",
    "    return inner_func  # 5 \n",
    "\n",
    "my_func = outer_func()  # 2\n",
    "print(\"object: \", my_func) # 7\n",
    "my_func() # 8"
   ]
  },
  {
   "cell_type": "markdown",
   "metadata": {},
   "source": [
    "위의 코드는 `#7`에서 `my_func`이라는 변수에 `inner_func` 오브젝트 변수를 할당한 코드이다. 할당한 변수를 `#8` 에서 호출 하니 'Hi'라는 문자열이 출력되었다. `outer_func`는 `#2`에서 호출된 후, 종료되었지만, `#8` 에서 `my_func` 함수가 `outer_func`함수의 로컬변수인 `message`를 참조했다. 이것이 가능한 이유가 바로 **클로저** 때문이다. 클로저는 함수의 프리변수 값을 따로 저장해 놓는다."
   ]
  },
  {
   "cell_type": "code",
   "execution_count": 23,
   "metadata": {},
   "outputs": [
    {
     "name": "stdout",
     "output_type": "stream",
     "text": [
      "Object :\n",
      " <function outer_func.<locals>.inner_func at 0x0000021325771D08>\n",
      "\n",
      "Directory :\n",
      " ['__annotations__', '__call__', '__class__', '__closure__', '__code__', '__defaults__', '__delattr__', '__dict__', '__dir__', '__doc__', '__eq__', '__format__', '__ge__', '__get__', '__getattribute__', '__globals__', '__gt__', '__hash__', '__init__', '__kwdefaults__', '__le__', '__lt__', '__module__', '__name__', '__ne__', '__new__', '__qualname__', '__reduce__', '__reduce_ex__', '__repr__', '__setattr__', '__sizeof__', '__str__', '__subclasshook__']\n",
      "\n",
      "Type :\n",
      " <class 'tuple'>\n",
      "\n",
      "my_func.__closure__ :\n",
      " (<cell at 0x00000213245C1138: str object at 0x000002132569F378>,)\n",
      "\n",
      "my_func.__closure__[0] :\n",
      " <cell at 0x00000213245C1138: str object at 0x000002132569F378>\n",
      "\n",
      "dir(my_func.__closure__[0]) :\n",
      " ['__class__', '__delattr__', '__dir__', '__doc__', '__eq__', '__format__', '__ge__', '__getattribute__', '__gt__', '__hash__', '__init__', '__le__', '__lt__', '__ne__', '__new__', '__reduce__', '__reduce_ex__', '__repr__', '__setattr__', '__sizeof__', '__str__', '__subclasshook__', 'cell_contents']\n",
      "\n",
      "my_func.__closure__[0].cell_contents :\n",
      " Hi\n"
     ]
    }
   ],
   "source": [
    "def outer_func():  # 1\n",
    "    message = 'Hi'  # 3\n",
    "    \n",
    "    def inner_func():  # 4\n",
    "        print(message)  # 6\n",
    "        \n",
    "    return inner_func  # 5 \n",
    "\n",
    "my_func = outer_func()  # 2\n",
    "\n",
    "print('Object :\\n', my_func)\n",
    "print()\n",
    "print('Directory :\\n', dir(my_func))\n",
    "print()\n",
    "print('Type :\\n', type(my_func.__closure__))\n",
    "print()\n",
    "print('my_func.__closure__ :\\n', my_func.__closure__)\n",
    "print()\n",
    "print('my_func.__closure__[0] :\\n', my_func.__closure__[0])\n",
    "print()\n",
    "print('dir(my_func.__closure__[0]) :\\n', dir(my_func.__closure__[0]))\n",
    "print()\n",
    "print('my_func.__closure__[0].cell_contents :\\n', my_func.__closure__[0].cell_contents)"
   ]
  },
  {
   "cell_type": "markdown",
   "metadata": {},
   "source": [
    "아래의 예제는 클로저를 이용해 하나의 함수로 여러가지 함수를 만들 수 있다는 것을 보여주는 간단한 예제이다. "
   ]
  },
  {
   "cell_type": "code",
   "execution_count": 25,
   "metadata": {},
   "outputs": [
    {
     "name": "stdout",
     "output_type": "stream",
     "text": [
      "<h1>h1 태그의 안입니다<h1>\n",
      "<p>p태그의 안입니다<p>\n"
     ]
    }
   ],
   "source": [
    "def outer_func(tag):\n",
    "    tag = tag\n",
    "    \n",
    "    def inner_func(txt):\n",
    "        text = txt\n",
    "        print('<{tag}>{text}<{tag}>'.format(tag=tag, text=text))\n",
    "        \n",
    "    return inner_func\n",
    "\n",
    "h1_func = outer_func('h1')\n",
    "p_func = outer_func('p')\n",
    "\n",
    "h1_func('h1 태그의 안입니다')\n",
    "p_func('p태그의 안입니다')"
   ]
  },
  {
   "cell_type": "markdown",
   "metadata": {},
   "source": [
    "---"
   ]
  },
  {
   "cell_type": "markdown",
   "metadata": {},
   "source": [
    "퍼스트클래스 함수와 클로저에 대해 알아보았으니, 다시 교재로 돌아오면,"
   ]
  },
  {
   "cell_type": "code",
   "execution_count": 54,
   "metadata": {},
   "outputs": [],
   "source": [
    "def sort_priority(values, group):\n",
    "    def helper(x):\n",
    "        if x in group:\n",
    "            return (0, x)\n",
    "        return (1, x)\n",
    "    values.sort(key=helper)"
   ]
  },
  {
   "cell_type": "code",
   "execution_count": 55,
   "metadata": {},
   "outputs": [
    {
     "name": "stdout",
     "output_type": "stream",
     "text": [
      "[2, 3, 5, 7, 1, 4, 6, 8]\n"
     ]
    }
   ],
   "source": [
    "numbers = [8, 3, 1, 2, 5, 4, 7, 6]\n",
    "group = {2, 3, 5, 7}\n",
    "\n",
    "sort_priority(numbers, group)\n",
    "print(numbers)"
   ]
  },
  {
   "cell_type": "markdown",
   "metadata": {},
   "source": [
    "위의 예제 코드의 동작 이유는 아래와 같다.\n",
    "* 파이썬은 클로저(closure)를 지원한다. 클로저에 대한 정의는 위의 설명을 참고하자. 클로저는 `sort_priority` 의 프리변수(`values`, `group`) 접근할 수 있다.\n",
    "* 함수는 파이썬에서 **일급 객체(first-class object)** 이다. 이 의미는 위의 퍼스트클래스 함수에서도 설명 했지만, 함수를 직접 참조하고, 변수에 할당하고, 다른 함수의 인수로 전달하고, 표현식과 if 문 등에서 비교할 수 있다는 의미이다. 따라서 `sort`메소드에 클로저 함수를 `key`로 받을 수 있다.\n",
    "* 파이썬에는 튜플을 비교하는 특정한 규칙이 있다. 먼저 인덱스 0으로 아이템을 비교하고, 그다음으로 인덱스 1, 다음은 인덱스 2 와 같이 비교한다."
   ]
  },
  {
   "cell_type": "code",
   "execution_count": null,
   "metadata": {},
   "outputs": [],
   "source": []
  }
 ],
 "metadata": {
  "kernelspec": {
   "display_name": "Python 3",
   "language": "python",
   "name": "python3"
  },
  "language_info": {
   "codemirror_mode": {
    "name": "ipython",
    "version": 3
   },
   "file_extension": ".py",
   "mimetype": "text/x-python",
   "name": "python",
   "nbconvert_exporter": "python",
   "pygments_lexer": "ipython3",
   "version": "3.5.4"
  }
 },
 "nbformat": 4,
 "nbformat_minor": 2
}
