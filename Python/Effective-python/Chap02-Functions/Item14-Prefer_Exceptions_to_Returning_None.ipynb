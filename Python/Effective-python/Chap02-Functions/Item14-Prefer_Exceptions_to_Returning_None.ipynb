{
 "cells": [
  {
   "cell_type": "markdown",
   "metadata": {},
   "source": [
    "## BETTER WAY 14 - `None`을 반환하기 보다는 예외를 일으키자\n",
    "## Item14 - Prefer Exceptions to Returning `None`"
   ]
  },
  {
   "cell_type": "markdown",
   "metadata": {},
   "source": [
    "파이썬에서 함수를 작성할 때 return 값에 `None`을 작성하는 경우가 있다. 예를 들어 아래의 코드는 숫자를 나누어 주는 헬퍼함수를 작성한다고 할때 `ZeroDivisionError`가 발생할 경우 `None`을 리턴해 준다."
   ]
  },
  {
   "cell_type": "code",
   "execution_count": 1,
   "metadata": {},
   "outputs": [
    {
     "name": "stdout",
     "output_type": "stream",
     "text": [
      "None\n"
     ]
    }
   ],
   "source": [
    "def divide(a, b):\n",
    "    try:\n",
    "        return a / b\n",
    "    except ZeroDivisionError:\n",
    "        return None\n",
    "    \n",
    "print(divide(5, 0))"
   ]
  },
  {
   "cell_type": "markdown",
   "metadata": {},
   "source": [
    "위의 헬퍼함수를 사용할 경우 `None`의 리턴 값을 다음과 같이 해석할 수 있다."
   ]
  },
  {
   "cell_type": "code",
   "execution_count": 2,
   "metadata": {},
   "outputs": [
    {
     "name": "stdout",
     "output_type": "stream",
     "text": [
      "Invalid inputs\n"
     ]
    }
   ],
   "source": [
    "a = 5\n",
    "b = 0\n",
    "result = divide(a, b)\n",
    "if result is None:\n",
    "    print('Invalid inputs')"
   ]
  },
  {
   "cell_type": "markdown",
   "metadata": {},
   "source": [
    "분자가 0이고 분모가 0이 아닐 경우 `if`문에서 `False`에 해당하는 값을 체크한다고 할 때 문제가 발생할 수 있다."
   ]
  },
  {
   "cell_type": "code",
   "execution_count": 3,
   "metadata": {},
   "outputs": [
    {
     "name": "stdout",
     "output_type": "stream",
     "text": [
      "Invalid inputs\n"
     ]
    }
   ],
   "source": [
    "a = 0\n",
    "b = 5\n",
    "result = divide(a, b)\n",
    "if not result:  # False 일 때\n",
    "    print('Invalid inputs')"
   ]
  },
  {
   "cell_type": "markdown",
   "metadata": {},
   "source": [
    "위의 예제와 같이 `None`을 리턴하게 되면 오류가 일어나기 쉽다. 이러한 오류를 줄이기 위한 방법은 두가지가 있다. <br />\n",
    "첫 번째 방법은 리턴 값을 두 개로 나누어 튜플에 담는 방법이 있다. 아래의 코드는 튜플의 첫 번째 인자는 작업이 성공했는지(`True`) 실패했는지(`False`)를 알려준다. 두 번째 인자는 계산된 결과이다. "
   ]
  },
  {
   "cell_type": "code",
   "execution_count": 4,
   "metadata": {},
   "outputs": [
    {
     "name": "stdout",
     "output_type": "stream",
     "text": [
      "Invalid inputs\n"
     ]
    }
   ],
   "source": [
    "def divide(a, b):\n",
    "    try:\n",
    "        return True, a / b\n",
    "    except ZeroDivisionError:\n",
    "        return False, None\n",
    "    \n",
    "a = 1\n",
    "b = 0\n",
    "success, result = divide(a, b)\n",
    "if not success:\n",
    "    print('Invalid inputs')"
   ]
  },
  {
   "cell_type": "markdown",
   "metadata": {},
   "source": [
    "하지만 위의 코드는 함수를 호출한 뒤 튜플을 언패킹 해줘야한다. <br />\n",
    "두 번째 방법은 `None`을 리턴해 주지 않는 방법이 있다. 대신, 함수를 호출하는 쪽에 `try/except`를 통해 예외를 처리한다."
   ]
  },
  {
   "cell_type": "code",
   "execution_count": 5,
   "metadata": {},
   "outputs": [],
   "source": [
    "def divide(a, b):\n",
    "    try:\n",
    "        return a / b\n",
    "    except ZeroDivisionError as e:\n",
    "        raise ValueError('Invalid inputs') from e"
   ]
  },
  {
   "cell_type": "code",
   "execution_count": 6,
   "metadata": {},
   "outputs": [
    {
     "name": "stdout",
     "output_type": "stream",
     "text": [
      "Invalid inputs\n"
     ]
    }
   ],
   "source": [
    "a, b = 5, 0\n",
    "try:\n",
    "    result = divide(a, b)\n",
    "except ValueError:\n",
    "    print('Invalid inputs')\n",
    "else:\n",
    "    print(\"Result is {}\".format(result))"
   ]
  },
  {
   "cell_type": "markdown",
   "metadata": {},
   "source": [
    "### 정리\n",
    "* `None` 대신 예외를 발생 시키자."
   ]
  }
 ],
 "metadata": {
  "kernelspec": {
   "display_name": "Python 3",
   "language": "python",
   "name": "python3"
  },
  "language_info": {
   "codemirror_mode": {
    "name": "ipython",
    "version": 3
   },
   "file_extension": ".py",
   "mimetype": "text/x-python",
   "name": "python",
   "nbconvert_exporter": "python",
   "pygments_lexer": "ipython3",
   "version": "3.5.4"
  }
 },
 "nbformat": 4,
 "nbformat_minor": 2
}
