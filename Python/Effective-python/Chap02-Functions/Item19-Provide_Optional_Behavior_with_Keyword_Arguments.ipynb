{
 "cells": [
  {
   "cell_type": "markdown",
   "metadata": {},
   "source": [
    "## BETTER WAY 19 - 키워드 인수로 선택적인 동작을 제공하자\n",
    "## Item19 - Provide Optional Behavior with Keyword Arguments"
   ]
  },
  {
   "cell_type": "markdown",
   "metadata": {},
   "source": [
    "다른 프로그래밍 언어와 마찬가지로 파이썬에서 함수를 호출할 때 인수를 위치로 전달할 수 있다."
   ]
  },
  {
   "cell_type": "code",
   "execution_count": 1,
   "metadata": {},
   "outputs": [],
   "source": [
    "def remainder(number, divisor):\n",
    "    return number / divisor\n",
    "\n",
    "assert remainder(20, 2) == 10.0"
   ]
  },
  {
   "cell_type": "markdown",
   "metadata": {},
   "source": [
    "파이썬 함수의 위치 인수를 모두 키워드로 전달할 수도 있다. 이때 인수의 이름을 함수 호출의 괄호 안에 있는 할당문에서 사용한다. "
   ]
  },
  {
   "cell_type": "code",
   "execution_count": 2,
   "metadata": {},
   "outputs": [
    {
     "name": "stdout",
     "output_type": "stream",
     "text": [
      "10.0\n",
      "10.0\n",
      "10.0\n",
      "10.0\n"
     ]
    }
   ],
   "source": [
    "print(remainder(20, 2))  # 위치 인수로 값 넘기기\n",
    "print(remainder(20, divisor=2))  # divisor만 키워드 인수로 넘기기\n",
    "print(remainder(number=20, divisor=2))  # 둘 다 키워드 인수로 넘기기\n",
    "print(remainder(divisor=2, number=20))"
   ]
  },
  {
   "cell_type": "markdown",
   "metadata": {},
   "source": [
    "위치 인수는 키워드 인수 앞에 지정해야 한다. 아래의 코드는 `7`앞에 키워드가 지정되어 있지 않아 에러가 난다."
   ]
  },
  {
   "cell_type": "code",
   "execution_count": 3,
   "metadata": {},
   "outputs": [
    {
     "ename": "SyntaxError",
     "evalue": "positional argument follows keyword argument (<ipython-input-3-3331b514c0e9>, line 1)",
     "output_type": "error",
     "traceback": [
      "\u001b[1;36m  File \u001b[1;32m\"<ipython-input-3-3331b514c0e9>\"\u001b[1;36m, line \u001b[1;32m1\u001b[0m\n\u001b[1;33m    remainder(number=20, 2)\u001b[0m\n\u001b[1;37m                        ^\u001b[0m\n\u001b[1;31mSyntaxError\u001b[0m\u001b[1;31m:\u001b[0m positional argument follows keyword argument\n"
     ]
    }
   ],
   "source": [
    "remainder(number=20, 2)"
   ]
  },
  {
   "cell_type": "markdown",
   "metadata": {},
   "source": [
    "각 인수는 한 번만 지정할 수 있다. 아래의 코드는 number라는 인수에 20, 7 두 개를 지정해줘 에러가 난다."
   ]
  },
  {
   "cell_type": "code",
   "execution_count": 4,
   "metadata": {},
   "outputs": [
    {
     "ename": "TypeError",
     "evalue": "remainder() got multiple values for argument 'number'",
     "output_type": "error",
     "traceback": [
      "\u001b[1;31m---------------------------------------------------------------------------\u001b[0m",
      "\u001b[1;31mTypeError\u001b[0m                                 Traceback (most recent call last)",
      "\u001b[1;32m<ipython-input-4-0d9b522ca302>\u001b[0m in \u001b[0;36m<module>\u001b[1;34m()\u001b[0m\n\u001b[1;32m----> 1\u001b[1;33m \u001b[0mremainder\u001b[0m\u001b[1;33m(\u001b[0m\u001b[1;36m20\u001b[0m\u001b[1;33m,\u001b[0m \u001b[0mnumber\u001b[0m\u001b[1;33m=\u001b[0m\u001b[1;36m2\u001b[0m\u001b[1;33m)\u001b[0m\u001b[1;33m\u001b[0m\u001b[0m\n\u001b[0m",
      "\u001b[1;31mTypeError\u001b[0m: remainder() got multiple values for argument 'number'"
     ]
    }
   ],
   "source": [
    "remainder(20, number=2)"
   ]
  },
  {
   "cell_type": "markdown",
   "metadata": {},
   "source": [
    "키워드 인수의 장점은 아래와 같다.\n",
    "- 코드를 처음 보는 사람이 함수 호출을 더 명확하게 이해할 수 있다. 위의 코드에서 `remainder(20, 7)`보다는 `remainder(number=20, divisor=7)`로써 어떠한 파라미터를 사용했는지 명확하게 알 수 있다.\n",
    "- 함수를 정의 할 때 기본값을 설정할 수 있다. 아래의 코드는 위의 `remainder(number, divisor)`에서 `divisor`인수 값에 기본값으로 1을 설정하는 예시이다. 이렇게 기본값(default)를 지정해줌으로써 `divisor`인수는 선택적 인수(값을 지정해주거나 or 해주지 않거나 할 수 있는)가 된것을 볼 수 있다."
   ]
  },
  {
   "cell_type": "code",
   "execution_count": 5,
   "metadata": {},
   "outputs": [
    {
     "data": {
      "text/plain": [
       "20.0"
      ]
     },
     "execution_count": 5,
     "metadata": {},
     "output_type": "execute_result"
    }
   ],
   "source": [
    "def remainder(number, divisor=1):\n",
    "    return number / divisor\n",
    "\n",
    "remainder(20)"
   ]
  },
  {
   "cell_type": "markdown",
   "metadata": {},
   "source": [
    "- 기존의 호출 코드와 호환성을 유지하면서도 함수의 파라미터를 확장할 수 있는 수단이 된다. 예를 들어 위의 `remainder()`함수에 값을 곱하는 파라미터를 추가하고 싶을 경우 선택적 파라미터로 추가하여 확장해주면 된다. 그렇게 되면 기존의 `reamaider()`함수의 기능을 유지하면서 새로운 파라미터를 추가할 수 있다."
   ]
  },
  {
   "cell_type": "code",
   "execution_count": 6,
   "metadata": {},
   "outputs": [
    {
     "data": {
      "text/plain": [
       "10.0"
      ]
     },
     "execution_count": 6,
     "metadata": {},
     "output_type": "execute_result"
    }
   ],
   "source": [
    "def remainder(number, divisor=1, times=1):\n",
    "    return (number / divisor) * times\n",
    "\n",
    "remainder(20, 2)"
   ]
  },
  {
   "cell_type": "code",
   "execution_count": 7,
   "metadata": {},
   "outputs": [
    {
     "data": {
      "text/plain": [
       "20.0"
      ]
     },
     "execution_count": 7,
     "metadata": {},
     "output_type": "execute_result"
    }
   ],
   "source": [
    "remainder(number=20, divisor=2, times=2)"
   ]
  },
  {
   "cell_type": "markdown",
   "metadata": {},
   "source": [
    "### 핵심정리\n",
    "- 함수의 인수를 위치나 키워드로 지정할 수 있다.\n",
    "- 위치 인수로만으로는 이해하기 어려울 때 키워드 인수를 쓰면 각 인수를 사용하는 목적이 명확해 진다. \n",
    "- 키워드 인수에 기본값을 지정하면 함수에 새동작을 쉽게 추가할 수 있다.\n",
    "- 선택적인 키워드 인수는 항상 위치인수가 아닌 키워드 인수로 넘기는 것이 좋다."
   ]
  }
 ],
 "metadata": {
  "kernelspec": {
   "display_name": "Python 3",
   "language": "python",
   "name": "python3"
  },
  "language_info": {
   "codemirror_mode": {
    "name": "ipython",
    "version": 3
   },
   "file_extension": ".py",
   "mimetype": "text/x-python",
   "name": "python",
   "nbconvert_exporter": "python",
   "pygments_lexer": "ipython3",
   "version": "3.5.4"
  }
 },
 "nbformat": 4,
 "nbformat_minor": 2
}
