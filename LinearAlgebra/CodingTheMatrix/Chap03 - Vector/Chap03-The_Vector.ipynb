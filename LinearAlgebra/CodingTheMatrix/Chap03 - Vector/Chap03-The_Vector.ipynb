{
 "cells": [
  {
   "cell_type": "markdown",
   "metadata": {},
   "source": [
    "# Chap03\n",
    "# 벡터 - Vector"
   ]
  },
  {
   "cell_type": "markdown",
   "metadata": {},
   "source": [
    "## 3.1 벡터란 무엇인가?\n",
    "*벡터*란 단어는 \"vehere(운반하다)\"라는 뜻의 라틴어에서 유래되었다. 어떤 것을 한 장소에서 다른 곳으로 이동하는 벡터의 **방향성**을 내포하고 있다. <br />\n",
    "한 벡터의 모든 원소는 *하나의 필드* ([Chap02](https://github.com/ExcelsiorCJH/Study/blob/master/LinearAlgebra/CodingTheMatrix/Chap02%20-%20The%20Field/Chap02-The_Field.ipynb) 참고)에서 나와야 한다.\n",
    "* **Definition 1.** "
   ]
  },
  {
   "cell_type": "markdown",
   "metadata": {},
   "source": [
    "*벡터*란 단어는 \"vehere(운반하다)\"라는 뜻의 라틴어에서 유래되었다. 어떤 것을 한 장소에서 다른 곳으로 이동하는 벡터의 **방향성**을 내포하고 있다. \n",
    "한 벡터의 모든 원소는 *하나의 필드* ([Chap02](https://github.com/ExcelsiorCJH/Study/blob/master/LinearAlgebra/CodingTheMatrix/Chap02%20-%20The%20Field/Chap02-The_Field.ipynb) 참고)에서 나와야 한다.\n",
    "\n",
    "- **Definition 1** : 필드 $F$와 양의 정수 $n$에 대해, $F$에 속하는 $n$개의 원소를 가지는 벡터를 $F$상의 $n$-*벡터*라고 한다. $F$상의 $n$-벡터들의 집합은 $F^{n}$으로 나타낸다.\n",
    "  예를 들어, 아래의 $\\mathbb{R}$(실수) 상의 4-벡터들의 집합을 $\\mathbb{R}^{4}$라고 쓴다.\n",
    "  $$[3.14, 2.17, -1.0, 2.0]$$"
   ]
  },
  {
   "cell_type": "markdown",
   "metadata": {},
   "source": [
    "*벡터*란 단어는 \"vehere(운반하다)\"라는 뜻의 라틴어에서 유래되었다. 어떤 것을 한 장소에서 다른 곳으로 이동하는 벡터의 **방향성**을 내포하고 있다. \n",
    "한 벡터의 모든 원소는 *하나의 필드* ([Chap02](https://github.com/ExcelsiorCJH/Study/blob/master/LinearAlgebra/CodingTheMatrix/Chap02%20-%20The%20Field/Chap02-The_Field.ipynb) 참고)에서 나와야 한다.\n",
    "\n",
    "- **Definition 1** : 필드 $F$와 양의 정수 $n$에 대해, $F$에 속하는 $n$개의 원소를 가지는 벡터를 $F$상의 $n$-*벡터*라고 한다. $F$상의 $n$-벡터들의 집합은 $F^{n}$으로 나타낸다. <br />예를 들어, 아래의 $\\mathbb{R}$(실수) 상의 4-벡터들의 집합을 $\\mathbb{R}^{4}$라고 쓴다.\n",
    "  $$[3.14, 2.17, -1.0, 2.0]$$\n",
    "\n",
    "위의 4-벡터 집합을 함수로 생각하면  $\\mathbb{R}^{4}$ 를 함수의 집합에 대한 표기법으로 해석할 수 있다. 따라서, 위의 4-벡터는 사실상 함수라고 할 수 있다.\n",
    "\n",
    "$$ 0\\mapsto 3.14\\\\ 1\\mapsto 2.17\\\\ 2\\mapsto -1.0\\\\ 3\\mapsto 2.0$$"
   ]
  },
  {
   "cell_type": "markdown",
   "metadata": {},
   "source": [
    "## 3.2 벡터는 함수이다.\n",
    "\n",
    "위의 예제를 통해 알 수 있듯이 벡터는 함수로 나타낼 수 있다.\n",
    "\n",
    "- **Definition 2** : 유한 집합 $D$와 필드 $F$에 대해, $F$상의 $D$-*벡터*는 $D$에서 $F$로의 함수이다."
   ]
  },
  {
   "cell_type": "markdown",
   "metadata": {},
   "source": [
    "### 3.2.1 파이썬의 딕셔너리를 이용한 벡터 표현\n",
    "\n",
    "파이썬의 딕셔너리(Dictionary) 타입은 정의역(Domain) $\\mapsto$ 치역(Image)의 형태로 벡터를 표현하는 데 유용하다. 위의 예제를 딕셔너리를 이용하면 `{0: 3.14, 1: 2.17, 2: -1.0, 3: 2.0}`와 같이 쓸 수 있다."
   ]
  },
  {
   "cell_type": "markdown",
   "metadata": {},
   "source": [
    "### 3.2.2 Sparsity\n",
    "\n",
    "대부분의 원소값이 $0$인 벡터를 ***Sparse vector***(희소 벡터)라고 한다. $0$이 아닌 언소의 수가 $k$개인 벡터는 $k$-*sparse* 라고 한다. $k$-*sparse* 벡터는 $k$에 비례하는 공간을 사용하여 표현할 수 있다. 예를 들어 여러 문서로 구성된 단어들의 모음을 $f: Words \\mapsto \\mathbb{R}$ 을 벡터로 나타내려고 하면 필요한 공간은 모든 문서를 구성하는 총 단어의 수에 비례한다."
   ]
  },
  {
   "cell_type": "markdown",
   "metadata": {},
   "source": [
    "## 3.3 벡터로 무엇을 표현할 수 있는가?\n",
    "\n",
    "다양한 데이터들에 대해 벡터로 나타낼 수 있다. \n",
    "\n",
    "1. **이진 문자열(binary string)** : $n$-비트 이진 문자열 `10111011`을 $GF(2)$상의 $n$-벡터, `[1, 0, 1, 1, 1, 0, 1, 1]`로 표현할 수 있다. \n",
    "\n",
    "2. **속성(attribute)** : 예를 들어, 소비자에 관한 데이터를 딕셔너리 형태의 벡터로 표현할 수 있다. 이러한 벡터를 이용하여 머신러닝 모델에 적용할 수 있다.\n",
    "\n",
    "   ```python\n",
    "   Jane = {'age': 30, 'education_level': 16, 'income': 85000}\n",
    "   ```\n",
    "\n",
    "3. **확률분포** : 아래와 같이 유한한 확률 분포는 벡터로 나타낼 수 있다.\n",
    "\n",
    "   ```python\n",
    "   {1: 1/6, 2: 1/6, 3: 1/6, 4: 1/6, 5: 1/6, 6: 1/6}\n",
    "   ```\n",
    "\n",
    "4. **이미지** : 예를 들어, `1024 x 768` 크기의 흑백 이미지는 집합 $\\left\\{ { (i,j) }|{ 0\\le i<1024,0\\le j<768 } \\right\\} $ 에서 실수 $\\mathbb{R}$로의 함수로 볼 수 있고, 벡터로 불 수 있다. \n",
    "\n",
    "5. **공간상의 점**"
   ]
  },
  {
   "cell_type": "code",
   "execution_count": 64,
   "metadata": {},
   "outputs": [
    {
     "data": {
      "text/html": [
       "<script>requirejs.config({paths: { 'plotly': ['https://cdn.plot.ly/plotly-latest.min']},});if(!window.Plotly) {{require(['plotly'],function(plotly) {window.Plotly=plotly;});}}</script>"
      ],
      "text/vnd.plotly.v1+html": [
       "<script>requirejs.config({paths: { 'plotly': ['https://cdn.plot.ly/plotly-latest.min']},});if(!window.Plotly) {{require(['plotly'],function(plotly) {window.Plotly=plotly;});}}</script>"
      ]
     },
     "metadata": {},
     "output_type": "display_data"
    }
   ],
   "source": [
    "# 2차원 공간상의 점\n",
    "import numpy as np\n",
    "import plotly.offline as offline \n",
    "import plotly.graph_objs as go\n",
    "from plotly import tools\n",
    "\n",
    "# jupyter notebook 에서 출력 \n",
    "offline.init_notebook_mode(connected=True)\n",
    "\n",
    "L = np.array([[2,2],[3,2],[1.75,1],[2,1],[2.25,1],[2.5,1],[2.75,1],[3,1],[3.25,1]])\n",
    "x = L[:, 0]\n",
    "y = L[:, 1]\n",
    "\n",
    "\n",
    "def plot(x, y):\n",
    "    '''plotly를 이용해 plotting 함수 구현'''\n",
    "    trace = go.Scatter(\n",
    "                x = x,\n",
    "                y = y,\n",
    "                mode = 'markers')\n",
    "\n",
    "    layout = go.Layout(\n",
    "        showlegend=False,\n",
    "        xaxis=dict(\n",
    "            rangemode='tozero',\n",
    "            autorange=False\n",
    "        ),\n",
    "        yaxis=dict(\n",
    "            rangemode='tozero',\n",
    "            autorange=True\n",
    "        )\n",
    "    )\n",
    "\n",
    "    data = [trace]\n",
    "    fig = go.Figure(data=data, layout=layout)\n",
    "    return offline.iplot(fig)"
   ]
  },
  {
   "cell_type": "code",
   "execution_count": 41,
   "metadata": {},
   "outputs": [],
   "source": [
    "# plot(x, y)"
   ]
  },
  {
   "cell_type": "code",
   "execution_count": 43,
   "metadata": {},
   "outputs": [],
   "source": [
    "# 3차원 공간상의 점\n",
    "x, y, z = np.random.multivariate_normal(np.array([0,0,0]), np.eye(3), 10).transpose()\n",
    "\n",
    "trace1 = go.Scatter3d(\n",
    "    x=x,\n",
    "    y=y,\n",
    "    z=z,\n",
    "    mode='markers',\n",
    "    marker=dict(\n",
    "        size=12,\n",
    "        line=dict(\n",
    "            color='rgba(217, 217, 217, 0.14)',\n",
    "            width=0.5\n",
    "        ),\n",
    "        opacity=0.8\n",
    "    )\n",
    ")\n",
    "\n",
    "x2, y2, z2 = np.random.multivariate_normal(np.array([0,0,0]), np.eye(3), 10).transpose()\n",
    "trace2 = go.Scatter3d(\n",
    "    x=x2,\n",
    "    y=y2,\n",
    "    z=z2,\n",
    "    mode='markers',\n",
    "    marker=dict(\n",
    "        color='rgb(127, 127, 127)',\n",
    "        size=12,\n",
    "        symbol='circle',\n",
    "        line=dict(\n",
    "            color='rgb(204, 204, 204)',\n",
    "            width=1\n",
    "        ),\n",
    "        opacity=0.9\n",
    "    )\n",
    ")\n",
    "data = [trace1, trace2]\n",
    "layout = go.Layout(\n",
    "    margin=dict(\n",
    "        l=0,\n",
    "        r=0,\n",
    "        b=0,\n",
    "        t=0\n",
    "    )\n",
    ")\n",
    "fig = go.Figure(data=data, layout=layout)\n",
    "\n",
    "# offline.iplot(fig)"
   ]
  },
  {
   "cell_type": "markdown",
   "metadata": {},
   "source": [
    "## 3.4 벡터 덧셈"
   ]
  },
  {
   "cell_type": "markdown",
   "metadata": {},
   "source": [
    "### 3.4.1 평행이동과 벡터 덧셈\n",
    "\n",
    "벡터의 평행이동은 벡터($v$)에 더하는 함수 $f(v)=v_{0} + v$ 에 의해 평행이동을 할 수 있다.\n",
    "\n",
    "- **Definition 3** : $n$-벡터들의 덧셈은 대응하는 원소들의 덧셈으로 정의된다.\n",
    "$$[u_1, u_2, ..., u_n] + [v_1, v_2, ...,v_n] = [u_1+v_1, u_2+v_2,...,u_n+v_n]$$"
   ]
  },
  {
   "cell_type": "markdown",
   "metadata": {},
   "source": [
    "#### Task 3.4.3\n",
    "[1, 2]를 아래의 리스트 `L`의 각각의 벡터에 더하여 얻어진 점들을 그래프로 그려보자. "
   ]
  },
  {
   "cell_type": "code",
   "execution_count": 51,
   "metadata": {},
   "outputs": [],
   "source": [
    "L = [[2,2],[3,2],[1.75,1],[2,1],[2.25,1],[2.5,1],[2.75,1],[3,1],[3.25,1]]\n",
    "L = np.array(L)\n",
    "L_add = L + [1, 2]\n",
    "x = L_add[:, 0]\n",
    "y = L_add[:, 1]\n",
    "# plot(x, y)"
   ]
  },
  {
   "cell_type": "markdown",
   "metadata": {},
   "source": [
    "### 3.4.2 벡터 덧셈의 결합성과 교환성 \n",
    "\n",
    "필드(체)에서 덧셈의 두 가지 성질은 *결합성(associativity)*과 *교환성(commutativity)*이다. \n",
    "\n",
    "* **Proposition** : 임의의 벡터 $u, v, w$에 대해 다음의 성질이 성립한다.\n",
    "$$(u+v)+w=u+(v+w)\\\\ u+v=vu$$"
   ]
  },
  {
   "cell_type": "markdown",
   "metadata": {},
   "source": [
    "### 3.4.3 벡터를 화살표로 표현하기\n",
    "\n",
    "필드$\\mathbb{R}$상의 $n$-벡터들은 $\\mathbb{R}^{n}$의 화살표로 나타낼 수 있다. 예를 들어, $2$-벡터 $[3, 1.5]$는 꼬리가 원점에 있고 화살표가 $(3, 1.5)$에 있는 화살표로 나타낼 수 있다."
   ]
  },
  {
   "cell_type": "code",
   "execution_count": 63,
   "metadata": {},
   "outputs": [
    {
     "data": {
      "text/plain": [
       "(0, 5)"
      ]
     },
     "execution_count": 63,
     "metadata": {},
     "output_type": "execute_result"
    },
    {
     "data": {
      "image/png": "[encoded data removed]",
      "text/plain": [
       "<matplotlib.figure.Figure at 0x26497330c50>"
      ]
     },
     "metadata": {},
     "output_type": "display_data"
    }
   ],
   "source": [
    "%matplotlib inline\n",
    "import matplotlib.pyplot as plt\n",
    "\n",
    "ax = plt.axes()\n",
    "ax.arrow(0, 0, 3.0, 1.5, head_width=0.1, head_length=0.1)\n",
    "plt.ylim([0, 5])\n",
    "plt.xlim([0, 5])"
   ]
  },
  {
   "cell_type": "markdown",
   "metadata": {},
   "source": [
    "또한 $\\mathbb{R}$상의 벡터들의 덧셈을 화살표를 사용하여 보여줄 수 있다. \n",
    "\n",
    "![](./images/vector_add.PNG)"
   ]
  },
  {
   "cell_type": "markdown",
   "metadata": {},
   "source": [
    "## 3.5 스칼라 - 벡터 곱셈\n",
    "\n",
    "[Chap02-필드](https://render.githubusercontent.com/view/ipynb?commit=e5e626bfc6259c98589c42b21e7c0207ce918d45&enc_url=68747470733a2f2f7261772e67697468756275736572636f6e74656e742e636f6d2f457863656c73696f72434a482f53747564792f653565363236626663363235396339383538396334326232316537633032303763653931386434352f4c696e656172416c67656272612f436f64696e675468654d61747269782f4368617030322532302d2532305468652532304669656c642f4368617030322d5468655f4669656c642e6970796e62&nwo=ExcelsiorCJH%2FStudy&path=LinearAlgebra%2FCodingTheMatrix%2FChap02+-+The+Field%2FChap02-The_Field.ipynb&repository_id=116745719&repository_type=Repository#2.4.3-%EC%96%91%EC%9D%98-%EC%8B%A4%EC%88%98%EB%A1%9C-%EB%B3%B5%EC%86%8C%EC%88%98-%EA%B3%B1%ED%95%98%EA%B8%B0)에서 *스케일링(Scaling)*은 복소평면에서 입력된 복소수를 양의 실수 $r$과 곱하는 함수 $f(z)=r\\cdot z$로 나타낼 수 있었다. 이처럼 벡터에 대해서도 스칼라-벡터 곱(scalar-vector multiplication)에 의해 벡터를 스케일링 할 수 있다. 벡터에서 필드 원소(e.g. 숫자)는 *스칼라(scalar)*라 하며, 그 이유는 곱셈을 통해 벡터를 스케일링 하는데 사용할 수 있기 때문이다.\n",
    "\n",
    "-  **Definition 4** : 벡터 $v$와 스칼라 $\\alpha$의 곱셈은 $v$의 원소 각각을 $\\alpha$와 곱하는 것으로 정의된다.\n",
    "\n",
    "  $$\\alpha [v_1,v_2,...,v_n] = [\\alpha v_1, \\alpha v_2,..., \\alpha v_n]$$"
   ]
  },
  {
   "cell_type": "markdown",
   "metadata": {},
   "source": [
    "#### Task 3.5.4\n",
    "\n",
    "`L`내의 벡터들을 $0.5$만큼 스케일링한 결과와 $-0.5$만큼 스케일링한 결과를 그래프로 그려보자."
   ]
  },
  {
   "cell_type": "code",
   "execution_count": 89,
   "metadata": {},
   "outputs": [],
   "source": [
    "L = [[2,2],[3,2],[1.75,1],[2,1],[2.25,1],[2.5,1],[2.75,1],[3,1],[3.25,1]]\n",
    "L = np.array(L)\n",
    "\n",
    "L1 = L * 0.5\n",
    "L2 = L * (-0.5)\n",
    "\n",
    "trace1 = go.Scatter(x=L1[:, 0],\n",
    "                    y=L1[:, 1],\n",
    "                    mode = 'markers')\n",
    "\n",
    "trace2 = go.Scatter(x=L2[:, 0],\n",
    "                    y=L2[:, 1],\n",
    "                    mode = 'markers')\n",
    "\n",
    "layout = go.Layout(\n",
    "        showlegend=False,\n",
    "        xaxis=dict(\n",
    "            rangemode='tozero',\n",
    "            autorange=True\n",
    "        ),\n",
    "        yaxis=dict(\n",
    "            rangemode='negative',\n",
    "            autorange=True\n",
    "        )\n",
    "    )\n",
    "\n",
    "data = [trace1, trace2]\n",
    "fig = go.Figure(data=data, layout=layout)\n",
    "# offline.iplot(fig)"
   ]
  },
  {
   "cell_type": "code",
   "execution_count": null,
   "metadata": {},
   "outputs": [],
   "source": []
  }
 ],
 "metadata": {
  "kernelspec": {
   "display_name": "Python 3",
   "language": "python",
   "name": "python3"
  },
  "language_info": {
   "codemirror_mode": {
    "name": "ipython",
    "version": 3
   },
   "file_extension": ".py",
   "mimetype": "text/x-python",
   "name": "python",
   "nbconvert_exporter": "python",
   "pygments_lexer": "ipython3",
   "version": "3.5.4"
  }
 },
 "nbformat": 4,
 "nbformat_minor": 2
}
