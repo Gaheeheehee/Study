{
 "cells": [
  {
   "cell_type": "markdown",
   "metadata": {},
   "source": [
    "# Chap03\n",
    "# 벡터 - Vector"
   ]
  },
  {
   "cell_type": "markdown",
   "metadata": {},
   "source": [
    "## 3.1 벡터란 무엇인가?\n",
    "*벡터*란 단어는 \"vehere(운반하다)\"라는 뜻의 라틴어에서 유래되었다. 어떤 것을 한 장소에서 다른 곳으로 이동하는 벡터의 **방향성**을 내포하고 있다. <br />\n",
    "한 벡터의 모든 원소는 *하나의 필드* ([Chap02](https://github.com/ExcelsiorCJH/Study/blob/master/LinearAlgebra/CodingTheMatrix/Chap02%20-%20The%20Field/Chap02-The_Field.ipynb) 참고)에서 나와야 한다.\n",
    "* **Definition 1.** "
   ]
  },
  {
   "cell_type": "markdown",
   "metadata": {},
   "source": [
    "*벡터*란 단어는 \"vehere(운반하다)\"라는 뜻의 라틴어에서 유래되었다. 어떤 것을 한 장소에서 다른 곳으로 이동하는 벡터의 **방향성**을 내포하고 있다. \n",
    "한 벡터의 모든 원소는 *하나의 필드* ([Chap02](https://github.com/ExcelsiorCJH/Study/blob/master/LinearAlgebra/CodingTheMatrix/Chap02%20-%20The%20Field/Chap02-The_Field.ipynb) 참고)에서 나와야 한다.\n",
    "\n",
    "- **Definition 1** : 필드 $F$와 양의 정수 $n$에 대해, $F$에 속하는 $n$개의 원소를 가지는 벡터를 $F$상의 $n$-*벡터*라고 한다. $F$상의 $n$-벡터들의 집합은 $F^{n}$으로 나타낸다.\n",
    "  예를 들어, 아래의 $\\mathbb{R}$(실수) 상의 4-벡터들의 집합을 $\\mathbb{R}^{4}$라고 쓴다.\n",
    "  $$[3.14, 2.17, -1.0, 2.0]$$"
   ]
  },
  {
   "cell_type": "markdown",
   "metadata": {},
   "source": [
    "*벡터*란 단어는 \"vehere(운반하다)\"라는 뜻의 라틴어에서 유래되었다. 어떤 것을 한 장소에서 다른 곳으로 이동하는 벡터의 **방향성**을 내포하고 있다. \n",
    "한 벡터의 모든 원소는 *하나의 필드* ([Chap02](https://github.com/ExcelsiorCJH/Study/blob/master/LinearAlgebra/CodingTheMatrix/Chap02%20-%20The%20Field/Chap02-The_Field.ipynb) 참고)에서 나와야 한다.\n",
    "\n",
    "- **Definition 1** : 필드 $F$와 양의 정수 $n$에 대해, $F$에 속하는 $n$개의 원소를 가지는 벡터를 $F$상의 $n$-*벡터*라고 한다. $F$상의 $n$-벡터들의 집합은 $F^{n}$으로 나타낸다. <br />예를 들어, 아래의 $\\mathbb{R}$(실수) 상의 4-벡터들의 집합을 $\\mathbb{R}^{4}$라고 쓴다.\n",
    "  $$[3.14, 2.17, -1.0, 2.0]$$\n",
    "\n",
    "위의 4-벡터 집합을 함수로 생각하면  $\\mathbb{R}^{4}$ 를 함수의 집합에 대한 표기법으로 해석할 수 있다. 따라서, 위의 4-벡터는 사실상 함수라고 할 수 있다.\n",
    "\n",
    "$$ 0\\mapsto 3.14\\\\ 1\\mapsto 2.17\\\\ 2\\mapsto -1.0\\\\ 3\\mapsto 2.0$$"
   ]
  },
  {
   "cell_type": "markdown",
   "metadata": {},
   "source": [
    "## 3.2 벡터는 함수이다.\n",
    "\n",
    "위의 예제를 통해 알 수 있듯이 벡터는 함수로 나타낼 수 있다.\n",
    "\n",
    "- **Definition 2** : 유한 집합 $D$와 필드 $F$에 대해, $F$상의 $D$-*벡터*는 $D$에서 $F$로의 함수이다."
   ]
  },
  {
   "cell_type": "markdown",
   "metadata": {},
   "source": [
    "### 3.2.1 파이썬의 딕셔너리를 이용한 벡터 표현\n",
    "\n",
    "파이썬의 딕셔너리(Dictionary) 타입은 정의역(Domain) $\\mapsto$ 치역(Image)의 형태로 벡터를 표현하는 데 유용하다. 위의 예제를 딕셔너리를 이용하면 `{0: 3.14, 1: 2.17, 2: -1.0, 3: 2.0}`와 같이 쓸 수 있다."
   ]
  },
  {
   "cell_type": "markdown",
   "metadata": {},
   "source": [
    "### 3.2.2 Sparsity\n",
    "\n",
    "대부분의 원소값이 $0$인 벡터를 ***Sparse vector***(희소 벡터)라고 한다. $0$이 아닌 언소의 수가 $k$개인 벡터는 $k$-*sparse* 라고 한다. $k$-*sparse* 벡터는 $k$에 비례하는 공간을 사용하여 표현할 수 있다. 예를 들어 여러 문서로 구성된 단어들의 모음을 $f: Words \\mapsto \\mathbb{R}$ 을 벡터로 나타내려고 하면 필요한 공간은 모든 문서를 구성하는 총 단어의 수에 비례한다."
   ]
  },
  {
   "cell_type": "markdown",
   "metadata": {},
   "source": [
    "## 3.3 벡터로 무엇을 표현할 수 있는가?\n",
    "\n",
    "다양한 데이터들에 대해 벡터로 나타낼 수 있다. \n",
    "\n",
    "1. **이진 문자열(binary string)** : $n$-비트 이진 문자열 `10111011`을 $GF(2)$상의 $n$-벡터, `[1, 0, 1, 1, 1, 0, 1, 1]`로 표현할 수 있다. \n",
    "\n",
    "2. **속성(attribute)** : 예를 들어, 소비자에 관한 데이터를 딕셔너리 형태의 벡터로 표현할 수 있다. 이러한 벡터를 이용하여 머신러닝 모델에 적용할 수 있다.\n",
    "\n",
    "   ```python\n",
    "   Jane = {'age': 30, 'education_level': 16, 'income': 85000}\n",
    "   ```\n",
    "\n",
    "3. **확률분포** : 아래와 같이 유한한 확률 분포는 벡터로 나타낼 수 있다.\n",
    "\n",
    "   ```python\n",
    "   {1: 1/6, 2: 1/6, 3: 1/6, 4: 1/6, 5: 1/6, 6: 1/6}\n",
    "   ```\n",
    "\n",
    "4. **이미지** : 예를 들어, `1024 x 768` 크기의 흑백 이미지는 집합 $\\left\\{ { (i,j) }|{ 0\\le i<1024,0\\le j<768 } \\right\\} $ 에서 실수 $\\mathbb{R}$로의 함수로 볼 수 있고, 벡터로 불 수 있다. \n",
    "\n",
    "5. **공간상의 점**"
   ]
  },
  {
   "cell_type": "code",
   "execution_count": 36,
   "metadata": {},
   "outputs": [
    {
     "data": {
      "text/html": [
       "<script>requirejs.config({paths: { 'plotly': ['https://cdn.plot.ly/plotly-latest.min']},});if(!window.Plotly) {{require(['plotly'],function(plotly) {window.Plotly=plotly;});}}</script>"
      ],
      "text/vnd.plotly.v1+html": [
       "<script>requirejs.config({paths: { 'plotly': ['https://cdn.plot.ly/plotly-latest.min']},});if(!window.Plotly) {{require(['plotly'],function(plotly) {window.Plotly=plotly;});}}</script>"
      ]
     },
     "metadata": {},
     "output_type": "display_data"
    },
    {
     "data": {
      "application/vnd.plotly.v1+json": {
       "data": [
        {
         "mode": "markers",
         "type": "scatter",
         "uid": "253ef2",
         "x": [
          2,
          3,
          1.75,
          2,
          2.25,
          2.5,
          2.75,
          3,
          3.25
         ],
         "y": [
          2,
          2,
          1,
          1,
          1,
          1,
          1,
          1,
          1
         ]
        }
       ],
       "layout": {
        "autosize": true,
        "showlegend": false,
        "xaxis": {
         "autorange": false,
         "range": [
          -1,
          6
         ],
         "rangemode": "tozero",
         "showspikes": false,
         "type": "linear"
        },
        "yaxis": {
         "autorange": false,
         "range": [
          -1,
          4
         ],
         "rangemode": "tozero",
         "showspikes": false,
         "type": "linear"
        }
       }
      },
      "text/html": [
       "<div id=\"1bfefa79-1e2d-4a74-bce9-4b8a2412b675\" style=\"height: 525px; width: 100%;\" class=\"plotly-graph-div\"></div><script type=\"text/javascript\">require([\"plotly\"], function(Plotly) { window.PLOTLYENV=window.PLOTLYENV || {};window.PLOTLYENV.BASE_URL=\"https://plot.ly\";Plotly.newPlot(\"1bfefa79-1e2d-4a74-bce9-4b8a2412b675\", [{\"type\": \"scatter\", \"y\": [2.0, 2.0, 1.0, 1.0, 1.0, 1.0, 1.0, 1.0, 1.0], \"mode\": \"markers\", \"x\": [2.0, 3.0, 1.75, 2.0, 2.25, 2.5, 2.75, 3.0, 3.25]}], {\"showlegend\": false, \"yaxis\": {\"rangemode\": \"tozero\", \"autorange\": false}, \"xaxis\": {\"rangemode\": \"tozero\", \"autorange\": false}}, {\"showLink\": true, \"linkText\": \"Export to plot.ly\"})});</script>"
      ],
      "text/vnd.plotly.v1+html": [
       "<div id=\"1bfefa79-1e2d-4a74-bce9-4b8a2412b675\" style=\"height: 525px; width: 100%;\" class=\"plotly-graph-div\"></div><script type=\"text/javascript\">require([\"plotly\"], function(Plotly) { window.PLOTLYENV=window.PLOTLYENV || {};window.PLOTLYENV.BASE_URL=\"https://plot.ly\";Plotly.newPlot(\"1bfefa79-1e2d-4a74-bce9-4b8a2412b675\", [{\"type\": \"scatter\", \"y\": [2.0, 2.0, 1.0, 1.0, 1.0, 1.0, 1.0, 1.0, 1.0], \"mode\": \"markers\", \"x\": [2.0, 3.0, 1.75, 2.0, 2.25, 2.5, 2.75, 3.0, 3.25]}], {\"showlegend\": false, \"yaxis\": {\"rangemode\": \"tozero\", \"autorange\": false}, \"xaxis\": {\"rangemode\": \"tozero\", \"autorange\": false}}, {\"showLink\": true, \"linkText\": \"Export to plot.ly\"})});</script>"
      ]
     },
     "metadata": {},
     "output_type": "display_data"
    }
   ],
   "source": [
    "# 2차원 공간상의 점\n",
    "import numpy as np\n",
    "import plotly.offline as offline \n",
    "import plotly.graph_objs as go\n",
    "\n",
    "# jupyter notebook 에서 출력 \n",
    "offline.init_notebook_mode(connected=True)\n",
    "\n",
    "L = np.array([[2,2],[3,2],[1.75,1],[2,1],[2.25,1],[2.5,1],[2.75,1],[3,1],[3.25,1]])\n",
    "x = L[:, 0]\n",
    "y = L[:, 1]\n",
    "\n",
    "trace = go.Scatter(\n",
    "            x = x,\n",
    "            y = y,\n",
    "            mode = 'markers')\n",
    "\n",
    "layout = go.Layout(\n",
    "    showlegend=False,\n",
    "    xaxis=dict(\n",
    "        rangemode='tozero',\n",
    "        autorange=False\n",
    "    ),\n",
    "    yaxis=dict(\n",
    "        rangemode='tozero',\n",
    "        autorange=False\n",
    "    )\n",
    ")\n",
    "\n",
    "data = [trace]\n",
    "\n",
    "fig = go.Figure(data=data, layout=layout)\n",
    "\n",
    "offline.iplot(fig)"
   ]
  },
  {
   "cell_type": "code",
   "execution_count": 38,
   "metadata": {},
   "outputs": [
    {
     "data": {
      "application/vnd.plotly.v1+json": {
       "data": [
        {
         "marker": {
          "line": {
           "color": "rgba(217, 217, 217, 0.14)",
           "width": 0.5
          },
          "opacity": 0.8,
          "size": 12
         },
         "mode": "markers",
         "type": "scatter3d",
         "uid": "5608be",
         "x": [
          -1.8533049595502193,
          -0.033368491574290414,
          0.5451106692722426,
          2.7250375515847174,
          -0.638225238449308,
          1.3745882917617984,
          0.12585358258866888,
          -1.3195044852811473,
          0.5072013905272398,
          -1.3610244577768735
         ],
         "y": [
          -0.39384522052525717,
          -0.21110141552034078,
          -0.8921774590562429,
          0.8683990015531985,
          0.14598314060238538,
          -2.1253316303316008,
          1.4706149299306532,
          0.20131663051167822,
          -0.0019485541707454448,
          -0.03169249865215273
         ],
         "z": [
          1.8039728004013307,
          0.37715545517911064,
          0.06265017657034229,
          -0.7529079274876309,
          -0.21333445279017282,
          1.7977980450889646,
          0.2565979877666507,
          -1.78438588376466,
          0.6771103577683769,
          0.2859919626923284
         ]
        },
        {
         "marker": {
          "color": "rgb(127, 127, 127)",
          "line": {
           "color": "rgb(204, 204, 204)",
           "width": 1
          },
          "opacity": 0.9,
          "size": 12,
          "symbol": "circle"
         },
         "mode": "markers",
         "type": "scatter3d",
         "uid": "9a0dbd",
         "x": [
          0.4558457387817545,
          1.6778813693743244,
          0.9712207158774925,
          -0.026054770105623605,
          0.13723967732315026,
          0.18876615840628344,
          0.6625984971268589,
          -0.16790018757628425,
          -0.09912266990994834,
          -0.1670545500111541
         ],
         "y": [
          1.1685721620196174,
          -0.9317236786431966,
          -0.15159130816632332,
          -0.5773073393409603,
          -0.609000890064261,
          -1.8122743818054332,
          -0.2581102341156149,
          -2.109816006558882,
          1.682690340978892,
          -0.12184101117992444
         ],
         "z": [
          1.4769944731284423,
          -0.07953701591976776,
          -0.7646730120129619,
          0.7219054113872669,
          -1.2072304928187272,
          -0.3049774362647456,
          1.457783902876767,
          -0.3035377847297934,
          1.2761276136126054,
          -0.0050867738169710075
         ]
        }
       ],
       "layout": {
        "autosize": true,
        "margin": {
         "b": 0,
         "l": 0,
         "r": 0,
         "t": 0
        },
        "scene": {
         "aspectmode": "auto",
         "aspectratio": {
          "x": 1.1532950341437702,
          "y": 0.9592495141509355,
          "z": 0.9039158256749611
         },
         "camera": {
          "center": {
           "x": 0,
           "y": 0,
           "z": 0
          },
          "eye": {
           "x": 1.2500000000000002,
           "y": 1.25,
           "z": 1.25
          },
          "up": {
           "x": 0,
           "y": 0,
           "z": 1
          }
         }
        }
       }
      },
      "text/html": [
       "<div id=\"d9891393-97c8-477d-b8b5-c0e483ca049d\" style=\"height: 525px; width: 100%;\" class=\"plotly-graph-div\"></div><script type=\"text/javascript\">require([\"plotly\"], function(Plotly) { window.PLOTLYENV=window.PLOTLYENV || {};window.PLOTLYENV.BASE_URL=\"https://plot.ly\";Plotly.newPlot(\"d9891393-97c8-477d-b8b5-c0e483ca049d\", [{\"type\": \"scatter3d\", \"marker\": {\"size\": 12, \"line\": {\"width\": 0.5, \"color\": \"rgba(217, 217, 217, 0.14)\"}, \"opacity\": 0.8}, \"mode\": \"markers\", \"z\": [1.8039728004013307, 0.37715545517911064, 0.06265017657034229, -0.7529079274876309, -0.21333445279017282, 1.7977980450889646, 0.2565979877666507, -1.78438588376466, 0.6771103577683769, 0.2859919626923284], \"y\": [-0.39384522052525717, -0.21110141552034078, -0.8921774590562429, 0.8683990015531985, 0.14598314060238538, -2.1253316303316008, 1.4706149299306532, 0.20131663051167822, -0.0019485541707454448, -0.03169249865215273], \"x\": [-1.8533049595502193, -0.033368491574290414, 0.5451106692722426, 2.7250375515847174, -0.638225238449308, 1.3745882917617984, 0.12585358258866888, -1.3195044852811473, 0.5072013905272398, -1.3610244577768735]}, {\"type\": \"scatter3d\", \"marker\": {\"size\": 12, \"symbol\": \"circle\", \"line\": {\"width\": 1, \"color\": \"rgb(204, 204, 204)\"}, \"opacity\": 0.9, \"color\": \"rgb(127, 127, 127)\"}, \"mode\": \"markers\", \"z\": [1.4769944731284423, -0.07953701591976776, -0.7646730120129619, 0.7219054113872669, -1.2072304928187272, -0.3049774362647456, 1.457783902876767, -0.3035377847297934, 1.2761276136126054, -0.0050867738169710075], \"y\": [1.1685721620196174, -0.9317236786431966, -0.15159130816632332, -0.5773073393409603, -0.609000890064261, -1.8122743818054332, -0.2581102341156149, -2.109816006558882, 1.682690340978892, -0.12184101117992444], \"x\": [0.4558457387817545, 1.6778813693743244, 0.9712207158774925, -0.026054770105623605, 0.13723967732315026, 0.18876615840628344, 0.6625984971268589, -0.16790018757628425, -0.09912266990994834, -0.1670545500111541]}], {\"margin\": {\"t\": 0, \"b\": 0, \"r\": 0, \"l\": 0}}, {\"showLink\": true, \"linkText\": \"Export to plot.ly\"})});</script>"
      ],
      "text/vnd.plotly.v1+html": [
       "<div id=\"d9891393-97c8-477d-b8b5-c0e483ca049d\" style=\"height: 525px; width: 100%;\" class=\"plotly-graph-div\"></div><script type=\"text/javascript\">require([\"plotly\"], function(Plotly) { window.PLOTLYENV=window.PLOTLYENV || {};window.PLOTLYENV.BASE_URL=\"https://plot.ly\";Plotly.newPlot(\"d9891393-97c8-477d-b8b5-c0e483ca049d\", [{\"type\": \"scatter3d\", \"marker\": {\"size\": 12, \"line\": {\"width\": 0.5, \"color\": \"rgba(217, 217, 217, 0.14)\"}, \"opacity\": 0.8}, \"mode\": \"markers\", \"z\": [1.8039728004013307, 0.37715545517911064, 0.06265017657034229, -0.7529079274876309, -0.21333445279017282, 1.7977980450889646, 0.2565979877666507, -1.78438588376466, 0.6771103577683769, 0.2859919626923284], \"y\": [-0.39384522052525717, -0.21110141552034078, -0.8921774590562429, 0.8683990015531985, 0.14598314060238538, -2.1253316303316008, 1.4706149299306532, 0.20131663051167822, -0.0019485541707454448, -0.03169249865215273], \"x\": [-1.8533049595502193, -0.033368491574290414, 0.5451106692722426, 2.7250375515847174, -0.638225238449308, 1.3745882917617984, 0.12585358258866888, -1.3195044852811473, 0.5072013905272398, -1.3610244577768735]}, {\"type\": \"scatter3d\", \"marker\": {\"size\": 12, \"symbol\": \"circle\", \"line\": {\"width\": 1, \"color\": \"rgb(204, 204, 204)\"}, \"opacity\": 0.9, \"color\": \"rgb(127, 127, 127)\"}, \"mode\": \"markers\", \"z\": [1.4769944731284423, -0.07953701591976776, -0.7646730120129619, 0.7219054113872669, -1.2072304928187272, -0.3049774362647456, 1.457783902876767, -0.3035377847297934, 1.2761276136126054, -0.0050867738169710075], \"y\": [1.1685721620196174, -0.9317236786431966, -0.15159130816632332, -0.5773073393409603, -0.609000890064261, -1.8122743818054332, -0.2581102341156149, -2.109816006558882, 1.682690340978892, -0.12184101117992444], \"x\": [0.4558457387817545, 1.6778813693743244, 0.9712207158774925, -0.026054770105623605, 0.13723967732315026, 0.18876615840628344, 0.6625984971268589, -0.16790018757628425, -0.09912266990994834, -0.1670545500111541]}], {\"margin\": {\"t\": 0, \"b\": 0, \"r\": 0, \"l\": 0}}, {\"showLink\": true, \"linkText\": \"Export to plot.ly\"})});</script>"
      ]
     },
     "metadata": {},
     "output_type": "display_data"
    }
   ],
   "source": [
    "# 3차원 공간상의 점\n",
    "x, y, z = np.random.multivariate_normal(np.array([0,0,0]), np.eye(3), 10).transpose()\n",
    "\n",
    "trace1 = go.Scatter3d(\n",
    "    x=x,\n",
    "    y=y,\n",
    "    z=z,\n",
    "    mode='markers',\n",
    "    marker=dict(\n",
    "        size=12,\n",
    "        line=dict(\n",
    "            color='rgba(217, 217, 217, 0.14)',\n",
    "            width=0.5\n",
    "        ),\n",
    "        opacity=0.8\n",
    "    )\n",
    ")\n",
    "\n",
    "x2, y2, z2 = np.random.multivariate_normal(np.array([0,0,0]), np.eye(3), 10).transpose()\n",
    "trace2 = go.Scatter3d(\n",
    "    x=x2,\n",
    "    y=y2,\n",
    "    z=z2,\n",
    "    mode='markers',\n",
    "    marker=dict(\n",
    "        color='rgb(127, 127, 127)',\n",
    "        size=12,\n",
    "        symbol='circle',\n",
    "        line=dict(\n",
    "            color='rgb(204, 204, 204)',\n",
    "            width=1\n",
    "        ),\n",
    "        opacity=0.9\n",
    "    )\n",
    ")\n",
    "data = [trace1, trace2]\n",
    "layout = go.Layout(\n",
    "    margin=dict(\n",
    "        l=0,\n",
    "        r=0,\n",
    "        b=0,\n",
    "        t=0\n",
    "    )\n",
    ")\n",
    "fig = go.Figure(data=data, layout=layout)\n",
    "\n",
    "offline.iplot(fig)"
   ]
  },
  {
   "cell_type": "code",
   "execution_count": null,
   "metadata": {},
   "outputs": [],
   "source": []
  }
 ],
 "metadata": {
  "kernelspec": {
   "display_name": "Python 3",
   "language": "python",
   "name": "python3"
  },
  "language_info": {
   "codemirror_mode": {
    "name": "ipython",
    "version": 3
   },
   "file_extension": ".py",
   "mimetype": "text/x-python",
   "name": "python",
   "nbconvert_exporter": "python",
   "pygments_lexer": "ipython3",
   "version": "3.5.4"
  }
 },
 "nbformat": 4,
 "nbformat_minor": 2
}
