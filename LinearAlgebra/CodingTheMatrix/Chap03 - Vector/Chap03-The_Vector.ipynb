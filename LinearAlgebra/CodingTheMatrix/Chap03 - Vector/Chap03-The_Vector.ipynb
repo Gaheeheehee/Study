{
 "cells": [
  {
   "cell_type": "markdown",
   "metadata": {},
   "source": [
    "# Chap03\n",
    "# 벡터 - Vector"
   ]
  },
  {
   "cell_type": "markdown",
   "metadata": {},
   "source": [
    "## 3.1 벡터란 무엇인가?\n",
    "*벡터*란 단어는 \"vehere(운반하다)\"라는 뜻의 라틴어에서 유래되었다. 어떤 것을 한 장소에서 다른 곳으로 이동하는 벡터의 **방향성**을 내포하고 있다. <br />\n",
    "한 벡터의 모든 원소는 *하나의 필드* ([Chap02](https://github.com/ExcelsiorCJH/Study/blob/master/LinearAlgebra/CodingTheMatrix/Chap02%20-%20The%20Field/Chap02-The_Field.ipynb) 참고)에서 나와야 한다.\n",
    "* **Definition 1.** "
   ]
  },
  {
   "cell_type": "markdown",
   "metadata": {},
   "source": [
    "*벡터*란 단어는 \"vehere(운반하다)\"라는 뜻의 라틴어에서 유래되었다. 어떤 것을 한 장소에서 다른 곳으로 이동하는 벡터의 **방향성**을 내포하고 있다. \n",
    "한 벡터의 모든 원소는 *하나의 필드* ([Chap02](https://github.com/ExcelsiorCJH/Study/blob/master/LinearAlgebra/CodingTheMatrix/Chap02%20-%20The%20Field/Chap02-The_Field.ipynb) 참고)에서 나와야 한다.\n",
    "\n",
    "- **Definition 1** : 필드 $F$와 양의 정수 $n$에 대해, $F$에 속하는 $n$개의 원소를 가지는 벡터를 $F$상의 $n$-*벡터*라고 한다. $F$상의 $n$-벡터들의 집합은 $F^{n}$으로 나타낸다.\n",
    "  예를 들어, 아래의 $\\mathbb{R}$(실수) 상의 4-벡터들의 집합을 $\\mathbb{R}^{4}$라고 쓴다.\n",
    "  $$[3.14, 2.17, -1.0, 2.0]$$"
   ]
  },
  {
   "cell_type": "markdown",
   "metadata": {},
   "source": [
    "*벡터*란 단어는 \"vehere(운반하다)\"라는 뜻의 라틴어에서 유래되었다. 어떤 것을 한 장소에서 다른 곳으로 이동하는 벡터의 **방향성**을 내포하고 있다. \n",
    "한 벡터의 모든 원소는 *하나의 필드* ([Chap02](https://github.com/ExcelsiorCJH/Study/blob/master/LinearAlgebra/CodingTheMatrix/Chap02%20-%20The%20Field/Chap02-The_Field.ipynb) 참고)에서 나와야 한다.\n",
    "\n",
    "- **Definition 1** : 필드 $F$와 양의 정수 $n$에 대해, $F$에 속하는 $n$개의 원소를 가지는 벡터를 $F$상의 $n$-*벡터*라고 한다. $F$상의 $n$-벡터들의 집합은 $F^{n}$으로 나타낸다. <br />예를 들어, 아래의 $\\mathbb{R}$(실수) 상의 4-벡터들의 집합을 $\\mathbb{R}^{4}$라고 쓴다.\n",
    "  $$[3.14, 2.17, -1.0, 2.0]$$\n",
    "\n",
    "위의 4-벡터 집합을 함수로 생각하면  $\\mathbb{R}^{4}$ 를 함수의 집합에 대한 표기법으로 해석할 수 있다. 따라서, 위의 4-벡터는 사실상 함수라고 할 수 있다.\n",
    "\n",
    "$$ 0\\mapsto 3.14\\\\ 1\\mapsto 2.17\\\\ 2\\mapsto -1.0\\\\ 3\\mapsto 2.0$$"
   ]
  },
  {
   "cell_type": "markdown",
   "metadata": {},
   "source": [
    "## 3.2 벡터는 함수이다.\n",
    "\n",
    "위의 예제를 통해 알 수 있듯이 벡터는 함수로 나타낼 수 있다.\n",
    "\n",
    "- **Definition 2** : 유한 집합 $D$와 필드 $F$에 대해, $F$상의 $D$-*벡터*는 $D$에서 $F$로의 함수이다."
   ]
  },
  {
   "cell_type": "markdown",
   "metadata": {},
   "source": [
    "### 3.2.1 파이썬의 딕셔너리를 이용한 벡터 표현\n",
    "\n",
    "파이썬의 딕셔너리(Dictionary) 타입은 정의역(Domain) $\\mapsto$ 치역(Image)의 형태로 벡터를 표현하는 데 유용하다. 위의 예제를 딕셔너리를 이용하면 `{0: 3.14, 1: 2.17, 2: -1.0, 3: 2.0}`와 같이 쓸 수 있다."
   ]
  },
  {
   "cell_type": "markdown",
   "metadata": {},
   "source": [
    "### 3.2.2 Sparsity\n",
    "\n",
    "대부분의 원소값이 $0$인 벡터를 ***Sparse vector***(희소 벡터)라고 한다. $0$이 아닌 언소의 수가 $k$개인 벡터는 $k$-*sparse* 라고 한다. $k$-*sparse* 벡터는 $k$에 비례하는 공간을 사용하여 표현할 수 있다. 예를 들어 여러 문서로 구성된 단어들의 모음을 $f: Words \\mapsto \\mathbb{R}$ 을 벡터로 나타내려고 하면 필요한 공간은 모든 문서를 구성하는 총 단어의 수에 비례한다."
   ]
  },
  {
   "cell_type": "markdown",
   "metadata": {},
   "source": [
    "## 3.3 벡터로 무엇을 표현할 수 있는가?\n",
    "\n",
    "다양한 데이터들에 대해 벡터로 나타낼 수 있다. \n",
    "\n",
    "1. **이진 문자열(binary string)** : $n$-비트 이진 문자열 `10111011`을 $GF(2)$상의 $n$-벡터, `[1, 0, 1, 1, 1, 0, 1, 1]`로 표현할 수 있다. \n",
    "\n",
    "2. **속성(attribute)** : 예를 들어, 소비자에 관한 데이터를 딕셔너리 형태의 벡터로 표현할 수 있다. 이러한 벡터를 이용하여 머신러닝 모델에 적용할 수 있다.\n",
    "\n",
    "   ```python\n",
    "   Jane = {'age': 30, 'education_level': 16, 'income': 85000}\n",
    "   ```\n",
    "\n",
    "3. **확률분포** : 아래와 같이 유한한 확률 분포는 벡터로 나타낼 수 있다.\n",
    "\n",
    "   ```python\n",
    "   {1: 1/6, 2: 1/6, 3: 1/6, 4: 1/6, 5: 1/6, 6: 1/6}\n",
    "   ```\n",
    "\n",
    "4. **이미지** : 예를 들어, `1024 x 768` 크기의 흑백 이미지는 집합 $\\left\\{ { (i,j) }|{ 0\\le i<1024,0\\le j<768 } \\right\\} $ 에서 실수 $\\mathbb{R}$로의 함수로 볼 수 있고, 벡터로 불 수 있다. \n",
    "\n",
    "5. **공간상의 점**"
   ]
  },
  {
   "cell_type": "code",
   "execution_count": 34,
   "metadata": {},
   "outputs": [
    {
     "data": {
      "text/html": [
       "<script>requirejs.config({paths: { 'plotly': ['https://cdn.plot.ly/plotly-latest.min']},});if(!window.Plotly) {{require(['plotly'],function(plotly) {window.Plotly=plotly;});}}</script>"
      ],
      "text/vnd.plotly.v1+html": [
       "<script>requirejs.config({paths: { 'plotly': ['https://cdn.plot.ly/plotly-latest.min']},});if(!window.Plotly) {{require(['plotly'],function(plotly) {window.Plotly=plotly;});}}</script>"
      ]
     },
     "metadata": {},
     "output_type": "display_data"
    }
   ],
   "source": [
    "# 2차원 공간상의 점\n",
    "import numpy as np\n",
    "import plotly.offline as offline \n",
    "import plotly.graph_objs as go\n",
    "from plotly import tools\n",
    "\n",
    "# jupyter notebook 에서 출력 \n",
    "offline.init_notebook_mode(connected=True)\n",
    "\n",
    "L = np.array([[2,2],[3,2],[1.75,1],[2,1],[2.25,1],[2.5,1],[2.75,1],[3,1],[3.25,1]])\n",
    "x = L[:, 0]\n",
    "y = L[:, 1]\n",
    "\n",
    "\n",
    "def plot(x, y):\n",
    "    '''plotly를 이용해 plotting 함수 구현'''\n",
    "    trace = go.Scatter(\n",
    "                x = x,\n",
    "                y = y,\n",
    "                mode = 'markers')\n",
    "\n",
    "    layout = go.Layout(\n",
    "        showlegend=False,\n",
    "        xaxis=dict(\n",
    "            rangemode='negative',\n",
    "            autorange=True\n",
    "        ),\n",
    "        yaxis=dict(\n",
    "            rangemode='negative',\n",
    "            autorange=True\n",
    "        )\n",
    "    )\n",
    "\n",
    "    data = [trace]\n",
    "    fig = go.Figure(data=data, layout=layout)\n",
    "    return offline.iplot(fig)"
   ]
  },
  {
   "cell_type": "code",
   "execution_count": 3,
   "metadata": {},
   "outputs": [],
   "source": [
    "# plot(x, y)"
   ]
  },
  {
   "cell_type": "code",
   "execution_count": 4,
   "metadata": {},
   "outputs": [],
   "source": [
    "# 3차원 공간상의 점\n",
    "x, y, z = np.random.multivariate_normal(np.array([0,0,0]), np.eye(3), 10).transpose()\n",
    "\n",
    "trace1 = go.Scatter3d(\n",
    "    x=x,\n",
    "    y=y,\n",
    "    z=z,\n",
    "    mode='markers',\n",
    "    marker=dict(\n",
    "        size=12,\n",
    "        line=dict(\n",
    "            color='rgba(217, 217, 217, 0.14)',\n",
    "            width=0.5\n",
    "        ),\n",
    "        opacity=0.8\n",
    "    )\n",
    ")\n",
    "\n",
    "x2, y2, z2 = np.random.multivariate_normal(np.array([0,0,0]), np.eye(3), 10).transpose()\n",
    "trace2 = go.Scatter3d(\n",
    "    x=x2,\n",
    "    y=y2,\n",
    "    z=z2,\n",
    "    mode='markers',\n",
    "    marker=dict(\n",
    "        color='rgb(127, 127, 127)',\n",
    "        size=12,\n",
    "        symbol='circle',\n",
    "        line=dict(\n",
    "            color='rgb(204, 204, 204)',\n",
    "            width=1\n",
    "        ),\n",
    "        opacity=0.9\n",
    "    )\n",
    ")\n",
    "data = [trace1, trace2]\n",
    "layout = go.Layout(\n",
    "    margin=dict(\n",
    "        l=0,\n",
    "        r=0,\n",
    "        b=0,\n",
    "        t=0\n",
    "    )\n",
    ")\n",
    "fig = go.Figure(data=data, layout=layout)\n",
    "\n",
    "# offline.iplot(fig)"
   ]
  },
  {
   "cell_type": "markdown",
   "metadata": {},
   "source": [
    "## 3.4 벡터 덧셈"
   ]
  },
  {
   "cell_type": "markdown",
   "metadata": {},
   "source": [
    "### 3.4.1 평행이동과 벡터 덧셈\n",
    "\n",
    "벡터의 평행이동은 벡터($v$)에 더하는 함수 $f(v)=v_{0} + v$ 에 의해 평행이동을 할 수 있다.\n",
    "\n",
    "- **Definition 3** : $n$-벡터들의 덧셈은 대응하는 원소들의 덧셈으로 정의된다.\n",
    "$$[u_1, u_2, ..., u_n] + [v_1, v_2, ...,v_n] = [u_1+v_1, u_2+v_2,...,u_n+v_n]$$"
   ]
  },
  {
   "cell_type": "markdown",
   "metadata": {},
   "source": [
    "#### Task 3.4.3\n",
    "[1, 2]를 아래의 리스트 `L`의 각각의 벡터에 더하여 얻어진 점들을 그래프로 그려보자. "
   ]
  },
  {
   "cell_type": "code",
   "execution_count": 5,
   "metadata": {},
   "outputs": [],
   "source": [
    "L = [[2,2],[3,2],[1.75,1],[2,1],[2.25,1],[2.5,1],[2.75,1],[3,1],[3.25,1]]\n",
    "L = np.array(L)\n",
    "L_add = L + [1, 2]\n",
    "x = L_add[:, 0]\n",
    "y = L_add[:, 1]\n",
    "# plot(x, y)"
   ]
  },
  {
   "cell_type": "markdown",
   "metadata": {},
   "source": [
    "### 3.4.2 벡터 덧셈의 결합성과 교환성 \n",
    "\n",
    "필드(체)에서 덧셈의 두 가지 성질은 *결합성(associativity)*과 *교환성(commutativity)*이다. \n",
    "\n",
    "* **Proposition** : 임의의 벡터 $u, v, w$에 대해 다음의 성질이 성립한다.\n",
    "$$(u+v)+w=u+(v+w)\\\\ u+v=vu$$"
   ]
  },
  {
   "cell_type": "markdown",
   "metadata": {},
   "source": [
    "### 3.4.3 벡터를 화살표로 표현하기\n",
    "\n",
    "필드$\\mathbb{R}$상의 $n$-벡터들은 $\\mathbb{R}^{n}$의 화살표로 나타낼 수 있다. 예를 들어, $2$-벡터 $[3, 1.5]$는 꼬리가 원점에 있고 화살표가 $(3, 1.5)$에 있는 화살표로 나타낼 수 있다."
   ]
  },
  {
   "cell_type": "code",
   "execution_count": 11,
   "metadata": {},
   "outputs": [
    {
     "data": {
      "text/plain": [
       "(0, 10)"
      ]
     },
     "execution_count": 11,
     "metadata": {},
     "output_type": "execute_result"
    },
    {
     "data": {
      "image/png": "[encoded data removed]",
      "text/plain": [
       "<matplotlib.figure.Figure at 0x103472cc0>"
      ]
     },
     "metadata": {},
     "output_type": "display_data"
    }
   ],
   "source": [
    "%matplotlib inline\n",
    "import matplotlib.pyplot as plt\n",
    "\n",
    "ax = plt.axes()\n",
    "ax.arrow(0, 0, 3.0, 1.5, head_width=0.1, head_length=0.1)\n",
    "plt.ylim([0, 10])\n",
    "plt.xlim([0, 10])"
   ]
  },
  {
   "cell_type": "markdown",
   "metadata": {},
   "source": [
    "또한 $\\mathbb{R}$상의 벡터들의 덧셈을 화살표를 사용하여 보여줄 수 있다. \n",
    "\n",
    "![](./images/vector_add.PNG)"
   ]
  },
  {
   "cell_type": "markdown",
   "metadata": {},
   "source": [
    "## 3.5 스칼라 - 벡터 곱셈\n",
    "\n",
    "[Chap02-필드](https://render.githubusercontent.com/view/ipynb?commit=e5e626bfc6259c98589c42b21e7c0207ce918d45&enc_url=68747470733a2f2f7261772e67697468756275736572636f6e74656e742e636f6d2f457863656c73696f72434a482f53747564792f653565363236626663363235396339383538396334326232316537633032303763653931386434352f4c696e656172416c67656272612f436f64696e675468654d61747269782f4368617030322532302d2532305468652532304669656c642f4368617030322d5468655f4669656c642e6970796e62&nwo=ExcelsiorCJH%2FStudy&path=LinearAlgebra%2FCodingTheMatrix%2FChap02+-+The+Field%2FChap02-The_Field.ipynb&repository_id=116745719&repository_type=Repository#2.4.3-%EC%96%91%EC%9D%98-%EC%8B%A4%EC%88%98%EB%A1%9C-%EB%B3%B5%EC%86%8C%EC%88%98-%EA%B3%B1%ED%95%98%EA%B8%B0)에서 *스케일링(Scaling)*은 복소평면에서 입력된 복소수를 양의 실수 $r$과 곱하는 함수 $f(z)=r\\cdot z$로 나타낼 수 있었다. 이처럼 벡터에 대해서도 스칼라-벡터 곱(scalar-vector multiplication)에 의해 벡터를 스케일링 할 수 있다. 벡터에서 필드 원소(e.g. 숫자)는 *스칼라(scalar)*라 하며, 그 이유는 곱셈을 통해 벡터를 스케일링 하는데 사용할 수 있기 때문이다.\n",
    "\n",
    "-  **Definition 4** : 벡터 $v$와 스칼라 $\\alpha$의 곱셈은 $v$의 원소 각각을 $\\alpha$와 곱하는 것으로 정의된다.\n",
    "\n",
    "  $$\\alpha [v_1,v_2,...,v_n] = [\\alpha v_1, \\alpha v_2,..., \\alpha v_n]$$"
   ]
  },
  {
   "cell_type": "markdown",
   "metadata": {},
   "source": [
    "#### Task 3.5.4\n",
    "\n",
    "`L`내의 벡터들을 $0.5$만큼 스케일링한 결과와 $-0.5$만큼 스케일링한 결과를 그래프로 그려보자."
   ]
  },
  {
   "cell_type": "code",
   "execution_count": 7,
   "metadata": {},
   "outputs": [],
   "source": [
    "L = [[2,2],[3,2],[1.75,1],[2,1],[2.25,1],[2.5,1],[2.75,1],[3,1],[3.25,1]]\n",
    "L = np.array(L)\n",
    "\n",
    "L1 = L * 0.5\n",
    "L2 = L * (-0.5)\n",
    "\n",
    "trace1 = go.Scatter(x=L1[:, 0],\n",
    "                    y=L1[:, 1],\n",
    "                    mode = 'markers')\n",
    "\n",
    "trace2 = go.Scatter(x=L2[:, 0],\n",
    "                    y=L2[:, 1],\n",
    "                    mode = 'markers')\n",
    "\n",
    "layout = go.Layout(\n",
    "        showlegend=False,\n",
    "        xaxis=dict(\n",
    "            rangemode='tozero',\n",
    "            autorange=True\n",
    "        ),\n",
    "        yaxis=dict(\n",
    "            rangemode='negative',\n",
    "            autorange=True\n",
    "        )\n",
    "    )\n",
    "\n",
    "data = [trace1, trace2]\n",
    "fig = go.Figure(data=data, layout=layout)\n",
    "# offline.iplot(fig)"
   ]
  },
  {
   "cell_type": "markdown",
   "metadata": {},
   "source": [
    "### 3.5.1 화살표 스케일링하기\n",
    "\n",
    "$\\mathbb{R}$상의 벡터를 양의 실수로 스케일링 하는 것은 벡터의 방향을 바꾸지 않고 화살표의 길이만 변경한다. 아래의 예제 코드는 위의 $[3, 1.5]$의 벡터를 2배한 화살표이다. 음의 실수를 곱하게 되면 벡터의 방향이 반대가 된다."
   ]
  },
  {
   "cell_type": "code",
   "execution_count": 9,
   "metadata": {},
   "outputs": [
    {
     "data": {
      "text/plain": [
       "(0, 10)"
      ]
     },
     "execution_count": 9,
     "metadata": {},
     "output_type": "execute_result"
    },
    {
     "data": {
      "image/png": "[encoded data removed]",
      "text/plain": [
       "<matplotlib.figure.Figure at 0x1107f7f98>"
      ]
     },
     "metadata": {},
     "output_type": "display_data"
    }
   ],
   "source": [
    "ax = plt.axes()\n",
    "ax.arrow(0, 0, 3.0*2, 1.5*2, head_width=0.1, head_length=0.1)\n",
    "plt.ylim([0, 10])\n",
    "plt.xlim([0, 10])"
   ]
  },
  {
   "cell_type": "markdown",
   "metadata": {},
   "source": [
    "### 3.5.2 스칼라-벡터 곱셈의 결합성\n",
    "\n",
    "벡터를 스칼라와 곱한 다음에 그 결과를 또 다른 스칼라와 곱하는 것은 아래와 같이 단순화 할 수 있다.\n",
    "\n",
    "- **Proposition** (Associativity) : $\\alpha (\\beta v)=(\\alpha \\beta)v$ \n",
    "\n",
    "  ![](./images/proof01.PNG)"
   ]
  },
  {
   "cell_type": "markdown",
   "metadata": {},
   "source": [
    "### 3.5.3 원점을 지나는 선분\n",
    "하나의 벡터와 스칼라 곱을 통해 스케일링하여 원점을 지나는 선분을 만들 수 있다. 아래의 예제는 벡터 $[3, 2]$를 스케일링하여 선분을 만드는 예시이다."
   ]
  },
  {
   "cell_type": "code",
   "execution_count": 38,
   "metadata": {},
   "outputs": [],
   "source": [
    "vecs = [[3 * (i/10), 2 * (i/10)] for i in range(11)]\n",
    "vecs = np.array(vecs)\n",
    "x = vecs[:, 0]\n",
    "y = vecs[:, 1]\n",
    "# plot(x, y)"
   ]
  },
  {
   "cell_type": "code",
   "execution_count": 39,
   "metadata": {},
   "outputs": [],
   "source": [
    "vecs = [[3 * (i/100), 2 * (i/100)] for i in range(101)]\n",
    "vecs = np.array(vecs)\n",
    "x = vecs[:, 0]\n",
    "y = vecs[:, 1]\n",
    "# plot(x, y)"
   ]
  },
  {
   "cell_type": "markdown",
   "metadata": {},
   "source": [
    "### 3.5.4 원점을 지나는 직선\n",
    "위의 예제에서 선분을 확장하여 양수의 스칼라와 음수의 스칼라를 곱하여 스케일링 하게 되면 원점을 지나는 직선을 만들 수 있다."
   ]
  },
  {
   "cell_type": "code",
   "execution_count": 41,
   "metadata": {},
   "outputs": [],
   "source": [
    "vecs = [[3 * (i/10), 2 * (i/10)] for i in range(-10, 11)]\n",
    "vecs = np.array(vecs)\n",
    "x = vecs[:, 0]\n",
    "y = vecs[:, 1]\n",
    "# plot(x, y)"
   ]
  },
  {
   "cell_type": "code",
   "execution_count": 43,
   "metadata": {},
   "outputs": [],
   "source": [
    "vecs = [[3 * (i/100), 2 * (i/100)] for i in range(-100, 101)]\n",
    "vecs = np.array(vecs)\n",
    "x = vecs[:, 0]\n",
    "y = vecs[:, 1]\n",
    "# plot(x, y)"
   ]
  },
  {
   "cell_type": "markdown",
   "metadata": {},
   "source": [
    "## 3.6 벡터 덧셈과 스칼라 곱셈 결합하기"
   ]
  },
  {
   "cell_type": "markdown",
   "metadata": {},
   "source": [
    "### 3.6.1 원점을 지나지 않는 선분과 직선\n",
    "위의 예제에서 $[x, y] \\mapsto [x+0.5,y+1]​$평행이동을 적용하게 되면 아래의 그림처럼 그래프가 그려진다."
   ]
  },
  {
   "cell_type": "code",
   "execution_count": 54,
   "metadata": {},
   "outputs": [
    {
     "data": {
      "application/vnd.plotly.v1+json": {
       "data": [
        {
         "mode": "markers",
         "name": "original",
         "type": "scatter",
         "uid": "23c817",
         "x": [
          0,
          0.03,
          0.06,
          0.09,
          0.12,
          0.15000000000000002,
          0.18,
          0.21000000000000002,
          0.24,
          0.27,
          0.30000000000000004,
          0.33,
          0.36,
          0.39,
          0.42000000000000004,
          0.44999999999999996,
          0.48,
          0.51,
          0.54,
          0.5700000000000001,
          0.6000000000000001,
          0.63,
          0.66,
          0.6900000000000001,
          0.72,
          0.75,
          0.78,
          0.81,
          0.8400000000000001,
          0.8699999999999999,
          0.8999999999999999,
          0.9299999999999999,
          0.96,
          0.99,
          1.02,
          1.0499999999999998,
          1.08,
          1.1099999999999999,
          1.1400000000000001,
          1.17,
          1.2000000000000002,
          1.23,
          1.26,
          1.29,
          1.32,
          1.35,
          1.3800000000000001,
          1.41,
          1.44,
          1.47,
          1.5,
          1.53,
          1.56,
          1.59,
          1.62,
          1.6500000000000001,
          1.6800000000000002,
          1.71,
          1.7399999999999998,
          1.77,
          1.7999999999999998,
          1.83,
          1.8599999999999999,
          1.8900000000000001,
          1.92,
          1.9500000000000002,
          1.98,
          2.0100000000000002,
          2.04,
          2.07,
          2.0999999999999996,
          2.13,
          2.16,
          2.19,
          2.2199999999999998,
          2.25,
          2.2800000000000002,
          2.31,
          2.34,
          2.37,
          2.4000000000000004,
          2.43,
          2.46,
          2.4899999999999998,
          2.52,
          2.55,
          2.58,
          2.61,
          2.64,
          2.67,
          2.7,
          2.73,
          2.7600000000000002,
          2.79,
          2.82,
          2.8499999999999996,
          2.88,
          2.91,
          2.94,
          2.9699999999999998,
          3
         ],
         "y": [
          0,
          0.02,
          0.04,
          0.06,
          0.08,
          0.1,
          0.12,
          0.14,
          0.16,
          0.18,
          0.2,
          0.22,
          0.24,
          0.26,
          0.28,
          0.3,
          0.32,
          0.34,
          0.36,
          0.38,
          0.4,
          0.42,
          0.44,
          0.46,
          0.48,
          0.5,
          0.52,
          0.54,
          0.56,
          0.58,
          0.6,
          0.62,
          0.64,
          0.66,
          0.68,
          0.7,
          0.72,
          0.74,
          0.76,
          0.78,
          0.8,
          0.82,
          0.84,
          0.86,
          0.88,
          0.9,
          0.92,
          0.94,
          0.96,
          0.98,
          1,
          1.02,
          1.04,
          1.06,
          1.08,
          1.1,
          1.12,
          1.14,
          1.16,
          1.18,
          1.2,
          1.22,
          1.24,
          1.26,
          1.28,
          1.3,
          1.32,
          1.34,
          1.36,
          1.38,
          1.4,
          1.42,
          1.44,
          1.46,
          1.48,
          1.5,
          1.52,
          1.54,
          1.56,
          1.58,
          1.6,
          1.62,
          1.64,
          1.66,
          1.68,
          1.7,
          1.72,
          1.74,
          1.76,
          1.78,
          1.8,
          1.82,
          1.84,
          1.86,
          1.88,
          1.9,
          1.92,
          1.94,
          1.96,
          1.98,
          2
         ]
        },
        {
         "mode": "markers",
         "name": "translation",
         "type": "scatter",
         "uid": "effe7a",
         "x": [
          0.5,
          0.53,
          0.56,
          0.59,
          0.62,
          0.65,
          0.6799999999999999,
          0.71,
          0.74,
          0.77,
          0.8,
          0.8300000000000001,
          0.86,
          0.89,
          0.92,
          0.95,
          0.98,
          1.01,
          1.04,
          1.07,
          1.1,
          1.13,
          1.1600000000000001,
          1.19,
          1.22,
          1.25,
          1.28,
          1.31,
          1.34,
          1.3699999999999999,
          1.4,
          1.43,
          1.46,
          1.49,
          1.52,
          1.5499999999999998,
          1.58,
          1.6099999999999999,
          1.6400000000000001,
          1.67,
          1.7000000000000002,
          1.73,
          1.76,
          1.79,
          1.82,
          1.85,
          1.8800000000000001,
          1.91,
          1.94,
          1.97,
          2,
          2.0300000000000002,
          2.06,
          2.09,
          2.12,
          2.1500000000000004,
          2.18,
          2.21,
          2.2399999999999998,
          2.27,
          2.3,
          2.33,
          2.36,
          2.39,
          2.42,
          2.45,
          2.48,
          2.5100000000000002,
          2.54,
          2.57,
          2.5999999999999996,
          2.63,
          2.66,
          2.69,
          2.7199999999999998,
          2.75,
          2.7800000000000002,
          2.81,
          2.84,
          2.87,
          2.9000000000000004,
          2.93,
          2.96,
          2.9899999999999998,
          3.02,
          3.05,
          3.08,
          3.11,
          3.14,
          3.17,
          3.2,
          3.23,
          3.2600000000000002,
          3.29,
          3.32,
          3.3499999999999996,
          3.38,
          3.41,
          3.44,
          3.4699999999999998,
          3.5
         ],
         "y": [
          1,
          1.02,
          1.04,
          1.06,
          1.08,
          1.1,
          1.12,
          1.1400000000000001,
          1.16,
          1.18,
          1.2,
          1.22,
          1.24,
          1.26,
          1.28,
          1.3,
          1.32,
          1.34,
          1.3599999999999999,
          1.38,
          1.4,
          1.42,
          1.44,
          1.46,
          1.48,
          1.5,
          1.52,
          1.54,
          1.56,
          1.58,
          1.6,
          1.62,
          1.6400000000000001,
          1.6600000000000001,
          1.6800000000000002,
          1.7,
          1.72,
          1.74,
          1.76,
          1.78,
          1.8,
          1.8199999999999998,
          1.8399999999999999,
          1.8599999999999999,
          1.88,
          1.9,
          1.92,
          1.94,
          1.96,
          1.98,
          2,
          2.02,
          2.04,
          2.06,
          2.08,
          2.1,
          2.12,
          2.1399999999999997,
          2.16,
          2.1799999999999997,
          2.2,
          2.2199999999999998,
          2.24,
          2.26,
          2.2800000000000002,
          2.3,
          2.3200000000000003,
          2.34,
          2.3600000000000003,
          2.38,
          2.4,
          2.42,
          2.44,
          2.46,
          2.48,
          2.5,
          2.52,
          2.54,
          2.56,
          2.58,
          2.6,
          2.62,
          2.6399999999999997,
          2.66,
          2.6799999999999997,
          2.7,
          2.7199999999999998,
          2.74,
          2.76,
          2.7800000000000002,
          2.8,
          2.8200000000000003,
          2.84,
          2.8600000000000003,
          2.88,
          2.9,
          2.92,
          2.94,
          2.96,
          2.98,
          3
         ]
        }
       ],
       "layout": {
        "annotations": [
         {
          "arrowhead": 7,
          "showarrow": true,
          "text": "Orignial",
          "x": 3,
          "xref": "x",
          "y": 2,
          "yref": "y"
         },
         {
          "arrowhead": 7,
          "showarrow": true,
          "text": "Translation",
          "x": 3.5,
          "xref": "x",
          "y": 3,
          "yref": "y"
         }
        ],
        "autosize": true,
        "showlegend": false,
        "xaxis": {
         "autorange": true,
         "range": [
          0,
          3.704185643027543
         ],
         "rangemode": "tozero",
         "type": "linear"
        },
        "yaxis": {
         "autorange": true,
         "range": [
          -0.24267291910902697,
          3.5556858147713952
         ],
         "rangemode": "negative",
         "type": "linear"
        }
       }
      },
      "text/html": [
       "<div id=\"08f3f30a-05c2-400e-aafb-0562ecdf617c\" style=\"height: 525px; width: 100%;\" class=\"plotly-graph-div\"></div><script type=\"text/javascript\">require([\"plotly\"], function(Plotly) { window.PLOTLYENV=window.PLOTLYENV || {};window.PLOTLYENV.BASE_URL=\"https://plot.ly\";Plotly.newPlot(\"08f3f30a-05c2-400e-aafb-0562ecdf617c\", [{\"name\": \"original\", \"type\": \"scatter\", \"y\": [0.0, 0.02, 0.04, 0.06, 0.08, 0.1, 0.12, 0.14, 0.16, 0.18, 0.2, 0.22, 0.24, 0.26, 0.28, 0.3, 0.32, 0.34, 0.36, 0.38, 0.4, 0.42, 0.44, 0.46, 0.48, 0.5, 0.52, 0.54, 0.56, 0.58, 0.6, 0.62, 0.64, 0.66, 0.68, 0.7, 0.72, 0.74, 0.76, 0.78, 0.8, 0.82, 0.84, 0.86, 0.88, 0.9, 0.92, 0.94, 0.96, 0.98, 1.0, 1.02, 1.04, 1.06, 1.08, 1.1, 1.12, 1.14, 1.16, 1.18, 1.2, 1.22, 1.24, 1.26, 1.28, 1.3, 1.32, 1.34, 1.36, 1.38, 1.4, 1.42, 1.44, 1.46, 1.48, 1.5, 1.52, 1.54, 1.56, 1.58, 1.6, 1.62, 1.64, 1.66, 1.68, 1.7, 1.72, 1.74, 1.76, 1.78, 1.8, 1.82, 1.84, 1.86, 1.88, 1.9, 1.92, 1.94, 1.96, 1.98, 2.0], \"mode\": \"markers\", \"x\": [0.0, 0.03, 0.06, 0.09, 0.12, 0.15000000000000002, 0.18, 0.21000000000000002, 0.24, 0.27, 0.30000000000000004, 0.33, 0.36, 0.39, 0.42000000000000004, 0.44999999999999996, 0.48, 0.51, 0.54, 0.5700000000000001, 0.6000000000000001, 0.63, 0.66, 0.6900000000000001, 0.72, 0.75, 0.78, 0.81, 0.8400000000000001, 0.8699999999999999, 0.8999999999999999, 0.9299999999999999, 0.96, 0.99, 1.02, 1.0499999999999998, 1.08, 1.1099999999999999, 1.1400000000000001, 1.17, 1.2000000000000002, 1.23, 1.26, 1.29, 1.32, 1.35, 1.3800000000000001, 1.41, 1.44, 1.47, 1.5, 1.53, 1.56, 1.59, 1.62, 1.6500000000000001, 1.6800000000000002, 1.71, 1.7399999999999998, 1.77, 1.7999999999999998, 1.83, 1.8599999999999999, 1.8900000000000001, 1.92, 1.9500000000000002, 1.98, 2.0100000000000002, 2.04, 2.07, 2.0999999999999996, 2.13, 2.16, 2.19, 2.2199999999999998, 2.25, 2.2800000000000002, 2.31, 2.34, 2.37, 2.4000000000000004, 2.43, 2.46, 2.4899999999999998, 2.52, 2.55, 2.58, 2.61, 2.64, 2.67, 2.7, 2.73, 2.7600000000000002, 2.79, 2.82, 2.8499999999999996, 2.88, 2.91, 2.94, 2.9699999999999998, 3.0]}, {\"name\": \"translation\", \"type\": \"scatter\", \"y\": [1.0, 1.02, 1.04, 1.06, 1.08, 1.1, 1.12, 1.1400000000000001, 1.16, 1.18, 1.2, 1.22, 1.24, 1.26, 1.28, 1.3, 1.32, 1.34, 1.3599999999999999, 1.38, 1.4, 1.42, 1.44, 1.46, 1.48, 1.5, 1.52, 1.54, 1.56, 1.58, 1.6, 1.62, 1.6400000000000001, 1.6600000000000001, 1.6800000000000002, 1.7, 1.72, 1.74, 1.76, 1.78, 1.8, 1.8199999999999998, 1.8399999999999999, 1.8599999999999999, 1.88, 1.9, 1.92, 1.94, 1.96, 1.98, 2.0, 2.02, 2.04, 2.06, 2.08, 2.1, 2.12, 2.1399999999999997, 2.16, 2.1799999999999997, 2.2, 2.2199999999999998, 2.24, 2.26, 2.2800000000000002, 2.3, 2.3200000000000003, 2.34, 2.3600000000000003, 2.38, 2.4, 2.42, 2.44, 2.46, 2.48, 2.5, 2.52, 2.54, 2.56, 2.58, 2.6, 2.62, 2.6399999999999997, 2.66, 2.6799999999999997, 2.7, 2.7199999999999998, 2.74, 2.76, 2.7800000000000002, 2.8, 2.8200000000000003, 2.84, 2.8600000000000003, 2.88, 2.9, 2.92, 2.94, 2.96, 2.98, 3.0], \"mode\": \"markers\", \"x\": [0.5, 0.53, 0.56, 0.59, 0.62, 0.65, 0.6799999999999999, 0.71, 0.74, 0.77, 0.8, 0.8300000000000001, 0.86, 0.89, 0.92, 0.95, 0.98, 1.01, 1.04, 1.07, 1.1, 1.13, 1.1600000000000001, 1.19, 1.22, 1.25, 1.28, 1.31, 1.34, 1.3699999999999999, 1.4, 1.43, 1.46, 1.49, 1.52, 1.5499999999999998, 1.58, 1.6099999999999999, 1.6400000000000001, 1.67, 1.7000000000000002, 1.73, 1.76, 1.79, 1.82, 1.85, 1.8800000000000001, 1.91, 1.94, 1.97, 2.0, 2.0300000000000002, 2.06, 2.09, 2.12, 2.1500000000000004, 2.18, 2.21, 2.2399999999999998, 2.27, 2.3, 2.33, 2.36, 2.39, 2.42, 2.45, 2.48, 2.5100000000000002, 2.54, 2.57, 2.5999999999999996, 2.63, 2.66, 2.69, 2.7199999999999998, 2.75, 2.7800000000000002, 2.81, 2.84, 2.87, 2.9000000000000004, 2.93, 2.96, 2.9899999999999998, 3.02, 3.05, 3.08, 3.11, 3.14, 3.17, 3.2, 3.23, 3.2600000000000002, 3.29, 3.32, 3.3499999999999996, 3.38, 3.41, 3.44, 3.4699999999999998, 3.5]}], {\"yaxis\": {\"rangemode\": \"negative\", \"autorange\": true}, \"showlegend\": false, \"annotations\": [{\"arrowhead\": 7, \"text\": \"Orignial\", \"x\": 3, \"xref\": \"x\", \"showarrow\": true, \"y\": 2, \"yref\": \"y\"}, {\"arrowhead\": 7, \"text\": \"Translation\", \"x\": 3.5, \"xref\": \"x\", \"showarrow\": true, \"y\": 3, \"yref\": \"y\"}], \"xaxis\": {\"rangemode\": \"tozero\", \"autorange\": true}}, {\"showLink\": true, \"linkText\": \"Export to plot.ly\"})});</script>"
      ],
      "text/vnd.plotly.v1+html": [
       "<div id=\"08f3f30a-05c2-400e-aafb-0562ecdf617c\" style=\"height: 525px; width: 100%;\" class=\"plotly-graph-div\"></div><script type=\"text/javascript\">require([\"plotly\"], function(Plotly) { window.PLOTLYENV=window.PLOTLYENV || {};window.PLOTLYENV.BASE_URL=\"https://plot.ly\";Plotly.newPlot(\"08f3f30a-05c2-400e-aafb-0562ecdf617c\", [{\"name\": \"original\", \"type\": \"scatter\", \"y\": [0.0, 0.02, 0.04, 0.06, 0.08, 0.1, 0.12, 0.14, 0.16, 0.18, 0.2, 0.22, 0.24, 0.26, 0.28, 0.3, 0.32, 0.34, 0.36, 0.38, 0.4, 0.42, 0.44, 0.46, 0.48, 0.5, 0.52, 0.54, 0.56, 0.58, 0.6, 0.62, 0.64, 0.66, 0.68, 0.7, 0.72, 0.74, 0.76, 0.78, 0.8, 0.82, 0.84, 0.86, 0.88, 0.9, 0.92, 0.94, 0.96, 0.98, 1.0, 1.02, 1.04, 1.06, 1.08, 1.1, 1.12, 1.14, 1.16, 1.18, 1.2, 1.22, 1.24, 1.26, 1.28, 1.3, 1.32, 1.34, 1.36, 1.38, 1.4, 1.42, 1.44, 1.46, 1.48, 1.5, 1.52, 1.54, 1.56, 1.58, 1.6, 1.62, 1.64, 1.66, 1.68, 1.7, 1.72, 1.74, 1.76, 1.78, 1.8, 1.82, 1.84, 1.86, 1.88, 1.9, 1.92, 1.94, 1.96, 1.98, 2.0], \"mode\": \"markers\", \"x\": [0.0, 0.03, 0.06, 0.09, 0.12, 0.15000000000000002, 0.18, 0.21000000000000002, 0.24, 0.27, 0.30000000000000004, 0.33, 0.36, 0.39, 0.42000000000000004, 0.44999999999999996, 0.48, 0.51, 0.54, 0.5700000000000001, 0.6000000000000001, 0.63, 0.66, 0.6900000000000001, 0.72, 0.75, 0.78, 0.81, 0.8400000000000001, 0.8699999999999999, 0.8999999999999999, 0.9299999999999999, 0.96, 0.99, 1.02, 1.0499999999999998, 1.08, 1.1099999999999999, 1.1400000000000001, 1.17, 1.2000000000000002, 1.23, 1.26, 1.29, 1.32, 1.35, 1.3800000000000001, 1.41, 1.44, 1.47, 1.5, 1.53, 1.56, 1.59, 1.62, 1.6500000000000001, 1.6800000000000002, 1.71, 1.7399999999999998, 1.77, 1.7999999999999998, 1.83, 1.8599999999999999, 1.8900000000000001, 1.92, 1.9500000000000002, 1.98, 2.0100000000000002, 2.04, 2.07, 2.0999999999999996, 2.13, 2.16, 2.19, 2.2199999999999998, 2.25, 2.2800000000000002, 2.31, 2.34, 2.37, 2.4000000000000004, 2.43, 2.46, 2.4899999999999998, 2.52, 2.55, 2.58, 2.61, 2.64, 2.67, 2.7, 2.73, 2.7600000000000002, 2.79, 2.82, 2.8499999999999996, 2.88, 2.91, 2.94, 2.9699999999999998, 3.0]}, {\"name\": \"translation\", \"type\": \"scatter\", \"y\": [1.0, 1.02, 1.04, 1.06, 1.08, 1.1, 1.12, 1.1400000000000001, 1.16, 1.18, 1.2, 1.22, 1.24, 1.26, 1.28, 1.3, 1.32, 1.34, 1.3599999999999999, 1.38, 1.4, 1.42, 1.44, 1.46, 1.48, 1.5, 1.52, 1.54, 1.56, 1.58, 1.6, 1.62, 1.6400000000000001, 1.6600000000000001, 1.6800000000000002, 1.7, 1.72, 1.74, 1.76, 1.78, 1.8, 1.8199999999999998, 1.8399999999999999, 1.8599999999999999, 1.88, 1.9, 1.92, 1.94, 1.96, 1.98, 2.0, 2.02, 2.04, 2.06, 2.08, 2.1, 2.12, 2.1399999999999997, 2.16, 2.1799999999999997, 2.2, 2.2199999999999998, 2.24, 2.26, 2.2800000000000002, 2.3, 2.3200000000000003, 2.34, 2.3600000000000003, 2.38, 2.4, 2.42, 2.44, 2.46, 2.48, 2.5, 2.52, 2.54, 2.56, 2.58, 2.6, 2.62, 2.6399999999999997, 2.66, 2.6799999999999997, 2.7, 2.7199999999999998, 2.74, 2.76, 2.7800000000000002, 2.8, 2.8200000000000003, 2.84, 2.8600000000000003, 2.88, 2.9, 2.92, 2.94, 2.96, 2.98, 3.0], \"mode\": \"markers\", \"x\": [0.5, 0.53, 0.56, 0.59, 0.62, 0.65, 0.6799999999999999, 0.71, 0.74, 0.77, 0.8, 0.8300000000000001, 0.86, 0.89, 0.92, 0.95, 0.98, 1.01, 1.04, 1.07, 1.1, 1.13, 1.1600000000000001, 1.19, 1.22, 1.25, 1.28, 1.31, 1.34, 1.3699999999999999, 1.4, 1.43, 1.46, 1.49, 1.52, 1.5499999999999998, 1.58, 1.6099999999999999, 1.6400000000000001, 1.67, 1.7000000000000002, 1.73, 1.76, 1.79, 1.82, 1.85, 1.8800000000000001, 1.91, 1.94, 1.97, 2.0, 2.0300000000000002, 2.06, 2.09, 2.12, 2.1500000000000004, 2.18, 2.21, 2.2399999999999998, 2.27, 2.3, 2.33, 2.36, 2.39, 2.42, 2.45, 2.48, 2.5100000000000002, 2.54, 2.57, 2.5999999999999996, 2.63, 2.66, 2.69, 2.7199999999999998, 2.75, 2.7800000000000002, 2.81, 2.84, 2.87, 2.9000000000000004, 2.93, 2.96, 2.9899999999999998, 3.02, 3.05, 3.08, 3.11, 3.14, 3.17, 3.2, 3.23, 3.2600000000000002, 3.29, 3.32, 3.3499999999999996, 3.38, 3.41, 3.44, 3.4699999999999998, 3.5]}], {\"yaxis\": {\"rangemode\": \"negative\", \"autorange\": true}, \"showlegend\": false, \"annotations\": [{\"arrowhead\": 7, \"text\": \"Orignial\", \"x\": 3, \"xref\": \"x\", \"showarrow\": true, \"y\": 2, \"yref\": \"y\"}, {\"arrowhead\": 7, \"text\": \"Translation\", \"x\": 3.5, \"xref\": \"x\", \"showarrow\": true, \"y\": 3, \"yref\": \"y\"}], \"xaxis\": {\"rangemode\": \"tozero\", \"autorange\": true}}, {\"showLink\": true, \"linkText\": \"Export to plot.ly\"})});</script>"
      ]
     },
     "metadata": {},
     "output_type": "display_data"
    }
   ],
   "source": [
    "vecs = [[3 * (i/100), 2 * (i/100)] for i in range(101)]\n",
    "vecs = np.array(vecs)\n",
    "vecs_trns = [[3 * (i/100) + 0.5, 2 * (i/100) + 1] for i in range(101)]\n",
    "vecs_trns = np.array(vecs_trns)\n",
    "\n",
    "trace1 = go.Scatter(x=vecs[:, 0],\n",
    "                    y=vecs[:, 1],\n",
    "                    mode = 'markers',\n",
    "                    name = 'original')\n",
    "\n",
    "trace2 = go.Scatter(x=vecs_trns[:, 0],\n",
    "                    y=vecs_trns[:, 1],\n",
    "                    mode = 'markers',\n",
    "                    name = 'translation')\n",
    "\n",
    "layout = go.Layout(\n",
    "        showlegend=False,\n",
    "        xaxis=dict(\n",
    "            rangemode='tozero',\n",
    "            autorange=True\n",
    "        ),\n",
    "        yaxis=dict(\n",
    "            rangemode='negative',\n",
    "            autorange=True\n",
    "        ),\n",
    "        annotations=[\n",
    "            dict(\n",
    "                x=3,\n",
    "                y=2,\n",
    "                xref='x',\n",
    "                yref='y',\n",
    "                text='Orignial',\n",
    "                showarrow=True,\n",
    "                arrowhead=7\n",
    "            ),\n",
    "            dict(\n",
    "                x=3.5,\n",
    "                y=3,\n",
    "                xref='x',\n",
    "                yref='y',\n",
    "                text='Translation',\n",
    "                showarrow=True,\n",
    "                arrowhead=7\n",
    "            ),\n",
    "        ]\n",
    "    )\n",
    "\n",
    "data = [trace1, trace2]\n",
    "fig = go.Figure(data=data, layout=layout)\n",
    "offline.iplot(fig)"
   ]
  },
  {
   "cell_type": "code",
   "execution_count": null,
   "metadata": {},
   "outputs": [],
   "source": []
  }
 ],
 "metadata": {
  "kernelspec": {
   "display_name": "Python 3",
   "language": "python",
   "name": "python3"
  },
  "language_info": {
   "codemirror_mode": {
    "name": "ipython",
    "version": 3
   },
   "file_extension": ".py",
   "mimetype": "text/x-python",
   "name": "python",
   "nbconvert_exporter": "python",
   "pygments_lexer": "ipython3",
   "version": "3.5.4"
  }
 },
 "nbformat": 4,
 "nbformat_minor": 2
}
