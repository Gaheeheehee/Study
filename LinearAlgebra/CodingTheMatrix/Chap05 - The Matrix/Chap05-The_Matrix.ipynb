{
 "cells": [
  {
   "cell_type": "markdown",
   "metadata": {},
   "source": [
    "# Chap 05\n",
    "# 행렬 - Matrix"
   ]
  },
  {
   "cell_type": "markdown",
   "metadata": {},
   "source": [
    "## 5.1 행렬이란 무엇인가?"
   ]
  },
  {
   "cell_type": "markdown",
   "metadata": {},
   "source": [
    "### 5.1.1 전통적인 행렬\n",
    "일반적으로, $m$개의 행과 $n$개의 열을 가진 행렬은 $m \\times n$행렬이라 한다. 행렬 $A$에 대해 $i,j$ *원소* 는 $i$번쨰 행과 $j$번째 열에 있는 원소로 정의되며, 전통적으로 $a_{i,j}$ 또는 $a_{ij}$로 나타낸다. <br />따라서, $F$상의 모든 $i=1,...,m$과 $j=1,...,n$에 대하여 $a_{ij} \\in F$일 때,\n",
    "\n",
    "$$A = \\begin{bmatrix} a_{ 11 } & a_{ 12 } & \\cdots  & a_{ 1n } \\\\ a_{21} & a_{22} & \\cdots & a_{2n} \\\\ \\vdots & \\vdots & \\vdots & \\vdots  \\\\ a_{m1} & a_{m2} & \\cdots & a_{mn} \\end{bmatrix}$$\n",
    "\n",
    "을 $F$-위의 ($m \\times n$)-행렬(($m \\times n$)-matrix over $F$)이라고 한다.\n"
   ]
  },
  {
   "cell_type": "markdown",
   "metadata": {},
   "source": [
    "### 5.1.2 행렬에 대해 알아보기\n",
    "\n",
    "$F$상의 $D$-벡터를 집합 $D$에서 $F$로의 함수로 정의한거 처럼, $F$상의 $R \\times C$ 행렬을 카테시안 곱 $R \\times C$로의 함수로 정의한다. $R$의 원소를 *행 라벨* (row label) 이라 하고 $C$의 원소를 *열 라벨* (column label)이라 한다. <br />\n",
    "\n",
    "**Example 5.1.3** 아래는 $R=$ `{'a', 'b'}`이고 $C=$`{'#', '@', '?'}`인 예이다. \n",
    "\n",
    "|      |  @   |  #   |  ?   |\n",
    "| :--: | :--: | :--: | :--: |\n",
    "|  a   |  1   |  2   |  3   |\n",
    "|  b   |  10  |  20  |  30  |"
   ]
  },
  {
   "cell_type": "markdown",
   "metadata": {},
   "source": [
    "### 5.1.3 행, 열, 엔트리\n",
    "\n",
    "행렬의 유용한 점은 행과 열을 벡터로 해석할 수 있다. 위의 Example 5.1.3의 행렬을 아래와 같이 벡터로 나타낼 수 있다.\n",
    "\n",
    "- 행 `a`는 벡터 [1, 2, 3] 이다.\n",
    "- 행 `b`는 벡터 [10, 20, 30] 이다.\n",
    "- 열 `@`는 벡터 [1, 10] 이다.\n",
    "- 열 `#`은 벡터 [2, 20] 이다.\n",
    "- 열 `?`는 벡터 [3, 30] 이다.\n",
    "\n",
    "이번 5장에서는 행렬 구현 및 예제들을 파이썬의 고성능 수치 계산을 위한 모듈인 [NumPy](http://www.numpy.org/)를 사용한다. <br />numpy모듈을 이용하여 위의 Example 5.1.3을 다음과 같이 코드로 나타낼 수 있다."
   ]
  },
  {
   "cell_type": "code",
   "execution_count": 17,
   "metadata": {},
   "outputs": [
    {
     "name": "stdout",
     "output_type": "stream",
     "text": [
      "[[ 1  2  3]\n",
      " [10 20 30]]\n"
     ]
    }
   ],
   "source": [
    "import numpy as np\n",
    "\n",
    "M = np.matrix('1 2 3; 10 20 30')  # = np.matrix([[1, 2, 3], [10, 20, 30]])\n",
    "print(M)"
   ]
  },
  {
   "cell_type": "markdown",
   "metadata": {},
   "source": [
    "위와 같이 $R \\times C$ 행렬 $M(r \\in R, c \\in C)$에 대해, $M$의 $r,c$원소는 $(r,c)$ 쌍이 매핑하는 것으로 정의 되며 $M_{r,c}$ 또는 $M[r,c]$로 나타내고, 행과 열은 아래와 같이 정의된다.\n",
    "\n",
    "- $r \\in R$에 대해, 행 $r$은 각 원소 $c \\in C$에 대해 엔트리 $c$가 $M[r,c]$인 $C$-벡터 이다.\n",
    "- $c \\in C$에 대해, 열 $c$는 각 원소 $r \\in R$에 대해 엔트리 $r$이 $M[r, c]$인 $R$-벡터 이다."
   ]
  },
  {
   "cell_type": "code",
   "execution_count": 23,
   "metadata": {},
   "outputs": [
    {
     "name": "stdout",
     "output_type": "stream",
     "text": [
      "첫 번째 행 : [[1 2 3]]\n",
      "두 번째 행 : [[10 20 30]]\n",
      "첫 번째 열 :\n",
      " [[ 1]\n",
      " [10]]\n",
      "두 번째 열 :\n",
      " [[ 2]\n",
      " [20]]\n",
      "세 번째 열 :\n",
      " [[ 3]\n",
      " [30]]\n"
     ]
    }
   ],
   "source": [
    "# 1. 행(row)\n",
    "print('첫 번째 행 :', M[0,:])\n",
    "print('두 번째 행 :', M[1,:])\n",
    "\n",
    "# 2. 열(column)\n",
    "print('첫 번째 열 :\\n', M[:,0])\n",
    "print('두 번째 열 :\\n', M[:,1])\n",
    "print('세 번째 열 :\\n', M[:,2])"
   ]
  },
  {
   "cell_type": "code",
   "execution_count": null,
   "metadata": {},
   "outputs": [],
   "source": []
  }
 ],
 "metadata": {
  "kernelspec": {
   "display_name": "Python 3",
   "language": "python",
   "name": "python3"
  },
  "language_info": {
   "codemirror_mode": {
    "name": "ipython",
    "version": 3
   },
   "file_extension": ".py",
   "mimetype": "text/x-python",
   "name": "python",
   "nbconvert_exporter": "python",
   "pygments_lexer": "ipython3",
   "version": "3.5.4"
  }
 },
 "nbformat": 4,
 "nbformat_minor": 2
}
