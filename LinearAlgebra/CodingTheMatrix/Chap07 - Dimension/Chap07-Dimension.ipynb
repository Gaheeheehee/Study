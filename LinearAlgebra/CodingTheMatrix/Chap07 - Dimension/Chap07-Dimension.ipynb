{
 "cells": [
  {
   "cell_type": "markdown",
   "metadata": {},
   "source": [
    "# Chap 07"
   ]
  },
  {
   "cell_type": "markdown",
   "metadata": {},
   "source": [
    "# 차원 - Dimension"
   ]
  },
  {
   "cell_type": "markdown",
   "metadata": {},
   "source": [
    "## 7.1 기저의 크기"
   ]
  },
  {
   "cell_type": "markdown",
   "metadata": {},
   "source": [
    "### 7.1.1 Morphing 보조 정리와 그 응용\n",
    "\n",
    "***Lemma (Morphing Lemma)*** : $\\mathcal{V}$ 는 벡터공간이라고 하자. $S$ 는 $\\mathcal{V}$ 에 대한 생성자들의 집합이라 하고, $B$ 는 $\\mathcal{V}$ 에 속하는 벡터들로 구성된 선형독립인 집합이라고 하면, $|S| \\ge |B|$ 이다.  <br />\n",
    "\n",
    "***Theorem (Basis Theorem)*** : $\\mathcal{V}$ 는 벡터공간이라 하고, $\\mathcal{V}$ 에 대한 모든 기저(basis)는 동일한 크기를 가진다.\n",
    "\n",
    "- **Proof** : $B_1$ 과 $B_2$ 는 $\\mathcal{V}$ 에 대한 두 기저라고 하자. $S=B_1$ 과 $B=B_2$ 를 위의 *Morphing Lemma* 에 적용하면 $|B_1| \\ge |B_2|$ 라고 할 수 있다. $S = B_2$ 와 $B=B_1$ 을 적용하면 $|B_2| \\ge |B_1|$ 이다. 이 둘의 부등식을 결합하면 $|B_1| = |B_2|$ 를 얻을 수 있다. \n",
    "\n",
    "\n",
    "***Theorem*** : $\\mathcal{V}$ 는 벡터공긴이라고 하면, $\\mathcal{V}$ 에 대한 생성자들의 집합이 $\\mathcal{V}$ 에 대한 생성자들로 구성된 *가장 작은 집합* 이 되는 필요충분 조건은 이 집합이 $\\mathcal{V}$ 에 대한 기저인 것이다.\n",
    "\n",
    "- **Proof** : $T$ 는 $\\mathcal{V}$ 에 대한 생성자들의 집합이라고 하자. 그렇다면, 증명해야 하는 것은 \n",
    "  - (1) 만약 $T$ 가 $\\mathcal{V}$ 에 대한 기저이면 $T$ 는 $\\mathcal{V}$ 에 대한 생성자들로 구성된 가장 작은 집합이다.\n",
    "  - (2) 만약 $T$ 가 $\\mathcal{V}$ 에 대한 기저가 아니면 생성자들로 구성된 $T$ 보다 더 작은 집합이 존재한다.\n",
    "\n",
    "\n",
    "1. $T$ 를 기저라고 하고, $S$ 는 $\\mathcal{V}$ 에 대한 생성자들로 구성된 가장 작은 집합이라고 하자. 위의 *Morphing Lemma* 에 의하면, $|T| \\le |S|$ 이고, 따라서 $T$ 또한 생성자들의 가장 작은 집합이다.\n",
    "2. $T$ 는 기저가 아니라고 해보자. 기저는 *생성자들로 구성된 선형독립* 인 집합이다. 그러므로 $T$ 는 기저가 아니라 했으니, $T$ 는 생성자들로 구성된 선형종속인 집합이다.  [6.5.4의 Lemma](http://nbviewer.jupyter.org/github/ExcelsiorCJH/Study/blob/master/LinearAlgebra/CodingTheMatrix/Chap06%20-%20The%20Basis/Chap06-The_Basis.ipynb#6.5.4-일차독립-및-종속의-성질)에 따르면 $T$ 내에 다른 벡터들의 생성에 속하는 일부 벡터들이 있다. 그러므로 *[Superfluous-Vector Lemma](http://nbviewer.jupyter.org/github/ExcelsiorCJH/Study/blob/master/LinearAlgebra/CodingTheMatrix/Chap06%20-%20The%20Basis/Chap06-The_Basis.ipynb#6.5.1-Superfluous-Vector-보조정리)* 에 의해, $T$ 에서 제거하면 $\\mathcal{V}$ 에 대한 생성자들의 집합이 되는 일부 벡터가 존재한다. 따라서 $T$ 는 생성자들로 구성된 가장 작은 집합이 아니다."
   ]
  },
  {
   "cell_type": "code",
   "execution_count": null,
   "metadata": {},
   "outputs": [],
   "source": []
  }
 ],
 "metadata": {
  "kernelspec": {
   "display_name": "Python 3",
   "language": "python",
   "name": "python3"
  },
  "language_info": {
   "codemirror_mode": {
    "name": "ipython",
    "version": 3
   },
   "file_extension": ".py",
   "mimetype": "text/x-python",
   "name": "python",
   "nbconvert_exporter": "python",
   "pygments_lexer": "ipython3",
   "version": "3.5.4"
  }
 },
 "nbformat": 4,
 "nbformat_minor": 2
}
