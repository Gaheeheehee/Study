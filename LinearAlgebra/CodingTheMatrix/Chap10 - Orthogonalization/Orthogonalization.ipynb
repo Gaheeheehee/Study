{
 "cells": [
  {
   "cell_type": "markdown",
   "metadata": {},
   "source": [
    "# Chap 10"
   ]
  },
  {
   "cell_type": "markdown",
   "metadata": {},
   "source": [
    "# 직교화(Orthogonalization)\n",
    "\n",
    "이번 장의 첫 번째 목적은 다음 문제에 대한 알고리즘을 제시하는 것이다.\n",
    "\n",
    "> **Computational Problem** : *(여러 벡터들의 Span 내에 있는 가장 가까운점 )*  주어진 벡터 $b$ 와 실수 벡터들 $v_1, ..., v_n$ 에 대해, Span $\\{v_1, ..., v_n\\}$ 내에 있으며 $b$ 에서 가장 가까운 벡터를 찾아보자.\n",
    "\n",
    "\n",
    "<br />\n",
    "\n",
    "$A=\\begin{bmatrix}  &  &  \\\\ v_{ 1 } & \\cdots  & v_{ m } \\\\  &  &  \\end{bmatrix}$ 라 하고, 행렬-벡터 곱셈의 선형결합 정의에 의하면, Span $\\{v_1, ..., v_m \\}$ 내 벡터들의 집합은 $Ax$ 로 표현할 수 있는 벡터들의 집합이다. 따라서, 결국 계수(좌표)들을 찾는 것은 $\\left\\| b-Ax \\right\\| $ 을 최소화 하는 벡터 $x$ 를 찾는 것과 같다. 이것을 *최소제곱* (least-squares) 문제라고 한다."
   ]
  },
  {
   "cell_type": "markdown",
   "metadata": {},
   "source": [
    "## 10.1 복수의 벡터들에 직교하는 투영\n",
    "\n",
    "9장에서 살펴보았던 [*소방차 문제*](https://render.githubusercontent.com/view/ipynb?commit=dfd2db6c10417913bcf457a4a3c3c64378d8a767&enc_url=68747470733a2f2f7261772e67697468756275736572636f6e74656e742e636f6d2f457863656c73696f72434a482f53747564792f646664326462366331303431373931336263663435376134613363336336343337386438613736372f4c696e656172416c67656272612f436f64696e675468654d61747269782f4368617030392532302d253230546865253230496e6e657225323050726f647563742f4368617030392d5468655f496e6e65725f50726f647563742e6970796e62&nwo=ExcelsiorCJH%2FStudy&path=LinearAlgebra%2FCodingTheMatrix%2FChap09+-+The+Inner+Product%2FChap09-The_Inner_Product.ipynb&repository_id=116745719&repository_type=Repository#9.1-%EC%86%8C%EB%B0%A9%EC%B0%A8-%EB%AC%B8%EC%A0%9C) 와 같이 직교성과 투영(projection)을 사용하여 풀 수 있다."
   ]
  },
  {
   "cell_type": "markdown",
   "metadata": {},
   "source": [
    "### 10.1.1 벡터들의 집합에 대한 직교\n",
    "\n",
    "9장에서는 한 벡터가 다른 벡터에 직교한다는 것이 무엇을 의미하는지 살펴 보았다면, 이번 장에서는 한 벡터가 벡터들의 집합에 직교하는 것이 무엇을 의미하는지를 살펴본다.\n",
    "\n",
    "***Definition*** : 벡터 $v$ 는 만약 $\\mathcal{S}$ 내의 모든 벡터에 직교하면 벡터들의 집합 $\\mathcal{S}$ 에 직교한다. \n",
    "\n",
    "***Example 10.1.2*** : 벡터 $[2,0,-1]$ 은 $[0,1,0]$과 $[1, 0, 2]$에 직교하므로 집합 $\\{[0,1,0], [1, 0, 2]\\}$에 직교한다. 또한, $[2, 0, -1]$ 벡터는 무한 집합 $\\mathcal{V} = $ Span $\\{[0, 1, 0], [1, 0, 2]\\}$ 에 직교한다. 그 이유는 $\\mathcal{V}$ 내의 모든 벡터는 $\\alpha [0, 1, 0] + \\beta [1, 0, 2]$ 이고 다음이 성립하기 때문이다.\n",
    "\n",
    "$$\n",
    "\\begin{eqnarray} \\left< [2,0,-1],\\alpha [0,1,0]+\\beta [1,0,2] \\right>  & = & \\alpha \\left< [2,0,-1],[0,1,0] \\right> +\\beta \\left< [2,0,-1],[1,0,2] \\right>  \\\\  & = & \\alpha 0 + \\beta 0 \\end{eqnarray}\n",
    "$$\n",
    "\n",
    "\n",
    "***Lemma*** :  벡터 $v$ 가 벡터들 $a_1, ..., a_n$ 각각에 직교할 필요충분조건은 $v$ 가 Span $\\{a_1, ..., a_n\\}$ 내의 모든 벡터에 직교하는 것이다.\n",
    "\n",
    "- **Proof** : $v$ 는 $a_1, ..., a_n$ 에 직교한다고 하고, $w$ 는 Span $\\{a_1, ..., a_n\\}$ 내의 임의의 벡터라고 하자. $v$ 는 $w$ 에 직교한다는 것을 보이면 된다. Span의 정의에 의하면 다음을 만족하는 계수 $\\alpha_1, ..., \\alpha_n $ 이 있다.\n",
    "\n",
    "$$\n",
    "w = \\alpha_1 a_1 + \\cdots + \\alpha_n a_n\n",
    "$$\n",
    "\n",
    "- 그러므로, 직교의 성질을 사용하면 다음이 성립한다.\n",
    "\n",
    "$$\n",
    "\\begin{eqnarray} \\left< v,w \\right>  & = & \\left< v,\\alpha _{ 1 }a_{ 1 }+\\cdots +\\alpha _{ n }a_{ n } \\right>  \\\\  & = & \\alpha \\left< v,a_{ 1 } \\right>  \\\\  & = & \\alpha _{ 1 }0+\\cdots +\\alpha _{ n }0 \\\\  & = & 0 \\end{eqnarray}\n",
    "$$\n",
    "\n",
    "- 따라서, $v$ 는 $w$ 에 직교한다. 이제, $v$ 는 Span $\\{a_1, ..., a_n\\} $ 의 모든 벡터에 직교한다고 해보자. Span $\\{a_1, ..., a_n\\} $ 은 $a_1,..., a_n$ 을 포함하므로 $v$ 는 $a_1, ..., a_n$ 에 직교한다.\n"
   ]
  },
  {
   "cell_type": "markdown",
   "metadata": {},
   "source": [
    "###  10.1.2 벡터공간상으로의 투영 및 벡터공간에 직교하는 투영\n",
    "\n",
    "***Definition*** : 벡터 $b$ 와 벡터공간 $\\mathcal{V}$ 에 대해, $b$ 의 $\\mathcal{V}$ 상으로의 투영 ($b^{||\\mathcal{V}}$) 과 $b$ 의 $\\mathcal{V}$ 에 직교하는 투영 ($b^{\\bot \\mathcal{V}}$) 을 정의해 보자. 그러면, 다음과 같이 쓸 수 있다.\n",
    "\n",
    "$$\n",
    "b = b^{|| \\mathcal{V}} + b^{\\bot \\mathcal{V}}\n",
    "$$\n",
    "\n",
    "![](./images/orthogonal01.png)\n",
    "\n",
    "그리고, $b^{|| \\mathcal{V}}$ 는 $\\mathcal{V}$ 에 속하고, $b^{\\bot \\mathcal{V}}$ 는 $\\mathcal{V}$ 에 속하는 모든 벡터에 직교한다.\n",
    "\n",
    "\n",
    "\n",
    "***Lemma*** : $\\mathcal{V}$ 는 벡터공간이라 하고, $b$ 는 벡터라고 하자. $\\mathcal{V}$ 에 속하며 $b$ 에 가장 가까운 점은 $b^{|| \\mathcal{V}}$ 이고, 그 거리는 $\\left\\| b^{\\bot \\mathcal{V}} \\right\\| $ 이다.\n",
    "\n",
    "![](./images/orthogonal02.png)\n",
    "\n",
    "- **Proof** :  $b$ 와 $b^{|| \\mathcal{V}}$ 사이의 거리는 $\\left\\| b- b^{|| \\mathcal{V}} \\right\\|$ 이다. $p$ 는 $\\mathcal{V}$ 의 임의의 점이라고 하면, $p$ 는 $b^{|| \\mathcal{V}}$ 보다 $b$ 에 가깝지 않다는 것을 보여 보자. \n",
    "\n",
    "$$\n",
    "b-p = \\left( b-b^{|| \\mathcal{V}} \\right) + \\left( b^{|| \\mathcal{V}} - p \\right)\n",
    "$$\n",
    "\n",
    "- 우변에서 $b - b^{|| \\mathcal{V}} = b^{\\bot \\mathcal{V}}$ 이고, $ b^{|| \\mathcal{V}} - p$ 는 $\\mathcal{V}$ 에 속하는 두 벡터의 차이이므로 $\\mathcal{V}$ 내에 있다. $b^{\\bot \\mathcal{V}}$ 는 $\\mathcal{V}$ 에 직교하므로, 피타고라스 정리에 의하면 다음이 성립한다.\n",
    "\n",
    "$$\n",
    "\\left\\| b-p \\right\\| ^{2} = \\left\\| b-b^{|| \\mathcal{V}} \\right\\|^{2} + \\left\\| b^{|| \\mathcal{V}} - p \\right\\|^{2}\n",
    "$$\n",
    "\n",
    "- 따라서, $p \\neq b^{|| \\mathcal{V}}$ 이면 $\\left\\| b-p \\right\\| > \\left\\| b- b^{|| \\mathcal{V}} \\right\\|$ 이 성립한다."
   ]
  },
  {
   "cell_type": "markdown",
   "metadata": {},
   "source": [
    "### 10.1.3 벡터들의 리스트에 직교하는 투영 - 첫 번째 시도\n",
    "\n",
    "파이썬을 이용해서 다음을 만족하는 `project_orthogonal()` 함수를 작성해보자.\n",
    "\n",
    "- *input* : 벡터 $b$, 벡터들의 리스트 $vlist$\n",
    "- *output* : Span $vlist$ 에 직교하는 $b$ 의 투영 (즉, $b^{\\bot \\mathcal{V}}$)\n",
    "\n",
    "아래의 코드는 [9.3.4](http://nbviewer.jupyter.org/github/ExcelsiorCJH/Study/blob/master/LinearAlgebra/CodingTheMatrix/Chap09%20-%20The%20Inner%20Product/Chap09-The_Inner_Product.ipynb#9.3.4-투영-및-가장-가까운-점-찾기) 에서 작성한 `project_along()` 함수를 이용하여 `project_orthogonal()` 함수를 구현한 코드이다."
   ]
  },
  {
   "cell_type": "code",
   "execution_count": 18,
   "metadata": {},
   "outputs": [],
   "source": [
    "def project_along(b, v):\n",
    "    bv = 0\n",
    "    vv = 0\n",
    "    for u, w in zip(b, v):\n",
    "        bv += u*w\n",
    "    for u,w in zip(v, v):\n",
    "        vv += u*w\n",
    "    \n",
    "    sigma = (bv / vv) if vv > 1e-20 else 0\n",
    "    return [sigma*e for e in v]\n",
    "\n",
    "\n",
    "def project_orthogonal(b, vlist):\n",
    "    for v in vlist:\n",
    "        b = [e1 - e2 for e1, e2 in zip(b, project_along(b, v))]\n",
    "    return b"
   ]
  },
  {
   "cell_type": "code",
   "execution_count": 19,
   "metadata": {},
   "outputs": [
    {
     "data": {
      "text/plain": [
       "[-0.5, 0.5]"
      ]
     },
     "execution_count": 19,
     "metadata": {},
     "output_type": "execute_result"
    }
   ],
   "source": [
    "vlist = [[1, 0], [2**(1/2)/2, 2**(1/2)/2]]\n",
    "b = [1,1]\n",
    "\n",
    "project_orthogonal(b, vlist)"
   ]
  },
  {
   "cell_type": "markdown",
   "metadata": {},
   "source": [
    "위의 `project_orthogonal()` 함수는 문제가 있다. 예를 들어 $b= [1,1]$, $vlist = [[1,0], [\\frac{\\sqrt{2}}{2}, \\frac{\\sqrt{2}}{2}]]$ 라고 할 경우 `project_orthogonal()` 의 출력값은 `[-0.5, 0.5]` 이다.  이 벡터는 아래의 그림과 같이 $vlist$ 의 $[1, 0]$ 과 직교하지 않는다.\n",
    "\n",
    "![](./images/orthogonal03.png)\n"
   ]
  },
  {
   "cell_type": "markdown",
   "metadata": {},
   "source": [
    "## 10.2 *서로 직교* 하는 벡터들의 리스트에 직교하는 $b$ 의 투영\n",
    "\n",
    "그렇다면, 위의 `project_orthogonal()` 함수가 동작하도록 하는 $vlist$ 들을 만들어 보자. 예를 들어,  $vlist$ 에 $v_1 = [1, 2, 1]$, $v_2,=[-1, 0, 1]$ 과 $b=[1, 1, 2]$ 라고 하면 다음과 같은 결과가 나온다."
   ]
  },
  {
   "cell_type": "code",
   "execution_count": 23,
   "metadata": {},
   "outputs": [
    {
     "name": "stdout",
     "output_type": "stream",
     "text": [
      "[0.67, -0.67, 0.67]\n"
     ]
    }
   ],
   "source": [
    "vlist = [[1, 2, 1], [-1, 0, 1]]\n",
    "b = [1, 1, 2]\n",
    "\n",
    "b_orthogonal = project_orthogonal(b, vlist)\n",
    "b_orthogonal = [round(e, 2) for e in b_orthogonal]  # 소수점 둘째자리까지 출력\n",
    "print(b_orthogonal)"
   ]
  },
  {
   "cell_type": "markdown",
   "metadata": {},
   "source": [
    "이 결과값은 $vlist$ 의 $v_1$ 과 $v_2$ 두 벡터에 각각 직교한다. 또한 $v_1$ 과 $v_2$ 는 서로 직교한다. 이것을  [9.3.4](http://nbviewer.jupyter.org/github/ExcelsiorCJH/Study/blob/master/LinearAlgebra/CodingTheMatrix/Chap09%20-%20The%20Inner%20Product/Chap09-The_Inner_Product.ipynb#9.3.4-투영-및-가장-가까운-점-찾기) 에서 배웠던 공식을 이용하면 다음과 같다.\n",
    "\n",
    "$\\left< v_1, b \\right>=0$ 이고, $\\left< v_1, v_2 \\right> = 0$ 이므로, \n",
    "$$\n",
    "\\begin{eqnarray} \\left< v_{ 1 },b-\\sigma v_{ 2 } \\right>  & = & \\left< v_{ 1 },b \\right> -\\left< v_{ 1 },\\sigma v_{ 2 } \\right>  \\\\  & = & \\left< v_{ 1 },b \\right> -\\sigma \\left< v_1, v_2 \\right>  \\\\  & = & 0+0 \\end{eqnarray}\n",
    "$$\n",
    "즉,  10.1.3과 달리 input 값을 아래와 같이 설정해주면 `project_orthogonal()`은 제대로 동작한다.\n",
    "\n",
    "- *input* : 벡터 $b$, *서로 직교* 하는 벡터들의 리스트 $vlist$\n",
    "- output : $vlist$ 에 속하는 벡터들에 직교하는 $b$ 의 투영 $b^{\\bot}$"
   ]
  },
  {
   "cell_type": "markdown",
   "metadata": {},
   "source": [
    "### 10.2.2 `project_orthogonal()` 보강하기"
   ]
  },
  {
   "cell_type": "code",
   "execution_count": null,
   "metadata": {},
   "outputs": [],
   "source": []
  }
 ],
 "metadata": {
  "kernelspec": {
   "display_name": "Python 3",
   "language": "python",
   "name": "python3"
  },
  "language_info": {
   "codemirror_mode": {
    "name": "ipython",
    "version": 3
   },
   "file_extension": ".py",
   "mimetype": "text/x-python",
   "name": "python",
   "nbconvert_exporter": "python",
   "pygments_lexer": "ipython3",
   "version": "3.5.4"
  }
 },
 "nbformat": 4,
 "nbformat_minor": 2
}
