{
 "cells": [
  {
   "cell_type": "markdown",
   "metadata": {},
   "source": [
    "# 재귀 호출 - Recursion"
   ]
  },
  {
   "cell_type": "markdown",
   "metadata": {},
   "source": [
    "## Q4. 팩토리얼 구하기"
   ]
  },
  {
   "cell_type": "markdown",
   "metadata": {},
   "source": [
    "### Factorial - 1\n",
    "연속한 숫자의 곱을 구하는 알고리즘\n",
    "- 입력 : n\n",
    "- 출력 : 1 부터 n까지 연속한 숫자를 곱한값, n!"
   ]
  },
  {
   "cell_type": "code",
   "execution_count": 2,
   "metadata": {},
   "outputs": [],
   "source": [
    "def factorial_01(n):\n",
    "    f = 1\n",
    "    for i in range(1, n+1):\n",
    "        f *= i\n",
    "    return f"
   ]
  },
  {
   "cell_type": "code",
   "execution_count": 3,
   "metadata": {},
   "outputs": [
    {
     "data": {
      "text/plain": [
       "120"
      ]
     },
     "execution_count": 3,
     "metadata": {},
     "output_type": "execute_result"
    }
   ],
   "source": [
    "factorial_01(5)"
   ]
  },
  {
   "cell_type": "markdown",
   "metadata": {},
   "source": [
    "### Factorial - 2\n",
    "재귀 호출을 이용한 factorial 구현\n",
    "- $n! = n \\times (n-1)!$"
   ]
  },
  {
   "cell_type": "code",
   "execution_count": 4,
   "metadata": {},
   "outputs": [],
   "source": [
    "def factorial(n):\n",
    "    if n <= 1:\n",
    "        return 1\n",
    "    return n * factorial(n-1)"
   ]
  },
  {
   "cell_type": "code",
   "execution_count": 5,
   "metadata": {},
   "outputs": [
    {
     "data": {
      "text/plain": [
       "120"
      ]
     },
     "execution_count": 5,
     "metadata": {},
     "output_type": "execute_result"
    }
   ],
   "source": [
    "factorial(5)"
   ]
  },
  {
   "cell_type": "markdown",
   "metadata": {},
   "source": [
    "### Q4-1. 1 부터 n까지의 합을 재귀 호출로 만들기"
   ]
  },
  {
   "cell_type": "code",
   "execution_count": 6,
   "metadata": {},
   "outputs": [],
   "source": [
    "def sum_n(n):\n",
    "    if n is 0:\n",
    "        return 0\n",
    "    return n + sum_n(n-1)"
   ]
  },
  {
   "cell_type": "code",
   "execution_count": 7,
   "metadata": {},
   "outputs": [
    {
     "data": {
      "text/plain": [
       "55"
      ]
     },
     "execution_count": 7,
     "metadata": {},
     "output_type": "execute_result"
    }
   ],
   "source": [
    "sum_n(10)"
   ]
  },
  {
   "cell_type": "markdown",
   "metadata": {},
   "source": [
    "### Q4-2. n개 중에서 최대값 찾기를 재귀 호출로 만들기"
   ]
  },
  {
   "cell_type": "code",
   "execution_count": 8,
   "metadata": {},
   "outputs": [],
   "source": [
    "def find_max(values):\n",
    "    if len(values) == 1:\n",
    "        return values[0]\n",
    "    max_v = values[0]\n",
    "    if max_v < find_max(values[1:]):\n",
    "        max_v = find_max(values[1:])\n",
    "    return max_v"
   ]
  },
  {
   "cell_type": "code",
   "execution_count": 9,
   "metadata": {},
   "outputs": [
    {
     "data": {
      "text/plain": [
       "92"
      ]
     },
     "execution_count": 9,
     "metadata": {},
     "output_type": "execute_result"
    }
   ],
   "source": [
    "values = [17, 92, 18, 33, 58, 7, 33, 42]\n",
    "\n",
    "find_max(values)"
   ]
  },
  {
   "cell_type": "markdown",
   "metadata": {},
   "source": [
    "---"
   ]
  },
  {
   "cell_type": "markdown",
   "metadata": {},
   "source": [
    "## Q5. 최대공약수(Greatest Common Divisor, GCD) 구하기\n",
    "두 개 이상의 정수의 공통 약수 중에서 가장 큰 값을 찾기\n",
    "\n",
    "1. 두 수 중 더 작은 값을 `i`에 저장\n",
    "2. `i`가 두 수의 공통된 약수인지 확인\n",
    "3. `i`가 공통된 약수이면 이 값을 결과값으로 출력\n",
    "4. `i`가 공통된 약수가 아니면 `i-1` 만큼 감소시키고 2번으로 돌아가 반복 (`1`은 모든 정수의 약수이므로 `i=1`이 되면 `1`을 출력하고 종료)"
   ]
  },
  {
   "cell_type": "markdown",
   "metadata": {},
   "source": [
    "### 최대공약수 - 1\n",
    "- 입력 : a, b\n",
    "- 출력 : a 와 b의 최대공약수"
   ]
  },
  {
   "cell_type": "code",
   "execution_count": 10,
   "metadata": {},
   "outputs": [],
   "source": [
    "def gcd_01(a, b):\n",
    "    i = min(a, b)\n",
    "    while True:\n",
    "        if a % i is 0 and b % i is 0:\n",
    "            return i\n",
    "        i -= 1"
   ]
  },
  {
   "cell_type": "code",
   "execution_count": 11,
   "metadata": {},
   "outputs": [
    {
     "data": {
      "text/plain": [
       "2"
      ]
     },
     "execution_count": 11,
     "metadata": {},
     "output_type": "execute_result"
    }
   ],
   "source": [
    "gcd_01(4, 6)"
   ]
  },
  {
   "cell_type": "markdown",
   "metadata": {},
   "source": [
    "### 최대공약수 - 2 (유클리드 알고리즘)\n",
    "\n",
    "- a와 b의 최대공약수는 `b`와 `a를 b로 나눈 나머지`의 최대공약수와 같다. 즉, `gcd(a, b) = gcd(b, a%b)`\n",
    "- 어떤 수와 0의 최대공약수는 자기자신이다. 즉, `gcd(n,0) = n`"
   ]
  },
  {
   "cell_type": "code",
   "execution_count": 12,
   "metadata": {},
   "outputs": [],
   "source": [
    "def gcd(a, b):\n",
    "    if b is 0:\n",
    "        return a\n",
    "    \n",
    "    return gcd(b, a % b)"
   ]
  },
  {
   "cell_type": "code",
   "execution_count": 13,
   "metadata": {},
   "outputs": [
    {
     "data": {
      "text/plain": [
       "2"
      ]
     },
     "execution_count": 13,
     "metadata": {},
     "output_type": "execute_result"
    }
   ],
   "source": [
    "gcd(4, 6)"
   ]
  },
  {
   "cell_type": "markdown",
   "metadata": {},
   "source": [
    "### Q5-1. 재귀호출을 이용한 피보나치 수열 구현 "
   ]
  },
  {
   "cell_type": "code",
   "execution_count": 14,
   "metadata": {},
   "outputs": [],
   "source": [
    "def fibonacci(n):\n",
    "    if n is 1:\n",
    "        return 0\n",
    "    if n is 2:\n",
    "        return 1\n",
    "    return fibonacci(n-1) + fibonacci(n-2)"
   ]
  },
  {
   "cell_type": "code",
   "execution_count": 15,
   "metadata": {},
   "outputs": [
    {
     "data": {
      "text/plain": [
       "8"
      ]
     },
     "execution_count": 15,
     "metadata": {},
     "output_type": "execute_result"
    }
   ],
   "source": [
    "fibonacci(7)"
   ]
  },
  {
   "cell_type": "markdown",
   "metadata": {},
   "source": [
    "---"
   ]
  },
  {
   "cell_type": "markdown",
   "metadata": {},
   "source": [
    "## Q6. 하노이의 탑 옮기기"
   ]
  },
  {
   "cell_type": "code",
   "execution_count": 16,
   "metadata": {},
   "outputs": [],
   "source": [
    "def hanoi(n, from_pos, to_pos, aux_pos):\n",
    "    if n is 1:\n",
    "        print('{} -> {}'.format(from_pos, to_pos))\n",
    "        return\n",
    "    \n",
    "    hanoi(n-1, from_pos, aux_pos, to_pos)\n",
    "    \n",
    "    print('{} -> {}'.format(from_pos, to_pos))\n",
    "    \n",
    "    hanoi(n-1, aux_pos, to_pos, from_pos)"
   ]
  },
  {
   "cell_type": "code",
   "execution_count": 18,
   "metadata": {},
   "outputs": [
    {
     "name": "stdout",
     "output_type": "stream",
     "text": [
      "1 -> 3\n"
     ]
    }
   ],
   "source": [
    "hanoi(n=1, from_pos=1, to_pos=3, aux_pos=2)"
   ]
  },
  {
   "cell_type": "code",
   "execution_count": 19,
   "metadata": {},
   "outputs": [
    {
     "name": "stdout",
     "output_type": "stream",
     "text": [
      "1 -> 2\n",
      "1 -> 3\n",
      "2 -> 3\n"
     ]
    }
   ],
   "source": [
    "hanoi(n=2, from_pos=1, to_pos=3, aux_pos=2)"
   ]
  },
  {
   "cell_type": "code",
   "execution_count": 20,
   "metadata": {},
   "outputs": [
    {
     "name": "stdout",
     "output_type": "stream",
     "text": [
      "1 -> 3\n",
      "1 -> 2\n",
      "3 -> 2\n",
      "1 -> 3\n",
      "2 -> 1\n",
      "2 -> 3\n",
      "1 -> 3\n"
     ]
    }
   ],
   "source": [
    "hanoi(n=3, from_pos=1, to_pos=3, aux_pos=2)"
   ]
  },
  {
   "cell_type": "code",
   "execution_count": null,
   "metadata": {},
   "outputs": [],
   "source": []
  }
 ],
 "metadata": {
  "kernelspec": {
   "display_name": "Python 3",
   "language": "python",
   "name": "python3"
  },
  "language_info": {
   "codemirror_mode": {
    "name": "ipython",
    "version": 3
   },
   "file_extension": ".py",
   "mimetype": "text/x-python",
   "name": "python",
   "nbconvert_exporter": "python",
   "pygments_lexer": "ipython3",
   "version": "3.5.4"
  }
 },
 "nbformat": 4,
 "nbformat_minor": 2
}
