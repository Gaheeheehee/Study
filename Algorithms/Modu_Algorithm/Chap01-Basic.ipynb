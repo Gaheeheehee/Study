{
 "cells": [
  {
   "cell_type": "markdown",
   "metadata": {},
   "source": [
    "## Q2. 최대값 찾기"
   ]
  },
  {
   "cell_type": "markdown",
   "metadata": {},
   "source": [
    "### 최대값 찾기 - 1\n",
    "- 입력 : 숫자가 n개 들어 있는 리스트\n",
    "- 출력 : 숫자 n개 중 최대값"
   ]
  },
  {
   "cell_type": "code",
   "execution_count": 1,
   "metadata": {},
   "outputs": [],
   "source": [
    "def find_max(values):\n",
    "    max_val = values[0]\n",
    "    for val in values:\n",
    "        if max_val < val:\n",
    "            max_val = val\n",
    "    return max_val"
   ]
  },
  {
   "cell_type": "code",
   "execution_count": 2,
   "metadata": {},
   "outputs": [
    {
     "data": {
      "text/plain": [
       "92"
      ]
     },
     "execution_count": 2,
     "metadata": {},
     "output_type": "execute_result"
    }
   ],
   "source": [
    "values = [17, 92, 18, 33, 58, 7, 33, 42]\n",
    "\n",
    "find_max(values)"
   ]
  },
  {
   "cell_type": "markdown",
   "metadata": {},
   "source": [
    "### 최대값 찾기 - 2\n",
    "- 입력: 숫자가 n개 들어 있는 리스트\n",
    "- 출력: 숫자 n개 중에서 최대값이 있는 위치(0부터 n-1까지의 값"
   ]
  },
  {
   "cell_type": "code",
   "execution_count": 3,
   "metadata": {},
   "outputs": [],
   "source": [
    "def find_max_idx(values):\n",
    "    max_val = values[0]\n",
    "    idx = 0\n",
    "    for i, val in enumerate(values):\n",
    "        if max_val < val:\n",
    "            max_val = val\n",
    "            idx = i\n",
    "    return idx"
   ]
  },
  {
   "cell_type": "code",
   "execution_count": 4,
   "metadata": {},
   "outputs": [
    {
     "data": {
      "text/plain": [
       "2"
      ]
     },
     "execution_count": 4,
     "metadata": {},
     "output_type": "execute_result"
    }
   ],
   "source": [
    "values = [17, 18, 92, 33, 58, 7, 33, 42]\n",
    "\n",
    "find_max_idx(values)"
   ]
  },
  {
   "cell_type": "markdown",
   "metadata": {},
   "source": [
    "## Q3. 동명이인 찾기"
   ]
  },
  {
   "cell_type": "markdown",
   "metadata": {},
   "source": [
    "두 번 이상 나온 이름 찾기\n",
    "- 입력 : 이름이 n개 들어 있는 리스트\n",
    "- 출력 : 이름이 n개 중 반복되는 이름의 집합"
   ]
  },
  {
   "cell_type": "code",
   "execution_count": 5,
   "metadata": {},
   "outputs": [],
   "source": [
    "def find_same_name(names):\n",
    "    name_set = set()\n",
    "    for i, name in enumerate(names):\n",
    "        if name in names[i+1:]:\n",
    "            name_set.add(name)\n",
    "    return name_set"
   ]
  },
  {
   "cell_type": "code",
   "execution_count": 6,
   "metadata": {},
   "outputs": [
    {
     "data": {
      "text/plain": [
       "{'Tom'}"
      ]
     },
     "execution_count": 6,
     "metadata": {},
     "output_type": "execute_result"
    }
   ],
   "source": [
    "names = ['Tom', 'Jerry', 'Mike', 'Tom']\n",
    "\n",
    "find_same_name(names)"
   ]
  },
  {
   "cell_type": "markdown",
   "metadata": {},
   "source": [
    "### Q3-1. n명 중 두 명을 뽑아 짝을 지을 수 있는 모든 조합 출력\n",
    "- 입력 : 이름이 n개 들어있는 리스트\n",
    "- 출력 : 두 명씩 짝지을 수 있는 모든 조합\n",
    "- 예시 : `['Tom', 'Jerry', 'Mike']`일 경우 `Tom - Jerry`, `Tom - Mike`, `Jerry - Mike` 출력"
   ]
  },
  {
   "cell_type": "code",
   "execution_count": 7,
   "metadata": {},
   "outputs": [],
   "source": [
    "def find_pair(names):\n",
    "    pairs = []\n",
    "    for i, name in enumerate(names):\n",
    "        for n in names[i+1:]:\n",
    "            pairs.append((name, n))\n",
    "    return pairs"
   ]
  },
  {
   "cell_type": "code",
   "execution_count": 8,
   "metadata": {},
   "outputs": [
    {
     "data": {
      "text/plain": [
       "[('Tom', 'Jerry'), ('Tom', 'Mike'), ('Jerry', 'Mike')]"
      ]
     },
     "execution_count": 8,
     "metadata": {},
     "output_type": "execute_result"
    }
   ],
   "source": [
    "names = ['Tom', 'Jerry', 'Mike']\n",
    "\n",
    "find_pair(names)"
   ]
  }
 ],
 "metadata": {
  "kernelspec": {
   "display_name": "Python 3",
   "language": "python",
   "name": "python3"
  },
  "language_info": {
   "codemirror_mode": {
    "name": "ipython",
    "version": 3
   },
   "file_extension": ".py",
   "mimetype": "text/x-python",
   "name": "python",
   "nbconvert_exporter": "python",
   "pygments_lexer": "ipython3",
   "version": "3.5.4"
  }
 },
 "nbformat": 4,
 "nbformat_minor": 2
}
