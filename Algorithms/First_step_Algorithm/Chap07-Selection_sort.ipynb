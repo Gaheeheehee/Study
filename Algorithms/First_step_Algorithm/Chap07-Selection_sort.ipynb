{
 "cells": [
  {
   "cell_type": "markdown",
   "metadata": {},
   "source": [
    "# Chap07 - 단순 선택법(선택 정렬)"
   ]
  },
  {
   "cell_type": "markdown",
   "metadata": {},
   "source": [
    "## 1. 단순 선택법 개념 이해하기\n",
    "\n",
    "단순 선택법은 졍렬되어 있지 않은 데이터 중 가장 작은 데이터를 선택하여 맨 앞부터 순서대로 정렬해 나가는 알고리즘으로써 *'선택 정렬(Selection sort)'* 라고도 한다. <br />\n",
    "\n",
    "예를 들어 아래의 표 처럼 5개의 배열(array)에 `[12, 13, 11, 14, 10]`이 있다고 해보자.\n",
    "\n",
    "![](./images/selection_sort01.png)\n",
    "\n",
    "위의 배열을 선택 정렬 알고리즘을 이용하여 오름차순으로 정렬해보자.  <br />\n",
    "\n",
    "선택 정렬 알고리즘은 \n",
    "\n",
    "- 먼저, 가장 작은 숫자를 찾는다. \n",
    "- 그런 다음 가장 작은 숫자를 첫 번째 index의 공과 위치를 바꿔 준다.  \n",
    "\n",
    "위의 두 가지 동작을 반복하면서 모든 숫자가 정렬될 때까지 반복하는 알고리즘이다. 다음 그림을 통해 선택 정렬 알고리즘을 알아보도록 하자.\n",
    "\n",
    "![](./images/selection_sort02.png)\n",
    "\n",
    "![](./images/selection_sort03.png)\n",
    "\n",
    "![](./images/selection_sort04.png)\n",
    "\n",
    "![](./images/selection_sort05.png)\n",
    "\n",
    "위의 그림 처럼 해당 단계마다 가장 작은 숫자를 찾아 정렬이 되지 않은 index의 위치와 숫자를 바꿔주면 된다. \n"
   ]
  },
  {
   "cell_type": "markdown",
   "metadata": {},
   "source": [
    "## 2. 단순 선택법 알고리즘\n",
    "\n",
    "단순 선택법(선택 정렬)은 다음과 같이 두 가지 절차로 구성되어 있다.\n",
    "\n",
    "- 1) 탐색 범위의 최소값을 찾는 처리\n",
    "- 2) 탐색 범위의 최소값을 맨 앞의 요소와 교환하는 처리\n"
   ]
  },
  {
   "cell_type": "markdown",
   "metadata": {},
   "source": [
    "### 1) 배열에서 최소값 찾기\n",
    "\n",
    "배열에서 최소값을 찾는 방법은 배열의 길이만큼(length) 순환하면서 각 데이터를 차례대로 2개씩 비교하면 된다. 여기서는 최소값이아닌 최소값의 위치 즉, index를 찾아야 한다."
   ]
  },
  {
   "cell_type": "markdown",
   "metadata": {},
   "source": [
    "### 2) 최소값의 위치를 교환하는 처리\n",
    "\n",
    "이제 최소값의 위치를 찾았으므로, 이 최소값을 위의 그림처럼 맨 앞의 index와 위치를 교환해주는 처리가 필요하다. \n"
   ]
  },
  {
   "cell_type": "markdown",
   "metadata": {},
   "source": [
    "## 3. 단순 선택법을 순서도로 나타내기\n",
    "\n",
    "위의 2번에서의 1), 2) 과정을 일반화 하여 순서도로 나타내 보자."
   ]
  },
  {
   "cell_type": "markdown",
   "metadata": {},
   "source": [
    "## 4. 의사코드로 나타내기\n",
    "\n",
    "이제 파이썬 코드로 구현하기에 앞서, 의사코드를 알아보도록 하자.\n",
    "\n",
    "```\n",
    "input: array\n",
    "\n",
    "let i = 0\n",
    "for i in length(array)-1:\n",
    "\tmin_index = i\n",
    "\tfor k in (i+1 to length(array)):\n",
    "\t\tif array[k] < array[min_index]:\n",
    "\t\t\tmin_index = k\n",
    "\ttmp = array[i]\n",
    "\tarray[i] = array[min_index]\n",
    "\tarray[min_index] = tmp\n",
    "```"
   ]
  },
  {
   "cell_type": "markdown",
   "metadata": {},
   "source": [
    "## 5. 파이썬 코드로 구현하기\n",
    "\n",
    "아래의 코드는 선택 정렬 알고리즘을 파이썬 코드로 구현한 것이다.\n"
   ]
  },
  {
   "cell_type": "code",
   "execution_count": 1,
   "metadata": {},
   "outputs": [],
   "source": [
    "def selection_sort(arr):\n",
    "    for i in range(len(arr)-1):\n",
    "        min_index = i\n",
    "        # 최소값 찾는 처리\n",
    "        for k in range(i+1, len(arr)):\n",
    "            if arr[k] < arr[min_index]:\n",
    "                min_index = k\n",
    "        # 최소값의 위치를 바꿔주는 처리\n",
    "        tmp = arr[i]\n",
    "        arr[i] = arr[min_index]\n",
    "        arr[min_index] = tmp\n",
    "    return arr"
   ]
  },
  {
   "cell_type": "code",
   "execution_count": 2,
   "metadata": {},
   "outputs": [
    {
     "name": "stdout",
     "output_type": "stream",
     "text": [
      "[10, 11, 12, 13, 14]\n"
     ]
    }
   ],
   "source": [
    "test = [12, 13, 11, 14, 10]\n",
    "\n",
    "print(selection_sort(test))"
   ]
  },
  {
   "cell_type": "code",
   "execution_count": null,
   "metadata": {},
   "outputs": [],
   "source": []
  },
  {
   "cell_type": "code",
   "execution_count": null,
   "metadata": {},
   "outputs": [],
   "source": []
  }
 ],
 "metadata": {
  "kernelspec": {
   "display_name": "Python 3",
   "language": "python",
   "name": "python3"
  },
  "language_info": {
   "codemirror_mode": {
    "name": "ipython",
    "version": 3
   },
   "file_extension": ".py",
   "mimetype": "text/x-python",
   "name": "python",
   "nbconvert_exporter": "python",
   "pygments_lexer": "ipython3",
   "version": "3.5.4"
  }
 },
 "nbformat": 4,
 "nbformat_minor": 2
}
