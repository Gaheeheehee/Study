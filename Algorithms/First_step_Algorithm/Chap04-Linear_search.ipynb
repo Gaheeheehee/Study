{
 "cells": [
  {
   "cell_type": "markdown",
   "metadata": {},
   "source": [
    "# Chap04 - 선형 탐색법(리니어 서치)"
   ]
  },
  {
   "cell_type": "markdown",
   "metadata": {},
   "source": [
    "예를 들어 아래의 표와 같이  5개의 칸으로 나누어진 상자(0~4 라고 적힌)가 있고, 숫자가 적힌 공이 상자에 하나씩 들어있다고 해보자. <br />\n",
    "\n",
    "이 상자들 중 *5라고 적힌* *공* 을 선형 탐색법을 이용하여 찾으려고 한다. 방법은 매우 간단하다! 왼쪽에서 부터 오른쪽( 상자 0 $\\rightarrow$ 4 방향) 방향으로 순서대로 하나씩 확인해 가면 된다.    \n",
    "\n",
    "|  index   |  0   |  1   |  2   |  3   |  4   |\n",
    "| :------: | :--: | :--: | :--: | :--: | :--: |\n",
    "| 숫자가 적힌 공 |  4   |  2   |  3   |  5   |  1   |\n",
    "\n",
    "이렇듯 선형 탐색법은 매우 간단 하지만 단점이 있다. 만약 찾는 공이 앞쪽에 있으면 (위의 예시의 경우 4라고 적힌 공) 짧은 시간에 탐색할 수 있지만, 만약 찾고자 하는 공이 뒤에 있거나 없는 경우 탐색하는데 시간이 오래 걸리게 된다. 따라서, 선형 탐색법은 이해하기에는 쉬운 알고리즘이지만, 효율은 좋지 못하다."
   ]
  },
  {
   "cell_type": "markdown",
   "metadata": {},
   "source": [
    "## 2. 선형 탐색법 알고리즘"
   ]
  },
  {
   "cell_type": "markdown",
   "metadata": {},
   "source": [
    "### 2.1 순서도(Flow Chart) 로 작성하기\n",
    "\n",
    "위에서 선형 탐색법의 개념을 이해 했으니, 이제 순서도(flow chart)를 이용해서 선형탐색법을 나타내 보자.\n",
    "![](./images/linear_search.png)"
   ]
  },
  {
   "cell_type": "markdown",
   "metadata": {},
   "source": [
    "### 2.2 의사코드로 나타내기(Pseudocode)\n",
    "\n",
    "이번에는 의사코드(pseudocode)를 이용해 선형 탐색법 알고리즘을 나타내 보자.\n",
    "\n",
    "```\n",
    "input: array[5] = [4, 2, 3, 5, 1]\n",
    "\n",
    "let i = 0\n",
    "for each array[i] in array:\n",
    "\tif array[i] is 5:\n",
    "\t\tprint \"i 번째의 요소가 일치\" then finish\n",
    "\ti = i + 1\n",
    "\telse:\n",
    "\t\tprint 'Nout Found'\n",
    "```"
   ]
  },
  {
   "cell_type": "markdown",
   "metadata": {},
   "source": [
    "### 2.3 선형 탐색 알고리즘을 파이썬으로 나타내기\n",
    "\n",
    "순서도와 의사코드로 선형 탐색법 알고리즘을 나타냈으니, 이번에는 파이썬을 이용해서 실제로 동작하도록 구현 해보자. <br />\n",
    "\n",
    "선형 탐색 알고리즘 구현은 `linear_search` 라는 함수로 구현하였다. 코드는 아래와 같다."
   ]
  },
  {
   "cell_type": "code",
   "execution_count": 1,
   "metadata": {},
   "outputs": [],
   "source": [
    "def linear_search(array, target):\n",
    "    '''Linear Search Algorithm\n",
    "        - input : list of numbers\n",
    "        - return: \n",
    "            if exist return list index\n",
    "            if doesn't exist return Not Found '''\n",
    "    for i, num in enumerate(array):\n",
    "        if num is target:\n",
    "            return i\n",
    "    return 'Not Found'"
   ]
  },
  {
   "cell_type": "code",
   "execution_count": 2,
   "metadata": {},
   "outputs": [
    {
     "name": "stdout",
     "output_type": "stream",
     "text": [
      "3 번째의 index와 일치\n"
     ]
    }
   ],
   "source": [
    "array = [4, 2, 3, 5, 1]\n",
    "\n",
    "idx = linear_search(array, 5)\n",
    "\n",
    "print('{} 번째의 index와 일치'.format(idx))"
   ]
  }
 ],
 "metadata": {
  "kernelspec": {
   "display_name": "Python 3",
   "language": "python",
   "name": "python3"
  },
  "language_info": {
   "codemirror_mode": {
    "name": "ipython",
    "version": 3
   },
   "file_extension": ".py",
   "mimetype": "text/x-python",
   "name": "python",
   "nbconvert_exporter": "python",
   "pygments_lexer": "ipython3",
   "version": "3.5.4"
  }
 },
 "nbformat": 4,
 "nbformat_minor": 2
}
